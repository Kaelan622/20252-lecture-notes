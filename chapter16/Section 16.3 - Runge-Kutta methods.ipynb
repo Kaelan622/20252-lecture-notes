{
 "cells": [
  {
   "cell_type": "markdown",
   "metadata": {},
   "source": [
    "---\n",
    "Some useful $\\LaTeX$ commands are defined in this cell:\n",
    "$$\n",
    "\\newcommand{\\abs}[1]{\\left\\lvert#1\\right\\rvert}\n",
    "\\newcommand{\\norm}[1]{\\left\\lVert#1\\right\\rVert}\n",
    "\\newcommand{\\set}[1]{\\left\\{#1\\right\\}}\n",
    "\\newcommand{\\paren}[1]{\\left(#1\\right)}\n",
    "\\newcommand{\\brack}[1]{\\left[#1\\right]}\n",
    "\\newcommand{\\ip}[2]{\\left\\langle#1,#2\\right\\rangle}\n",
    "\\DeclareMathOperator{\\span}{span}\n",
    "\\DeclareMathOperator{\\fl}{fl}\n",
    "\\abs{x}, \\norm{x}, \\set{x}, \\paren{x}, \\brack{x}, \\ip{x}{y}, \\span, \\fl\n",
    "$$\n",
    "\n",
    "---"
   ]
  },
  {
   "cell_type": "markdown",
   "metadata": {},
   "source": [
    "---\n",
    "# 16.3 Runge-Kutta methods\n",
    "---"
   ]
  },
  {
   "cell_type": "markdown",
   "metadata": {},
   "source": [
    "We now consider higher-order numerical methods for solving the **initial value ODE problem**:\n",
    "\n",
    "$$ \\frac{dy}{dt} = f(t, y), \\quad a \\leq t \\leq b, \\quad y(a) = c. $$\n",
    "\n",
    "We approximate the function $y(t)$ that solves this ODE at evenly spaced points $a = t_0 < t_1 < \\cdots < t_N = b$, where \n",
    "\n",
    "$$h = \\frac{b - a}{N}, \\quad t_i = a + ih, \\quad i = 0, 1, \\ldots, N.$$\n",
    "\n",
    "Thus, we will compute $y_i$ such that $y_i \\approx y(t_i)$, for all $i$."
   ]
  },
  {
   "cell_type": "markdown",
   "metadata": {},
   "source": [
    "---"
   ]
  },
  {
   "cell_type": "markdown",
   "metadata": {},
   "source": [
    "Recall that both the _explicit_ **forward Euler** method,\n",
    "\n",
    "$$ \n",
    "\\begin{align}\n",
    "y_0 &= c,\\\\\n",
    "y_{i+1} &= y_i + hf(t_i, y_i), \\quad i = 0, 1, \\ldots, N-1,\n",
    "\\end{align}\n",
    "$$\n",
    "\n",
    "and the _implicit_ **backward Euler** method,\n",
    "\n",
    "$$ \n",
    "\\begin{align}\n",
    "y_0 &= c,\\\\\n",
    "y_{i+1} &= y_i + hf(t_{i+1}, y_{i+1}), \\quad i = 0, 1, \\ldots, N-1,\n",
    "\\end{align}\n",
    "$$\n",
    "\n",
    "are **first order accurate** since the _local truncation error_ $d_i$ at each step is $\\mathcal{O}(h)$ and the _global error_ is also $\\mathcal{O}(h)$:\n",
    "\n",
    "$$ \\abs{e_i} = \\abs{y(t_i) - y_i} = \\mathcal{O}(h), \\quad i = 0, 1, \\ldots, N.$$\n",
    "\n",
    "We will now see some $\\mathcal{O}(h^2)$ Runge-Kutta methods, and the celebrated $\\mathcal{O}(h^4)$ Runge-Kutta method:  **`RK4`**."
   ]
  },
  {
   "cell_type": "markdown",
   "metadata": {},
   "source": [
    "---"
   ]
  },
  {
   "cell_type": "markdown",
   "metadata": {},
   "source": [
    "## Runge-Kutta trapezoidal methods\n",
    "\n",
    "First we observe that \n",
    "\n",
    "$$\\int_{t_i}^{t_{i+1}} f(t, y(t))\\,dt = \\int_{t_i}^{t_{i+1}} y'(t)\\,dt = y(t_{i+1}) - y(t_i).$$\n",
    "\n",
    "Therefore, we have\n",
    "\n",
    "$$ y(t_{i+1}) = y(t_i) + \\int_{t_i}^{t_{i+1}} f(t, y(t))\\,dt.$$\n",
    "\n",
    "The **trapezoidal rule** can be used to approximate the integral:\n",
    "\n",
    "$$\\int_{t_i}^{t_{i+1}} f(t, y(t))\\,dt = \\frac{h}{2}\\brack{f(t_i,y(t_i)) + f(t_{i+1},y(t_{i+1}))} + \\mathcal{O}(h^3).$$\n",
    "\n",
    "Thus, we have\n",
    "\n",
    "$$ y(t_{i+1}) = y(t_i) + \\frac{h}{2}\\brack{f(t_i,y(t_i)) + f(t_{i+1},y(t_{i+1}))} + \\mathcal{O}(h^3).$$"
   ]
  },
  {
   "cell_type": "markdown",
   "metadata": {},
   "source": [
    "Recall that the **local truncation error**, $d_i$, is the amount by which the exact solution $y(t)$ fails to satisfy the difference equation, written in divided difference form, at integration step $i$.\n",
    "\n",
    "Thus, we have that\n",
    "\n",
    "$$d_i = \\frac{y(t_{i+1}) - y(t_i)}{h} - \\frac{1}{2}\\brack{f(t_i,y(t_i)) + f(t_{i+1},y(t_{i+1}))} = \\mathcal{O}(h^2).$$"
   ]
  },
  {
   "cell_type": "markdown",
   "metadata": {},
   "source": [
    "### An implicit trapezoidal method\n",
    "\n",
    "Given an approximation $y_i$ for $y(t_i)$, we can define an approximation $y_{i+1}$ for $y(t_{i+1})$ **implicitly** by:\n",
    "\n",
    "$$ y_{i+1} = y_i + \\frac{h}{2}\\brack{f(t_i,y_i) + f(t_{i+1},y_{i+1})}.$$\n",
    "\n",
    "By the above, this implicit method is **second order accurate**."
   ]
  },
  {
   "cell_type": "markdown",
   "metadata": {},
   "source": [
    "### An explicit trapezoidal method\n",
    "\n",
    "To obtain an **explicit** method, we can replace $y_{i+1}$ by the forward Euler approximation $y_i + h f(t_i,y_i):$\n",
    "\n",
    "$$\n",
    "K_1 = f(t_i,y_i)\n",
    "$$\n",
    "\n",
    "$$\n",
    "K_2 = f(t_{i+1}, y_i + hK_1)\n",
    "$$\n",
    "\n",
    "$$\n",
    "y_{i+1} = y_i + \\frac{h}{2}\\brack{K_1 + K_2}\n",
    "$$\n",
    "\n",
    "We will see that this explicit method is **second order accurate**."
   ]
  },
  {
   "cell_type": "markdown",
   "metadata": {},
   "source": [
    "---"
   ]
  },
  {
   "cell_type": "markdown",
   "metadata": {},
   "source": [
    "## An implementation of the RK Explicit Trapezoidal method"
   ]
  },
  {
   "cell_type": "code",
   "execution_count": 3,
   "metadata": {},
   "outputs": [
    {
     "data": {
      "text/plain": [
       "rktrap (generic function with 1 method)"
      ]
     },
     "execution_count": 3,
     "metadata": {},
     "output_type": "execute_result"
    }
   ],
   "source": [
    "function rktrap(f, a, b, y0, N)\n",
    "    \n",
    "    h = (b - a)/N\n",
    "\n",
    "    tt = range(a, b, length=N+1)\n",
    "    yy = zeros(N+1)\n",
    "    yy[1] = y0\n",
    "\n",
    "    for i = 1:N\n",
    "        K1 = f(tt[i], yy[i])\n",
    "        K2 = f(tt[i+1], yy[i] + h*K1)\n",
    "        K  = (K1 + K2)/2\n",
    "        yy[i+1] = yy[i] + h*K\n",
    "    end\n",
    "    \n",
    "    return tt, yy\n",
    "end"
   ]
  },
  {
   "cell_type": "markdown",
   "metadata": {},
   "source": [
    "We can similarly implement Euler's method."
   ]
  },
  {
   "cell_type": "code",
   "execution_count": 4,
   "metadata": {},
   "outputs": [
    {
     "data": {
      "text/plain": [
       "euler (generic function with 1 method)"
      ]
     },
     "execution_count": 4,
     "metadata": {},
     "output_type": "execute_result"
    }
   ],
   "source": [
    "function euler(f, a, b, y0, N)\n",
    "    \n",
    "    h = (b - a)/N\n",
    "\n",
    "    tt = range(a, b, length=N+1)\n",
    "    yy = zeros(N+1)\n",
    "    yy[1] = y0\n",
    "\n",
    "    for i = 1:N\n",
    "        K1 = f(tt[i], yy[i])\n",
    "        yy[i+1] = yy[i] + h*K1\n",
    "    end\n",
    "    \n",
    "    return tt, yy\n",
    "end"
   ]
  },
  {
   "cell_type": "markdown",
   "metadata": {},
   "source": [
    "---"
   ]
  },
  {
   "cell_type": "markdown",
   "metadata": {},
   "source": [
    "## Example\n",
    "\n",
    "Consider the ODE\n",
    "\n",
    "$$\\frac{dy}{dt} = -5y + 5t^2 + 2t, \\quad 0 \\leq t \\leq 1, \\quad y(0) = 1.$$\n",
    "\n",
    "The exact solution to this ODE is\n",
    "\n",
    "$$y(t) = t^2 + e^{-5t}.$$\n"
   ]
  },
  {
   "cell_type": "code",
   "execution_count": 5,
   "metadata": {},
   "outputs": [
    {
     "data": {
      "text/plain": [
       "ytrue (generic function with 1 method)"
      ]
     },
     "execution_count": 5,
     "metadata": {},
     "output_type": "execute_result"
    }
   ],
   "source": [
    "#####################################################\n",
    "# Define the ODE and the true solution\n",
    "f(t, y) = -5y + 5t^2 + 2t\n",
    "a, b, y0 = 0, 1, 1\n",
    "ytrue(t) = t.^2 + exp.(-5t)"
   ]
  },
  {
   "cell_type": "code",
   "execution_count": 6,
   "metadata": {},
   "outputs": [
    {
     "name": "stdout",
     "output_type": "stream",
     "text": [
      "     N        h    euler error   rktrap error\n",
      "     1    1e+00       5.01e+00       1.10e+01\n",
      "    10    1e-01       1.33e-01       2.68e-02\n",
      "   100    1e-02       1.07e-02       1.93e-04\n",
      "  1000    1e-03       1.05e-03       1.87e-06\n",
      " 10000    1e-04       1.05e-04       1.86e-08\n"
     ]
    }
   ],
   "source": [
    "using Printf\n",
    "\n",
    "@printf \"%6s %8s %14s %14s\\n\" \"N\" \"h\" \"euler error\" \"rktrap error\"\n",
    "for k = 0:4\n",
    "    N = 10^k\n",
    "    h = (b - a)/N\n",
    "\n",
    "    tt, yy1 = euler(f, a, b, y0, N)\n",
    "    abserr1 = abs.(yy1 - ytrue(tt))\n",
    "    \n",
    "    tt, yy2 = rktrap(f, a, b, y0, N)\n",
    "    abserr2 = abs.(yy2 - ytrue(tt))\n",
    "\n",
    "    @printf(\"%6d %8.0e %14.2e %14.2e\\n\", N, h,\n",
    "        maximum(abserr1), maximum(abserr2))\n",
    "end"
   ]
  },
  {
   "cell_type": "code",
   "execution_count": 7,
   "metadata": {},
   "outputs": [
    {
     "data": {
      "text/plain": [
       "(5.2454446081207085e-5, 1.860154380528556e-8)"
      ]
     },
     "execution_count": 7,
     "metadata": {},
     "output_type": "execute_result"
    }
   ],
   "source": [
    "tt1, yy1 = euler(f, a, b, y0, 20000)  # f(t,y) called 20000 times\n",
    "tt2, yy2 = rktrap(f, a, b, y0, 10000) # f(t,y) called 20000 times\n",
    "\n",
    "maximum(abs.(yy1 - ytrue(tt1))), maximum(abs.(yy2 - ytrue(tt2)))"
   ]
  },
  {
   "cell_type": "code",
   "execution_count": 8,
   "metadata": {},
   "outputs": [
    {
     "data": {
      "image/png": "[encoded data removed]",
      "text/plain": [
       "Figure(PyObject <Figure size 640x480 with 2 Axes>)"
      ]
     },
     "metadata": {},
     "output_type": "display_data"
    }
   ],
   "source": [
    "using PyPlot\n",
    "\n",
    "N = 10\n",
    "\n",
    "tt = range(a, b, length=100)\n",
    "\n",
    "tt1, yy1 = euler(f, a, b, y0, 2*N)  # f(t,y) called 2N times\n",
    "tt2, yy2 = rktrap(f, a, b, y0, N)   # f(t,y) called 2N times\n",
    "abserr1 = abs.(yy1 - ytrue(tt1))\n",
    "abserr2 = abs.(yy2 - ytrue(tt2))\n",
    "\n",
    "subplot(2, 1, 1)\n",
    "plot(tt, ytrue(tt), \"k\", label=\"True solution\")\n",
    "plot(tt1, yy1, \".-g\", label=\"euler approx.\")\n",
    "plot(tt2, yy2, \".-r\", label=\"rktrap approx.\")\n",
    "legend(loc=\"best\")\n",
    "\n",
    "subplot(2, 1, 2)\n",
    "plot(tt1, abserr1, \".-g\", label=\"euler error\")\n",
    "plot(tt2, abserr2, \".-r\", label=\"rktrap error\")\n",
    "legend(loc=\"best\");"
   ]
  },
  {
   "cell_type": "markdown",
   "metadata": {},
   "source": [
    "So even when both Euler's method and the RK Explicit Trapezoidal method are evaluating $f(t,y)$ the same number of times, the RK method is clearly more accurate."
   ]
  },
  {
   "cell_type": "markdown",
   "metadata": {},
   "source": [
    "---"
   ]
  },
  {
   "cell_type": "markdown",
   "metadata": {},
   "source": [
    "## RK explicit trapezoidal method is second order accurate"
   ]
  },
  {
   "cell_type": "markdown",
   "metadata": {},
   "source": [
    "Recall that the RK explicit trapezoidal method is given by:\n",
    "\n",
    "$$\n",
    "K_1 = f(t_i,y_i)\n",
    "$$\n",
    "\n",
    "$$\n",
    "K_2 = f(t_{i+1}, y_i + hK_1)\n",
    "$$\n",
    "\n",
    "$$\n",
    "y_{i+1} = y_i + \\frac{h}{2}\\brack{K_1 + K_2}\n",
    "$$\n",
    "\n",
    "As a single equation, we have\n",
    "\n",
    "$$\n",
    "y_{i+1} = y_i + \\frac{h}{2} \\brack{ f(t_i, y_i) + f(t_{i+1}, y_i + h f(t_i, y_i)) }.\n",
    "$$\n"
   ]
  },
  {
   "cell_type": "markdown",
   "metadata": {},
   "source": [
    "Therefore, the truncation error is given by\n",
    "\n",
    "$$\n",
    "d_i = \n",
    "\\frac{y(t_{i+1}) - y(t_i)}{h} - \\frac12\\brack{ f(t_i, y(t_i)) + f(t_{i+1}, y(t_i) + h f(t_i, y(t_i)))}.\n",
    "$$\n",
    "\n",
    "We will show that $d_i = \\mathcal{O}(h^2)$."
   ]
  },
  {
   "cell_type": "markdown",
   "metadata": {},
   "source": [
    "First, we will need the following Taylor expansion of $y(t)$:\n",
    "\n",
    "$$\n",
    "y(t_{i+1}) = y(t_i) + h y'(t_i) + \\frac{h^2}{2} y''(t_i) + \\mathcal{O}(h^3)\n",
    "$$\n",
    "\n",
    "Thus,\n",
    "\n",
    "$$\n",
    "\\frac{y(t_{i+1}) - y(t_i)}{h} =  y'(t_i) + \\frac{h}{2} y''(t_i) + \\mathcal{O}(h^2).\n",
    "$$"
   ]
  },
  {
   "cell_type": "markdown",
   "metadata": {},
   "source": [
    "By the **Chain rule**, $y'(t) = f(t,y)$ implies that\n",
    "\n",
    "\\begin{align}\n",
    "y''(t) = \\frac{d}{dt} f(t,y)\n",
    "&= \\frac{\\partial f}{\\partial t} \\frac{dt}{dt} + \\frac{\\partial f}{\\partial y} \\frac{dy}{dt} \\\\\n",
    "&= \\frac{\\partial f}{\\partial t} + \\frac{\\partial f}{\\partial y} y'(t).\n",
    "\\end{align}"
   ]
  },
  {
   "cell_type": "markdown",
   "metadata": {},
   "source": [
    "We will also need the **Multivariable Taylor Expansion** which states that if $f \\colon \\mathbb{R}^2 \\to \\mathbb{R}$ is differentiable, then\n",
    "\n",
    "$$ f(\\mathbf{x} + \\mathbf{p}) = f(\\mathbf{x}) + \\nabla f(\\mathbf{x})^T \\mathbf{p} + \\mathcal{O}(\\norm{\\mathbf{p}}^2),$$\n",
    "\n",
    "where $\\nabla f(\\mathbf{x})$ is the **gradient of $f$**:\n",
    "\n",
    "$$\n",
    "\\nabla f(\\mathbf{x}) = \n",
    "\\begin{bmatrix} \n",
    "\\frac{\\partial f(\\mathbf{x})}{\\partial x_1} \\\\\n",
    "\\frac{\\partial f(\\mathbf{x})}{\\partial x_2}\n",
    "\\end{bmatrix}.\n",
    "$$"
   ]
  },
  {
   "cell_type": "markdown",
   "metadata": {},
   "source": [
    "Thus, we have that\n",
    "\n",
    "$$f(t + ah, y + bh) = f(t,y) + \\frac{\\partial f(t,y)}{\\partial t}ah + \\frac{\\partial f(t,y)}{\\partial y}bh + \\mathcal{O}(h^2).$$\n",
    "\n",
    "In particular,\n",
    "\n",
    "$$\n",
    "\\begin{split}\n",
    "f\\paren{t_{i+1}, y(t_i) + h f(t_i, y(t_i))} \n",
    "& = f\\paren{t_i + h, y(t_i) + h y'(t_i)} \\\\\n",
    "& = f(t_i, y(t_i)) + \\frac{\\partial f(t_i, y(t_i))}{\\partial t} h + \\frac{\\partial f(t_i, y(t_i))}{\\partial y} h y'(t_i) + \\mathcal{O}(h^2)\\\\\n",
    "& = y'(t_i) + y''(t_i) h + \\mathcal{O}(h^2).\\\\\n",
    "\\end{split}\n",
    "$$"
   ]
  },
  {
   "cell_type": "markdown",
   "metadata": {},
   "source": [
    "Okay, let's put this all together:\n",
    "\n",
    "$$\n",
    "\\begin{split}\n",
    "d_i \n",
    "& = \\frac{y(t_{i+1}) - y(t_i)}{h} - \\frac12\\brack{ f(t_i, y(t_i)) + f\\paren{t_{i+1}, y(t_i) + h f(t_i, y(t_i))}} \\\\\n",
    "& = y'(t_i) + \\frac{h}{2} y''(t_i) - \\frac12\\brack{ y'(t_i) + y'(t_i) + y''(t_i) h} + \\mathcal{O}(h^2) \\\\\n",
    "& = 0 + \\mathcal{O}(h^2)\\\\\n",
    "& = \\mathcal{O}(h^2).\n",
    "\\end{split}\n",
    "$$\n",
    "\n",
    "Therefore, we have that\n",
    "\n",
    "$$\n",
    "\\max_i \\abs{d_i} = \\mathcal{O}(h^2),\n",
    "$$\n",
    "\n",
    "so the **RK explicit trapezoidal** method is **second order accurate**.\n",
    "\n"
   ]
  },
  {
   "cell_type": "markdown",
   "metadata": {},
   "source": [
    "---"
   ]
  },
  {
   "cell_type": "markdown",
   "metadata": {},
   "source": [
    "## Runge-Kutta midpoint methods\n",
    "\n",
    "Recall that\n",
    "\n",
    "$$ y(t_{i+1}) = y(t_i) + \\int_{t_i}^{t_{i+1}} f(t, y(t))\\,dt.$$\n",
    "\n",
    "We now approximate the integral using the **midpoint rule**:\n",
    "\n",
    "$$\\int_{t_i}^{t_{i+1}} f(t, y(t))\\,dt = \n",
    "h f(t_{i+1/2},y(t_{i+1/2})) + \\mathcal{O}(h^3),\n",
    "$$\n",
    "\n",
    "where $t_{i+1/2} = t_i + h/2$.\n",
    "\n",
    "Thus, we have\n",
    "\n",
    "$$ y(t_{i+1}) = y(t_i) + h f(t_{i+1/2},y(t_{i+1/2})) + \\mathcal{O}(h^3).$$"
   ]
  },
  {
   "cell_type": "markdown",
   "metadata": {},
   "source": [
    "In this case, the **local truncation error** is given by\n",
    "\n",
    "$$d_i = \\frac{y(t_{i+1}) - y(t_i)}{h} - f(t_{i+1/2},y(t_{i+1/2})) = \\mathcal{O}(h^2).$$"
   ]
  },
  {
   "cell_type": "markdown",
   "metadata": {},
   "source": [
    "### An implicit midpoint method\n",
    "\n",
    "Given an approximation $y_i$ for $y(t_i)$, we can define an approximation $y_{i+1}$ for $y(t_{i+1})$ **implicitly** by:\n",
    "\n",
    "$$ y_{i+1} = y_i + h f(t_{i+1/2},y_{i+1/2}),$$\n",
    "\n",
    "where \n",
    "\n",
    "$$y_{i+1/2} = \\frac{y_i + y_{i+1}}{2}.$$\n",
    "\n",
    "This implicit method is **second order accurate**."
   ]
  },
  {
   "cell_type": "markdown",
   "metadata": {},
   "source": [
    "### An explicit midpoint method\n",
    "\n",
    "To obtain an **explicit** method, we can replace $y_{i+1/2}$ by the forward Euler approximation $y_i + \\frac{h}{2} f(t_i,y_i):$\n",
    "\n",
    "$$\n",
    "K_1 = f(t_i,y_i)\n",
    "$$\n",
    "\n",
    "$$\n",
    "K_2 = f\\paren{t_{i+1/2}, y_i + \\frac{h}{2}K_1}\n",
    "$$\n",
    "\n",
    "$$\n",
    "y_{i+1} = y_i + hK_2\n",
    "$$\n",
    "\n",
    "This explicit method is also **second order accurate**."
   ]
  },
  {
   "cell_type": "markdown",
   "metadata": {},
   "source": [
    "---"
   ]
  },
  {
   "cell_type": "markdown",
   "metadata": {},
   "source": [
    "## An implementation of the RK Explicit Midpoint method"
   ]
  },
  {
   "cell_type": "code",
   "execution_count": 9,
   "metadata": {},
   "outputs": [
    {
     "data": {
      "text/plain": [
       "rkmidpoint (generic function with 1 method)"
      ]
     },
     "execution_count": 9,
     "metadata": {},
     "output_type": "execute_result"
    }
   ],
   "source": [
    "function rkmidpoint(f, a, b, y0, N)\n",
    "    \n",
    "    h = (b - a)/N\n",
    "\n",
    "    tt = range(a, b, length=N+1)\n",
    "    yy = zeros(N+1)\n",
    "    yy[1] = y0\n",
    "\n",
    "    for i = 1:N\n",
    "        K1 = f(tt[i], yy[i])\n",
    "        K2 = f(tt[i] + h/2, yy[i] + h/2*K1)\n",
    "        yy[i+1] = yy[i] + h*K2\n",
    "    end\n",
    "    \n",
    "    return tt, yy  \n",
    "end"
   ]
  },
  {
   "cell_type": "markdown",
   "metadata": {},
   "source": [
    "---"
   ]
  },
  {
   "cell_type": "markdown",
   "metadata": {},
   "source": [
    "## Example\n",
    "\n",
    "Recall our example ODE\n",
    "\n",
    "$$\\frac{dy}{dt} = -5y + 5t^2 + 2t, \\quad 0 \\leq t \\leq 1, \\quad y(0) = 1,$$\n",
    "\n",
    "which has an exact solution of\n",
    "\n",
    "$$y(t) = t^2 + e^{-5t}.$$\n"
   ]
  },
  {
   "cell_type": "code",
   "execution_count": 10,
   "metadata": {},
   "outputs": [
    {
     "data": {
      "text/plain": [
       "ytrue (generic function with 1 method)"
      ]
     },
     "execution_count": 10,
     "metadata": {},
     "output_type": "execute_result"
    }
   ],
   "source": [
    "#####################################################\n",
    "# Define the ODE and the true solution\n",
    "f(t, y) = -5y + 5t^2 + 2t\n",
    "a, b, y0 = 0, 1, 1\n",
    "ytrue(t) = t.^2 + exp.(-5t)"
   ]
  },
  {
   "cell_type": "code",
   "execution_count": 11,
   "metadata": {},
   "outputs": [
    {
     "name": "stdout",
     "output_type": "stream",
     "text": [
      "     N        h        euler       rktrap   rkmidpoint\n",
      "     1    1e+00     5.01e+00     1.10e+01     9.74e+00\n",
      "    10    1e-01     1.33e-01     2.68e-02     2.48e-02\n",
      "   100    1e-02     1.07e-02     1.93e-04     1.76e-04\n",
      "  1000    1e-03     1.05e-03     1.87e-06     1.70e-06\n",
      " 10000    1e-04     1.05e-04     1.86e-08     1.69e-08\n"
     ]
    }
   ],
   "source": [
    "@printf(\"%6s %8s %12s %12s %12s\\n\", \"N\", \"h\", \n",
    "    \"euler\", \"rktrap\", \"rkmidpoint\")\n",
    "for k = 0:4\n",
    "    N = 10^k\n",
    "    h = (b - a)/N\n",
    "\n",
    "    tt, yy1 = euler(f, a, b, y0, N)\n",
    "    abserr1 = abs.(yy1 - ytrue(tt))\n",
    "    \n",
    "    tt, yy2 = rktrap(f, a, b, y0, N)\n",
    "    abserr2 = abs.(yy2 - ytrue(tt))\n",
    "\n",
    "    tt, yy3 = rkmidpoint(f, a, b, y0, N)\n",
    "    abserr3 = abs.(yy3 - ytrue(tt))\n",
    "\n",
    "    @printf(\"%6d %8.0e %12.2e %12.2e %12.2e\\n\", N, h, \n",
    "        maximum(abserr1), maximum(abserr2), maximum(abserr3) )\n",
    "end"
   ]
  },
  {
   "cell_type": "code",
   "execution_count": 12,
   "metadata": {},
   "outputs": [
    {
     "data": {
      "image/png": "[encoded data removed]",
      "text/plain": [
       "Figure(PyObject <Figure size 640x480 with 2 Axes>)"
      ]
     },
     "metadata": {},
     "output_type": "display_data"
    }
   ],
   "source": [
    "using PyPlot\n",
    "\n",
    "N = 10\n",
    "\n",
    "tt = range(a, b, length=100)\n",
    "\n",
    "# each method calls f(t,y) 2N times\n",
    "tt1, yy1 = euler(f, a, b, y0, 2*N)\n",
    "tt2, yy2 = rktrap(f, a, b, y0, N)\n",
    "tt3, yy3 = rkmidpoint(f, a, b, y0, N)\n",
    "abserr1 = abs.(yy1 - ytrue(tt1))\n",
    "abserr2 = abs.(yy2 - ytrue(tt2))\n",
    "abserr3 = abs.(yy3 - ytrue(tt3))\n",
    "\n",
    "subplot(2, 1, 1)\n",
    "plot(tt, ytrue(tt), \"k\", label=\"True solution\")\n",
    "plot(tt1, yy1, \".-g\", label=\"euler\")\n",
    "plot(tt2, yy2, \".-r\", label=\"rktrap\")\n",
    "plot(tt3, yy3, \".-c\", label=\"rkmidpoint\")\n",
    "legend(loc=\"best\")\n",
    "\n",
    "subplot(2, 1, 2)\n",
    "plot(tt1, abserr1, \".-g\", label=\"euler error\")\n",
    "plot(tt2, abserr2, \".-r\", label=\"rktrap error\")\n",
    "plot(tt3, abserr3, \".-c\", label=\"rkmidpoint error\")\n",
    "legend(loc=\"best\");"
   ]
  },
  {
   "cell_type": "markdown",
   "metadata": {},
   "source": [
    "---"
   ]
  },
  {
   "cell_type": "markdown",
   "metadata": {},
   "source": [
    "## General explicit Runge-Kutta methods\n",
    "\n",
    "Euler's method can be thought of as a **$1$-stage explicit RK method**.\n",
    "\n",
    "- **Euler's method**:\n",
    "\n",
    "    $$ K_1 = f(t_i, y_i) $$\n",
    "    \n",
    "    $$ y_{i+1} = y_i + h K_1 $$\n",
    "\n",
    "We also have the following **$2$-stage explicit RK methods**.\n",
    "\n",
    "- **RK explicit trapezoidal method**:\n",
    "\n",
    "    $$ K_1 = f(t_i,y_i) $$\n",
    "\n",
    "    $$ K_2 = f(t_i + h, y_i + hK_1) $$\n",
    "\n",
    "    $$ y_{i+1} = y_i + \\frac{h}{2}\\brack{K_1 + K_2} $$\n",
    "\n",
    "- **RK explicit midpoint method**:\n",
    "\n",
    "    $$ K_1 = f(t_i,y_i) $$\n",
    "\n",
    "    $$ K_2 = f\\paren{t_i + \\frac{h}{2}, y_i + \\frac{h}{2}K_1} $$\n",
    "\n",
    "    $$ y_{i+1} = y_i + hK_2 $$\n"
   ]
  },
  {
   "cell_type": "markdown",
   "metadata": {},
   "source": [
    "We can generalize these to an **explicit $s$-stage RK method**:\n",
    "\n",
    "$$ K_1 = f(t_i, y_i) $$\n",
    "\n",
    "$$ K_2 = f\\paren{t_i + h c_2, y_i + h a_{21} K_1} $$\n",
    "\n",
    "$$ K_3 = f\\paren{t_i + h c_3, y_i + h \\paren{a_{31} K_1 + a_{32} K_2} }$$\n",
    "\n",
    "$$ \\vdots $$\n",
    "\n",
    "$$ K_s = f\\paren{t_i + h c_s, y_i + h \\paren{a_{s1} K_1 + \\cdots + a_{s,s-1} K_{s-1}} }$$\n",
    "\n",
    "$$ y_{i+1} = y_i + h \\paren{b_1 K_1 + \\cdots + b_s K_s} $$\n",
    "\n",
    "where\n",
    "\n",
    "$$c_j = \\sum_{k=1}^{j-1} a_{jk}, \\quad \\sum_{k=1}^s b_k = 1.$$"
   ]
  },
  {
   "cell_type": "markdown",
   "metadata": {},
   "source": [
    "The $a$, $b$, and $c$ terms can be organized in a **Butcher tableau**:\n",
    "\n",
    "$$\n",
    "\\begin{array}{c|cccc}\n",
    "0 & \\\\\n",
    "c_2 & a_{21} \\\\\n",
    "c_3 & a_{31} & a_{32} \\\\\n",
    "\\vdots & \\vdots & \\vdots & \\ddots \\\\\n",
    "c_s & a_{s1} & a_{s2} & \\cdots & a_{s,s-1} \\\\\n",
    "\\hline\n",
    "& b_1 & b_2 & \\cdots & b_{s-1} & b_s\n",
    "\\end{array}\n",
    "$$"
   ]
  },
  {
   "cell_type": "markdown",
   "metadata": {},
   "source": [
    "### Examples"
   ]
  },
  {
   "cell_type": "markdown",
   "metadata": {},
   "source": [
    "**Euler's method**\n",
    "\n",
    "$$ K_1 = f(t_i, y_i) $$\n",
    "\n",
    "$$ y_{i+1} = y_i + h K_1 $$\n",
    "\n",
    "has the tableau:\n",
    "\n",
    "$$\n",
    "\\begin{array}{c|cccc}\n",
    "0 & \\\\\n",
    "\\hline\n",
    "& 1\n",
    "\\end{array}\n",
    "$$"
   ]
  },
  {
   "cell_type": "markdown",
   "metadata": {},
   "source": [
    "The **RK explicit trapezoidal method**\n",
    "\n",
    "$$ K_1 = f(t_i,y_i) $$\n",
    "\n",
    "$$ K_2 = f(t_i + h, y_i + hK_1) $$\n",
    "\n",
    "$$ y_{i+1} = y_i + \\frac{h}{2}\\brack{K_1 + K_2} $$\n",
    "    \n",
    "has the tableau:\n",
    "\n",
    "$$\n",
    "\\begin{array}{c|cccc}\n",
    "0 & \\\\\n",
    "1 & 1 \\\\\n",
    "\\hline\n",
    "& 1/2 & 1/2 \n",
    "\\end{array}\n",
    "$$"
   ]
  },
  {
   "cell_type": "markdown",
   "metadata": {},
   "source": [
    "The **RK explicit midpoint method**:\n",
    "\n",
    "$$ K_1 = f(t_i,y_i) $$\n",
    "\n",
    "$$ K_2 = f\\paren{t_i + \\frac{h}{2}, y_i + \\frac{h}{2}K_1} $$\n",
    "\n",
    "$$ y_{i+1} = y_i + hK_2 $$\n",
    "    \n",
    "has the tableau:\n",
    "\n",
    "$$\n",
    "\\begin{array}{c|cccc}\n",
    "0 & \\\\\n",
    "1/2 & 1/2 \\\\\n",
    "\\hline\n",
    "& 0 & 1\n",
    "\\end{array}\n",
    "$$"
   ]
  },
  {
   "cell_type": "markdown",
   "metadata": {},
   "source": [
    "---"
   ]
  },
  {
   "cell_type": "markdown",
   "metadata": {},
   "source": [
    "## Fourth-order Runge-Kutta method\n",
    "\n",
    "The classical fourth-order RK method **RK4** is given by the following tableau:\n",
    "\n",
    "$$\n",
    "\\begin{array}{c|cccc}\n",
    "0 & \\\\\n",
    "1/2 & 1/2 \\\\\n",
    "1/2 & 0 & 1/2 \\\\\n",
    "1 & 0 & 0 & 1 \\\\\n",
    "\\hline\n",
    "& 1/6 & 1/3 & 1/3 & 1/6\n",
    "\\end{array}\n",
    "$$\n",
    "\n",
    "Therefore, we have\n",
    "\n",
    "$$ K_1 = f(t_i,y_i) $$\n",
    "\n",
    "$$ K_2 = f\\paren{t_i + \\frac{h}{2}, y_i + \\frac{h}{2}K_1} $$\n",
    "\n",
    "$$ K_3 = f\\paren{t_i + \\frac{h}{2}, y_i + \\frac{h}{2}K_2} $$\n",
    "\n",
    "$$ K_4 = f\\paren{t_i + h, y_i + hK_3} $$\n",
    "\n",
    "$$ y_{i+1} = y_i + \\frac{h}{6}\\brack{K_1 + 2K_2 + 2K_3 + K_4}$$\n"
   ]
  },
  {
   "cell_type": "markdown",
   "metadata": {},
   "source": [
    "---"
   ]
  },
  {
   "cell_type": "markdown",
   "metadata": {},
   "source": [
    "## An implementation of the RK4"
   ]
  },
  {
   "cell_type": "code",
   "execution_count": 13,
   "metadata": {},
   "outputs": [
    {
     "data": {
      "text/plain": [
       "rk4 (generic function with 1 method)"
      ]
     },
     "execution_count": 13,
     "metadata": {},
     "output_type": "execute_result"
    }
   ],
   "source": [
    "function rk4(f, a, b, y0, N)\n",
    "    \n",
    "    h = (b - a)/N\n",
    "\n",
    "    tt = range(a, b, length=N+1)\n",
    "    yy = zeros(N+1)\n",
    "    yy[1] = y0\n",
    "\n",
    "    for i = 1:N\n",
    "        K1 = f(tt[i], yy[i])\n",
    "        K2 = f(tt[i] + h/2, yy[i] + h/2*K1)\n",
    "        K3 = f(tt[i] + h/2, yy[i] + h/2*K2)\n",
    "        K4 = f(tt[i] + h, yy[i] + h*K3)\n",
    "        K = (K1 + 2K2 + 2K3 + K4)/6\n",
    "        yy[i+1] = yy[i] + h*K\n",
    "    end\n",
    "    \n",
    "    return tt, yy \n",
    "end"
   ]
  },
  {
   "cell_type": "markdown",
   "metadata": {},
   "source": [
    "---"
   ]
  },
  {
   "cell_type": "markdown",
   "metadata": {},
   "source": [
    "## Example\n",
    "\n",
    "We will now use `RK4` to solve our example ODE\n",
    "\n",
    "$$\\frac{dy}{dt} = -5y + 5t^2 + 2t, \\quad 0 \\leq t \\leq 1, \\quad y(0) = 1,$$\n",
    "\n",
    "which has an exact solution of\n",
    "\n",
    "$$y(t) = t^2 + e^{-5t}.$$\n"
   ]
  },
  {
   "cell_type": "code",
   "execution_count": 14,
   "metadata": {},
   "outputs": [
    {
     "data": {
      "text/plain": [
       "ytrue (generic function with 1 method)"
      ]
     },
     "execution_count": 14,
     "metadata": {},
     "output_type": "execute_result"
    }
   ],
   "source": [
    "#####################################################\n",
    "# Define the ODE and the true solution\n",
    "f(t, y) = -5y + 5t^2 + 2t\n",
    "a, b, y0 = 0, 1, 1\n",
    "ytrue(t) = t.^2 + exp.(-5t)"
   ]
  },
  {
   "cell_type": "code",
   "execution_count": 15,
   "metadata": {},
   "outputs": [
    {
     "name": "stdout",
     "output_type": "stream",
     "text": [
      "     N        h        euler       rktrap   rkmidpoint          rk4\n",
      "     1    1e+00     5.01e+00     1.10e+01     9.74e+00     1.63e+01\n",
      "    10    1e-01     1.33e-01     2.68e-02     2.48e-02     3.33e-04\n",
      "   100    1e-02     1.07e-02     1.93e-04     1.76e-04     2.34e-08\n",
      "  1000    1e-03     1.05e-03     1.87e-06     1.70e-06     2.26e-12\n",
      " 10000    1e-04     1.05e-04     1.86e-08     1.69e-08     8.88e-16\n"
     ]
    }
   ],
   "source": [
    "@printf(\"%6s %8s %12s %12s %12s %12s\\n\", \"N\", \"h\", \n",
    "    \"euler\", \"rktrap\", \"rkmidpoint\", \"rk4\")\n",
    "for k = 0:4\n",
    "    N = 10^k\n",
    "    h = (b - a)/N\n",
    "\n",
    "    tt, yy1 = euler(f, a, b, y0, N)\n",
    "    abserr1 = abs.(yy1 - ytrue(tt))\n",
    "    \n",
    "    tt, yy2 = rktrap(f, a, b, y0, N)\n",
    "    abserr2 = abs.(yy2 - ytrue(tt))\n",
    "\n",
    "    tt, yy3 = rkmidpoint(f, a, b, y0, N)\n",
    "    abserr3 = abs.(yy3 - ytrue(tt))\n",
    "\n",
    "    tt, yy4 = rk4(f, a, b, y0, N)\n",
    "    abserr4 = abs.(yy4 - ytrue(tt))\n",
    "\n",
    "    @printf(\"%6d %8.0e %12.2e %12.2e %12.2e %12.2e\\n\", N, h, \n",
    "        maximum(abserr1), maximum(abserr2), maximum(abserr3), maximum(abserr4) )\n",
    "end"
   ]
  },
  {
   "cell_type": "code",
   "execution_count": 16,
   "metadata": {},
   "outputs": [
    {
     "data": {
      "image/png": "[encoded data removed]",
      "text/plain": [
       "Figure(PyObject <Figure size 640x480 with 2 Axes>)"
      ]
     },
     "metadata": {},
     "output_type": "display_data"
    }
   ],
   "source": [
    "using PyPlot\n",
    "\n",
    "N = 5\n",
    "\n",
    "tt = range(a, b, length=100)\n",
    "\n",
    "# Each method evaluates f(t,y) 4N times\n",
    "tt1, yy1 = euler(f, a, b, y0, 4*N)\n",
    "tt2, yy2 = rktrap(f, a, b, y0, 2*N)\n",
    "tt3, yy3 = rkmidpoint(f, a, b, y0, 2*N)\n",
    "tt4, yy4 = rk4(f, a, b, y0, N)\n",
    "abserr1 = abs.(yy1 - ytrue(tt1))\n",
    "abserr2 = abs.(yy2 - ytrue(tt2))\n",
    "abserr3 = abs.(yy3 - ytrue(tt3))\n",
    "abserr4 = abs.(yy4 - ytrue(tt4))\n",
    "\n",
    "subplot(2, 1, 1)\n",
    "plot(tt, ytrue(tt), \"k\", label=\"True solution\")\n",
    "plot(tt1, yy1, \".-g\", label=\"euler\")\n",
    "plot(tt2, yy2, \".-r\", label=\"rktrap\")\n",
    "plot(tt3, yy3, \".-c\", label=\"rkmidpoint\")\n",
    "plot(tt4, yy4, \".-b\", label=\"rk4\")\n",
    "legend(loc=\"best\")\n",
    "\n",
    "subplot(2, 1, 2)\n",
    "plot(tt1, abserr1, \".-g\", label=\"euler error\")\n",
    "plot(tt2, abserr2, \".-r\", label=\"rktrap error\")\n",
    "plot(tt3, abserr3, \".-c\", label=\"rkmidpoint error\")\n",
    "plot(tt4, abserr4, \".-b\", label=\"rk4 error\")\n",
    "legend(loc=\"best\");"
   ]
  },
  {
   "cell_type": "markdown",
   "metadata": {},
   "source": [
    "---"
   ]
  },
  {
   "cell_type": "markdown",
   "metadata": {},
   "source": [
    "## General implicit Runge-Kutta methods\n",
    "\n",
    "Implicit methods are given by a Butcher tableau of the form:\n",
    "\n",
    "$$\n",
    "\\begin{array}{c|c}\n",
    "c & A \\\\\n",
    "\\hline\n",
    "  & b^T \\\\\n",
    "\\end{array}\n",
    "= \n",
    "\\begin{array}{c|cccc}\n",
    "c_1 & a_{11} & a_{12} & \\cdots & a_{1s} \\\\\n",
    "c_2 & a_{21} & a_{22} & \\cdots & a_{2s} \\\\\n",
    "\\vdots & \\vdots & \\vdots & \\ddots & \\vdots \\\\\n",
    "c_s & a_{s1} & a_{s2} & \\cdots & a_{ss} \\\\\n",
    "\\hline\n",
    "& b_1 & b_2 & \\cdots & b_s\n",
    "\\end{array}\n",
    "$$\n"
   ]
  },
  {
   "cell_type": "markdown",
   "metadata": {},
   "source": [
    "The implicit method is then given by\n",
    "\n",
    "$$ K_1 = f\\paren{t_i + h c_1, y_i + h \\paren{a_{11} K_1 + \\cdots + a_{1s} K_{s}} } $$\n",
    "\n",
    "$$ K_2 = f\\paren{t_i + h c_2, y_i + h \\paren{a_{21} K_1 + \\cdots + a_{2s} K_{s}} } $$\n",
    "\n",
    "$$ \\vdots $$\n",
    "\n",
    "$$ K_s = f\\paren{t_i + h c_s, y_i + h \\paren{a_{s1} K_1 + \\cdots + a_{ss} K_{s}} }$$\n",
    "\n",
    "$$ y_{i+1} = y_i + h \\paren{b_1 K_1 + \\cdots + b_s K_s} $$\n",
    "\n",
    "where\n",
    "\n",
    "$$c_j = \\sum_{k=1}^{s} a_{jk}, \\quad \\sum_{k=1}^s b_k = 1.$$"
   ]
  },
  {
   "cell_type": "markdown",
   "metadata": {},
   "source": [
    "---"
   ]
  }
 ],
 "metadata": {
  "@webio": {
   "lastCommId": null,
   "lastKernelId": null
  },
  "kernelspec": {
   "display_name": "Julia 1.11.5",
   "language": "julia",
   "name": "julia-1.11"
  },
  "language_info": {
   "file_extension": ".jl",
   "mimetype": "application/julia",
   "name": "julia",
   "version": "1.11.5"
  }
 },
 "nbformat": 4,
 "nbformat_minor": 4
}
