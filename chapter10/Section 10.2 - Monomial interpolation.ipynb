{
 "cells": [
  {
   "cell_type": "markdown",
   "metadata": {},
   "source": [
    "$%%% My LaTeX definitions\n",
    "\\DeclareMathOperator{\\span}{span}\n",
    "\\newcommand{\\Pbf}{\\mathbf{P}}\n",
    "$\n",
    "\n",
    "---\n",
    "\n",
    "# 10.2 Monomial interpolation\n",
    "\n",
    "---"
   ]
  },
  {
   "cell_type": "markdown",
   "metadata": {},
   "source": [
    "When using the **monomial basis** $\\{1, x, x^2, \\ldots, x^n\\}$ to find the polynomial $p(x) \\in \\Pbf_n$ that interpolates the data point $\\{(x_i,y_i)\\}_{i=0}^n$, the matrix $A$ is given by\n",
    "\n",
    "$$\n",
    "A = \n",
    "\\begin{bmatrix}\n",
    "1 & x_0 & \\cdots & x_0^n\\\\\n",
    "1 & x_1 & \\cdots & x_1^n\\\\\n",
    "\\vdots & \\vdots & \\ddots & \\vdots\\\\\n",
    "1 & x_n & \\cdots & x_n^n\\\\\n",
    "\\end{bmatrix}.\n",
    "$$\n",
    "\n",
    "This is a [Vandermonde matrix](http://en.wikipedia.org/wiki/Vandermonde_matrix). "
   ]
  },
  {
   "cell_type": "markdown",
   "metadata": {},
   "source": [
    "## Determinant of the Vandermonde matrix\n",
    "\n",
    "We can compute the determinant of $A$ as follows (using $n=3$ for simplicity).\n",
    "\n",
    "First we do some row-reduction which does not change the determinant.\n",
    "\n",
    "$$\n",
    "\\begin{align}\n",
    "\\det(A)\n",
    "& = \n",
    "\\begin{vmatrix}\n",
    "1 & x_0 & x_0^2 & x_0^3\\\\\n",
    "1 & x_1 & x_1^2 & x_1^3\\\\\n",
    "1 & x_2 & x_2^2 & x_2^3\\\\\n",
    "1 & x_3 & x_3^2 & x_3^3\\\\\n",
    "\\end{vmatrix} \\\\ \\\\\n",
    "& = \n",
    "\\begin{vmatrix}\n",
    "1 & x_0 & x_0^2 & x_0^3\\\\\n",
    "0 & x_1-x_0 & x_1^2-x_0^2 & x_1^3-x_0^3\\\\\n",
    "0 & x_2-x_0 & x_2^2-x_0^2 & x_2^3-x_0^3\\\\\n",
    "0 & x_3-x_0 & x_3^2-x_0^2 & x_3^3-x_0^3\\\\\n",
    "\\end{vmatrix} \\\\ \\\\\n",
    "\\end{align}\n",
    "$$"
   ]
  },
  {
   "cell_type": "markdown",
   "metadata": {},
   "source": [
    "Then we do some column-reduction steps, which again do not change the determinant.\n",
    "\n",
    "$$\n",
    "\\begin{align}\n",
    "\\det(A)\n",
    "& = \n",
    "\\begin{vmatrix}\n",
    "1 & x_0 & x_0^2 & 0 \\\\\n",
    "0 & x_1-x_0 & x_1^2-x_0^2 & x_1^3-x_0^3 - x_0(x_1^2-x_0^2)\\\\\n",
    "0 & x_2-x_0 & x_2^2-x_0^2 & x_2^3-x_0^3 - x_0(x_2^2-x_0^2)\\\\\n",
    "0 & x_3-x_0 & x_3^2-x_0^2 & x_3^3-x_0^3 - x_0(x_3^2-x_0^2)\\\\\n",
    "\\end{vmatrix} \\\\ \\\\\n",
    "& = \n",
    "\\begin{vmatrix}\n",
    "1 & x_0 & x_0^2 & 0 \\\\\n",
    "0 & x_1-x_0 & x_1^2-x_0^2 & (x_1 - x_0)x_1^2\\\\\n",
    "0 & x_2-x_0 & x_2^2-x_0^2 & (x_2 - x_0)x_2^2\\\\\n",
    "0 & x_3-x_0 & x_3^2-x_0^2 & (x_3 - x_0)x_3^2\\\\\n",
    "\\end{vmatrix} \\\\ \\\\\n",
    "& = \n",
    "\\begin{vmatrix}\n",
    "1 & x_0 & 0 & 0 \\\\\n",
    "0 & x_1-x_0 & (x_1 - x_0)x_1 & (x_1 - x_0)x_1^2\\\\\n",
    "0 & x_2-x_0 & (x_2 - x_0)x_2 & (x_2 - x_0)x_2^2\\\\\n",
    "0 & x_3-x_0 & (x_3 - x_0)x_3 & (x_3 - x_0)x_3^2\\\\\n",
    "\\end{vmatrix} \\\\ \\\\\n",
    "& = \n",
    "\\begin{vmatrix}\n",
    "1 & 0 & 0 & 0 \\\\\n",
    "0 & x_1-x_0 & (x_1 - x_0)x_1 & (x_1 - x_0)x_1^2\\\\\n",
    "0 & x_2-x_0 & (x_2 - x_0)x_2 & (x_2 - x_0)x_2^2\\\\\n",
    "0 & x_3-x_0 & (x_3 - x_0)x_3 & (x_3 - x_0)x_3^2\\\\\n",
    "\\end{vmatrix} \\\\ \\\\\n",
    "\\end{align}\n",
    "$$"
   ]
  },
  {
   "cell_type": "markdown",
   "metadata": {},
   "source": [
    "Next, we pull out the common factors in each of the last three rows.\n",
    "\n",
    "$$\n",
    "\\begin{align}\n",
    "\\det(A)\n",
    "& = \n",
    "\\begin{vmatrix}\n",
    "1 & 0 & 0 & 0 \\\\\n",
    "0 & 1 & x_1 & x_1^2\\\\\n",
    "0 & 1 & x_2 & x_2^2\\\\\n",
    "0 & 1 & x_3 & x_3^2\\\\\n",
    "\\end{vmatrix} (x_1-x_0)(x_2-x_0)(x_3-x_0) \\\\ \\\\\n",
    "\\end{align}\n",
    "$$\n",
    "\n",
    "We repeat the above process on the bottom-right $3 \\times 3$ submatrix.\n",
    "\n",
    "$$\n",
    "\\begin{align}\n",
    "\\det(A)\n",
    "& = \n",
    "\\begin{vmatrix}\n",
    "1 & 0 & 0 & 0 \\\\\n",
    "0 & 1 & 0 & 0 \\\\\n",
    "0 & 0 & 1 & x_2\\\\\n",
    "0 & 0 & 1 & x_3\\\\\n",
    "\\end{vmatrix} (x_2-x_1)(x_3-x_1)\\cdot(x_1-x_0)(x_2-x_0)(x_3-x_0) \\\\ \\\\\n",
    "\\end{align}\n",
    "$$"
   ]
  },
  {
   "cell_type": "markdown",
   "metadata": {},
   "source": [
    "Repeating the above process, this time on the bottom-right $2 \\times 2$ submatrix, we obtain.\n",
    "\n",
    "$$\n",
    "\\begin{align}\n",
    "\\det(A)\n",
    "& = \n",
    "\\begin{vmatrix}\n",
    "1 & 0 & 0 & 0 \\\\\n",
    "0 & 1 & 0 & 0 \\\\\n",
    "0 & 0 & 1 & 0 \\\\\n",
    "0 & 0 & 0 & 1 \\\\\n",
    "\\end{vmatrix} (x_3-x_2)\\cdot(x_2-x_1)(x_3-x_1)\\cdot(x_1-x_0)(x_2-x_0)(x_3-x_0) \\\\ \\\\\n",
    "\\end{align}\n",
    "$$\n",
    "\n",
    "Therefore, \n",
    "$$\\det(A) = (x_3-x_2)\\cdot(x_2-x_1)(x_3-x_1)\\cdot(x_1-x_0)(x_2-x_0)(x_3-x_0).$$"
   ]
  },
  {
   "cell_type": "markdown",
   "metadata": {},
   "source": [
    "In general,\n",
    "$$\\det(A) = \\prod_{0\\leq i < j \\leq n} (x_j - x_i).$$\n",
    "\n",
    "Thus, if $x_i \\neq x_j$ for $i \\neq j$, then $\\det(A) \\neq 0$, so $A$ is invertible. Therefore, $Ac = y$ has exactly one solution which implies that there always exists a unique interpolating polynomial when the $x_i$ are distinct."
   ]
  },
  {
   "cell_type": "markdown",
   "metadata": {},
   "source": [
    "---"
   ]
  },
  {
   "cell_type": "markdown",
   "metadata": {},
   "source": [
    "## An implementation of monomial interpolation"
   ]
  },
  {
   "cell_type": "code",
   "execution_count": 1,
   "metadata": {},
   "outputs": [
    {
     "data": {
      "text/plain": [
       "vandermonde (generic function with 1 method)"
      ]
     },
     "execution_count": 1,
     "metadata": {},
     "output_type": "execute_result"
    }
   ],
   "source": [
    "function vandermonde(x)\n",
    "    n = length(x) - 1\n",
    "    \n",
    "    return [x[i+1]^j for i=0:n, j=0:n]\n",
    "end"
   ]
  },
  {
   "cell_type": "code",
   "execution_count": 2,
   "metadata": {},
   "outputs": [
    {
     "data": {
      "text/plain": [
       "4×5 Matrix{Int64}:\n",
       " 1   2   4   8   16\n",
       " 2   4   8  16   32\n",
       " 4   8  16  32   64\n",
       " 8  16  32  64  128"
      ]
     },
     "execution_count": 2,
     "metadata": {},
     "output_type": "execute_result"
    }
   ],
   "source": [
    "[2^(j+k) for j=0:3, k=0:4]"
   ]
  },
  {
   "cell_type": "code",
   "execution_count": 3,
   "metadata": {},
   "outputs": [
    {
     "data": {
      "text/plain": [
       "4×4 Matrix{Float64}:\n",
       " 1.0   2.0   4.0   8.0\n",
       " 1.0   3.0   9.0  27.0\n",
       " 1.0   4.0  16.0  64.0\n",
       " 1.0  -1.0   1.0  -1.0"
      ]
     },
     "execution_count": 3,
     "metadata": {},
     "output_type": "execute_result"
    }
   ],
   "source": [
    "x = [2, 3, 4, -1.]\n",
    "A = vandermonde(x)"
   ]
  },
  {
   "cell_type": "code",
   "execution_count": 4,
   "metadata": {},
   "outputs": [
    {
     "data": {
      "text/plain": [
       "monointerp (generic function with 1 method)"
      ]
     },
     "execution_count": 4,
     "metadata": {},
     "output_type": "execute_result"
    }
   ],
   "source": [
    "# Returns the coefficients c = [c_0, c_1, ..., c_n] of \n",
    "# the unique polynomial of degree n\n",
    "#\n",
    "#     p(x) = c_0 + c_1 x + ... + c_n x^n\n",
    "#\n",
    "# that passes through the n+1 points \n",
    "#\n",
    "#    (x_0, y_0), ..., (x_n, y_n).\n",
    "function monointerp(x, y)\n",
    "    A = vandermonde(x)\n",
    "    \n",
    "    # c = inv(A)*y <= DON'T DO THIS\n",
    "    \n",
    "    # Solve A*c = y for c\n",
    "    c = A\\y\n",
    "    \n",
    "    return c\n",
    "end"
   ]
  },
  {
   "cell_type": "markdown",
   "metadata": {},
   "source": [
    "---"
   ]
  },
  {
   "cell_type": "markdown",
   "metadata": {},
   "source": [
    "## Example\n",
    "\n",
    "Find the polynomial\n",
    "\n",
    "$$p_1(x) = c_0 + c_1 x$$\n",
    "\n",
    "that interpolates the following data points.\n",
    "\n",
    "$$\n",
    "\\begin{gather}\n",
    "(x_0,y_0) = (2,1)\\\\\n",
    "(x_1,y_1) = (6,2)\\\\\n",
    "\\end{gather}\n",
    "$$\n",
    "\n",
    "What are the values of $p_1(3)$, $p_1(5)$, and $p_1(7)$?"
   ]
  },
  {
   "cell_type": "code",
   "execution_count": 5,
   "metadata": {},
   "outputs": [
    {
     "data": {
      "text/plain": [
       "2-element Vector{Float64}:\n",
       " 0.5\n",
       " 0.25"
      ]
     },
     "execution_count": 5,
     "metadata": {},
     "output_type": "execute_result"
    }
   ],
   "source": [
    "x = [2, 6.]\n",
    "y = [1, 2.]\n",
    "\n",
    "c1 = monointerp(x, y)"
   ]
  },
  {
   "cell_type": "code",
   "execution_count": 8,
   "metadata": {},
   "outputs": [
    {
     "data": {
      "text/plain": [
       "2-element Vector{Rational{Int64}}:\n",
       " 1//2\n",
       " 1//4"
      ]
     },
     "execution_count": 8,
     "metadata": {},
     "output_type": "execute_result"
    }
   ],
   "source": [
    "x = [2, 6//1]\n",
    "y = [1, 2//1]\n",
    "\n",
    "c1 = monointerp(x, y)"
   ]
  },
  {
   "cell_type": "markdown",
   "metadata": {},
   "source": [
    "$$\n",
    "p_1(x) = \\frac12 + \\frac14 x\n",
    "$$"
   ]
  },
  {
   "cell_type": "code",
   "execution_count": 6,
   "metadata": {},
   "outputs": [
    {
     "data": {
      "text/plain": [
       "horner (generic function with 2 methods)"
      ]
     },
     "execution_count": 6,
     "metadata": {},
     "output_type": "execute_result"
    }
   ],
   "source": [
    "# Evaluate the polynomial \n",
    "#\n",
    "#     p(x) = c_0 + c_1 x + ... + c_n x^n\n",
    "#\n",
    "# where c = [c_0, c_1, ..., c_n] using Horner's Rule.\n",
    "function horner(x::AbstractVector, c)\n",
    "    \n",
    "    n = length(c) - 1\n",
    "    p = c[n+1]*ones(length(x))\n",
    "    for j = n:-1:1\n",
    "        p .= p.*x .+ c[j]\n",
    "    end\n",
    "    \n",
    "    return p\n",
    "end\n",
    "\n",
    "horner(x::Real, c) = horner([x], c)[1]"
   ]
  },
  {
   "cell_type": "code",
   "execution_count": 7,
   "metadata": {},
   "outputs": [
    {
     "data": {
      "text/plain": [
       "3-element Vector{Float64}:\n",
       " 1.25\n",
       " 1.75\n",
       " 2.25"
      ]
     },
     "execution_count": 7,
     "metadata": {},
     "output_type": "execute_result"
    }
   ],
   "source": [
    "p1(x) = horner(x, c1)\n",
    "\n",
    "xvals = [3, 5, 7.]\n",
    "\n",
    "p1(xvals)"
   ]
  },
  {
   "cell_type": "code",
   "execution_count": 9,
   "metadata": {},
   "outputs": [
    {
     "data": {
      "text/plain": [
       "1.25"
      ]
     },
     "execution_count": 9,
     "metadata": {},
     "output_type": "execute_result"
    }
   ],
   "source": [
    "p1(3.0)"
   ]
  },
  {
   "cell_type": "markdown",
   "metadata": {},
   "source": [
    "---"
   ]
  },
  {
   "cell_type": "markdown",
   "metadata": {},
   "source": [
    "## Exercise 1\n",
    "\n",
    "Find the polynomial\n",
    "\n",
    "$$p_2(x) = c_0 + c_1 x + c_2 x^2$$\n",
    "\n",
    "that interpolates the following data points.\n",
    "\n",
    "$$\n",
    "\\begin{gather}\n",
    "(x_0,y_0) = (2,1)\\\\\n",
    "(x_1,y_1) = (6,2)\\\\\n",
    "(x_2, y_2) = (4,3)\\\\\n",
    "\\end{gather}\n",
    "$$\n",
    "\n",
    "What are the values of $p_2(3)$, $p_2(5)$, and $p_2(7)$?"
   ]
  },
  {
   "cell_type": "code",
   "execution_count": 11,
   "metadata": {},
   "outputs": [
    {
     "data": {
      "text/plain": [
       "3-element Vector{Rational{Int64}}:\n",
       "  -4\n",
       " 13//4\n",
       " -3//8"
      ]
     },
     "execution_count": 11,
     "metadata": {},
     "output_type": "execute_result"
    }
   ],
   "source": [
    "x = [2, 6, 4//1]\n",
    "y = [1, 2, 3//1]\n",
    "\n",
    "c2 = monointerp(x, y)"
   ]
  },
  {
   "cell_type": "markdown",
   "metadata": {},
   "source": [
    "$$\n",
    "p_2(x) = -2 +\\frac{13}{4}x-\\frac{3}{8}x^2\n",
    "$$"
   ]
  },
  {
   "cell_type": "code",
   "execution_count": 12,
   "metadata": {},
   "outputs": [
    {
     "data": {
      "text/plain": [
       "3-element Vector{Float64}:\n",
       " 2.375\n",
       " 2.875\n",
       " 0.375"
      ]
     },
     "execution_count": 12,
     "metadata": {},
     "output_type": "execute_result"
    }
   ],
   "source": [
    "p2(x) = horner(x, c2)\n",
    "\n",
    "xvals = [3, 5, 7.]\n",
    "\n",
    "p2(xvals)"
   ]
  },
  {
   "cell_type": "markdown",
   "metadata": {},
   "source": [
    "---"
   ]
  },
  {
   "cell_type": "markdown",
   "metadata": {},
   "source": [
    "## Exercise 2\n",
    "\n",
    "Find the polynomial\n",
    "\n",
    "$$p_3(x) = c_0 + c_1 x + c_2 x^2 + c_3 x^3$$\n",
    "\n",
    "that interpolates the following data points.\n",
    "\n",
    "$$\n",
    "\\begin{gather}\n",
    "(x_0,y_0) = (2,1)\\\\\n",
    "(x_1,y_1) = (6,2)\\\\\n",
    "(x_2, y_2) = (4,3)\\\\\n",
    "(x_3, y_3) = (8,2)\\\\\n",
    "\\end{gather}\n",
    "$$\n",
    "\n",
    "What are the values of $p_3(3)$, $p_3(5)$, and $p_3(7)$?    "
   ]
  },
  {
   "cell_type": "code",
   "execution_count": 13,
   "metadata": {},
   "outputs": [
    {
     "data": {
      "text/plain": [
       "4-element Vector{Rational{Int64}}:\n",
       "   -8\n",
       "  83//12\n",
       " -11//8\n",
       "   1//12"
      ]
     },
     "execution_count": 13,
     "metadata": {},
     "output_type": "execute_result"
    }
   ],
   "source": [
    "x = [2, 6, 4, 8//1]\n",
    "y = [1, 2, 3, 2//1]\n",
    "\n",
    "c3 = monointerp(x,y)"
   ]
  },
  {
   "cell_type": "markdown",
   "metadata": {},
   "source": [
    "$$\n",
    "p_2(x) = -8 + \\frac{83}{12}x - \\frac{11}{8}x^2 + \\frac{1}{12}x^3\n",
    "$$"
   ]
  },
  {
   "cell_type": "code",
   "execution_count": 14,
   "metadata": {},
   "outputs": [
    {
     "data": {
      "text/plain": [
       "3-element Vector{Float64}:\n",
       " 2.625\n",
       " 2.625\n",
       " 1.625"
      ]
     },
     "execution_count": 14,
     "metadata": {},
     "output_type": "execute_result"
    }
   ],
   "source": [
    "p3(x) = horner(x, c3)\n",
    "\n",
    "p3(xvals)"
   ]
  },
  {
   "cell_type": "markdown",
   "metadata": {},
   "source": [
    "---"
   ]
  },
  {
   "cell_type": "markdown",
   "metadata": {},
   "source": [
    "## Exercise 3\n",
    "\n",
    "Plot $p_1$, $p_2$, and $p_3$ together with all four data points."
   ]
  },
  {
   "cell_type": "code",
   "execution_count": 15,
   "metadata": {},
   "outputs": [
    {
     "data": {
      "image/png": "[encoded data removed]",
      "image/svg+xml": [
       "<?xml version=\"1.0\" encoding=\"utf-8\"?>\n",
       "<svg xmlns=\"http://www.w3.org/2000/svg\" xmlns:xlink=\"http://www.w3.org/1999/xlink\" width=\"600\" height=\"400\" viewBox=\"0 0 2400 1600\">\n",
       "<defs>\n",
       "  <clipPath id=\"clip900\">\n",
       "    <rect x=\"0\" y=\"0\" width=\"2400\" height=\"1600\"/>\n",
       "  </clipPath>\n",
       "</defs>\n",
       "<path clip-path=\"url(#clip900)\" d=\"M0 1600 L2400 1600 L2400 0 L0 0  Z\" fill=\"#ffffff\" fill-rule=\"evenodd\" fill-opacity=\"1\"/>\n",
       "<defs>\n",
       "  <clipPath id=\"clip901\">\n",
       "    <rect x=\"480\" y=\"0\" width=\"1681\" height=\"1600\"/>\n",
       "  </clipPath>\n",
       "</defs>\n",
       "<path clip-path=\"url(#clip900)\" d=\"M212.459 1423.18 L2352.76 1423.18 L2352.76 47.2441 L212.459 47.2441  Z\" fill=\"#ffffff\" fill-rule=\"evenodd\" fill-opacity=\"1\"/>\n",
       "<defs>\n",
       "  <clipPath id=\"clip902\">\n",
       "    <rect x=\"212\" y=\"47\" width=\"2141\" height=\"1377\"/>\n",
       "  </clipPath>\n",
       "</defs>\n",
       "<polyline clip-path=\"url(#clip902)\" style=\"stroke:#000000; stroke-linecap:round; stroke-linejoin:round; stroke-width:2; stroke-opacity:0.1; fill:none\" points=\"525.427,1423.18 525.427,47.2441 \"/>\n",
       "<polyline clip-path=\"url(#clip902)\" style=\"stroke:#000000; stroke-linecap:round; stroke-linejoin:round; stroke-width:2; stroke-opacity:0.1; fill:none\" points=\"1030.21,1423.18 1030.21,47.2441 \"/>\n",
       "<polyline clip-path=\"url(#clip902)\" style=\"stroke:#000000; stroke-linecap:round; stroke-linejoin:round; stroke-width:2; stroke-opacity:0.1; fill:none\" points=\"1535,1423.18 1535,47.2441 \"/>\n",
       "<polyline clip-path=\"url(#clip902)\" style=\"stroke:#000000; stroke-linecap:round; stroke-linejoin:round; stroke-width:2; stroke-opacity:0.1; fill:none\" points=\"2039.79,1423.18 2039.79,47.2441 \"/>\n",
       "<polyline clip-path=\"url(#clip902)\" style=\"stroke:#000000; stroke-linecap:round; stroke-linejoin:round; stroke-width:2; stroke-opacity:0.1; fill:none\" points=\"212.459,1423.18 2352.76,1423.18 \"/>\n",
       "<polyline clip-path=\"url(#clip902)\" style=\"stroke:#000000; stroke-linecap:round; stroke-linejoin:round; stroke-width:2; stroke-opacity:0.1; fill:none\" points=\"212.459,1079.2 2352.76,1079.2 \"/>\n",
       "<polyline clip-path=\"url(#clip902)\" style=\"stroke:#000000; stroke-linecap:round; stroke-linejoin:round; stroke-width:2; stroke-opacity:0.1; fill:none\" points=\"212.459,735.212 2352.76,735.212 \"/>\n",
       "<polyline clip-path=\"url(#clip902)\" style=\"stroke:#000000; stroke-linecap:round; stroke-linejoin:round; stroke-width:2; stroke-opacity:0.1; fill:none\" points=\"212.459,391.228 2352.76,391.228 \"/>\n",
       "<polyline clip-path=\"url(#clip902)\" style=\"stroke:#000000; stroke-linecap:round; stroke-linejoin:round; stroke-width:2; stroke-opacity:0.1; fill:none\" points=\"212.459,47.2441 2352.76,47.2441 \"/>\n",
       "<polyline clip-path=\"url(#clip900)\" style=\"stroke:#000000; stroke-linecap:round; stroke-linejoin:round; stroke-width:4; stroke-opacity:1; fill:none\" points=\"212.459,1423.18 2352.76,1423.18 \"/>\n",
       "<polyline clip-path=\"url(#clip900)\" style=\"stroke:#000000; stroke-linecap:round; stroke-linejoin:round; stroke-width:4; stroke-opacity:1; fill:none\" points=\"525.427,1423.18 525.427,1404.28 \"/>\n",
       "<polyline clip-path=\"url(#clip900)\" style=\"stroke:#000000; stroke-linecap:round; stroke-linejoin:round; stroke-width:4; stroke-opacity:1; fill:none\" points=\"1030.21,1423.18 1030.21,1404.28 \"/>\n",
       "<polyline clip-path=\"url(#clip900)\" style=\"stroke:#000000; stroke-linecap:round; stroke-linejoin:round; stroke-width:4; stroke-opacity:1; fill:none\" points=\"1535,1423.18 1535,1404.28 \"/>\n",
       "<polyline clip-path=\"url(#clip900)\" style=\"stroke:#000000; stroke-linecap:round; stroke-linejoin:round; stroke-width:4; stroke-opacity:1; fill:none\" points=\"2039.79,1423.18 2039.79,1404.28 \"/>\n",
       "<path clip-path=\"url(#clip900)\" d=\"M520.08 1481.64 L536.399 1481.64 L536.399 1485.58 L514.455 1485.58 L514.455 1481.64 Q517.117 1478.89 521.7 1474.26 Q526.306 1469.61 527.487 1468.27 Q529.732 1465.74 530.612 1464.01 Q531.515 1462.25 531.515 1460.56 Q531.515 1457.8 529.57 1456.07 Q527.649 1454.33 524.547 1454.33 Q522.348 1454.33 519.894 1455.09 Q517.464 1455.86 514.686 1457.41 L514.686 1452.69 Q517.51 1451.55 519.964 1450.97 Q522.418 1450.39 524.455 1450.39 Q529.825 1450.39 533.019 1453.08 Q536.214 1455.77 536.214 1460.26 Q536.214 1462.39 535.404 1464.31 Q534.617 1466.2 532.51 1468.8 Q531.931 1469.47 528.83 1472.69 Q525.728 1475.88 520.08 1481.64 Z\" fill=\"#000000\" fill-rule=\"nonzero\" fill-opacity=\"1\" /><path clip-path=\"url(#clip900)\" d=\"M1033.22 1455.09 L1021.42 1473.54 L1033.22 1473.54 L1033.22 1455.09 M1032 1451.02 L1037.88 1451.02 L1037.88 1473.54 L1042.81 1473.54 L1042.81 1477.43 L1037.88 1477.43 L1037.88 1485.58 L1033.22 1485.58 L1033.22 1477.43 L1017.62 1477.43 L1017.62 1472.92 L1032 1451.02 Z\" fill=\"#000000\" fill-rule=\"nonzero\" fill-opacity=\"1\" /><path clip-path=\"url(#clip900)\" d=\"M1535.41 1466.44 Q1532.26 1466.44 1530.41 1468.59 Q1528.58 1470.74 1528.58 1474.49 Q1528.58 1478.22 1530.41 1480.39 Q1532.26 1482.55 1535.41 1482.55 Q1538.55 1482.55 1540.38 1480.39 Q1542.23 1478.22 1542.23 1474.49 Q1542.23 1470.74 1540.38 1468.59 Q1538.55 1466.44 1535.41 1466.44 M1544.69 1451.78 L1544.69 1456.04 Q1542.93 1455.21 1541.12 1454.77 Q1539.34 1454.33 1537.58 1454.33 Q1532.95 1454.33 1530.5 1457.45 Q1528.07 1460.58 1527.72 1466.9 Q1529.09 1464.89 1531.15 1463.82 Q1533.21 1462.73 1535.68 1462.73 Q1540.89 1462.73 1543.9 1465.9 Q1546.93 1469.05 1546.93 1474.49 Q1546.93 1479.82 1543.79 1483.03 Q1540.64 1486.25 1535.41 1486.25 Q1529.41 1486.25 1526.24 1481.67 Q1523.07 1477.06 1523.07 1468.33 Q1523.07 1460.14 1526.96 1455.28 Q1530.85 1450.39 1537.4 1450.39 Q1539.16 1450.39 1540.94 1450.74 Q1542.74 1451.09 1544.69 1451.78 Z\" fill=\"#000000\" fill-rule=\"nonzero\" fill-opacity=\"1\" /><path clip-path=\"url(#clip900)\" d=\"M2039.79 1469.17 Q2036.45 1469.17 2034.53 1470.95 Q2032.64 1472.73 2032.64 1475.86 Q2032.64 1478.98 2034.53 1480.77 Q2036.45 1482.55 2039.79 1482.55 Q2043.12 1482.55 2045.04 1480.77 Q2046.96 1478.96 2046.96 1475.86 Q2046.96 1472.73 2045.04 1470.95 Q2043.14 1469.17 2039.79 1469.17 M2035.11 1467.18 Q2032.1 1466.44 2030.41 1464.38 Q2028.75 1462.32 2028.75 1459.35 Q2028.75 1455.21 2031.69 1452.8 Q2034.65 1450.39 2039.79 1450.39 Q2044.95 1450.39 2047.89 1452.8 Q2050.83 1455.21 2050.83 1459.35 Q2050.83 1462.32 2049.14 1464.38 Q2047.47 1466.44 2044.49 1467.18 Q2047.87 1467.96 2049.74 1470.26 Q2051.64 1472.55 2051.64 1475.86 Q2051.64 1480.88 2048.56 1483.57 Q2045.51 1486.25 2039.79 1486.25 Q2034.07 1486.25 2030.99 1483.57 Q2027.94 1480.88 2027.94 1475.86 Q2027.94 1472.55 2029.83 1470.26 Q2031.73 1467.96 2035.11 1467.18 M2033.4 1459.79 Q2033.4 1462.48 2035.07 1463.98 Q2036.76 1465.49 2039.79 1465.49 Q2042.8 1465.49 2044.49 1463.98 Q2046.2 1462.48 2046.2 1459.79 Q2046.2 1457.11 2044.49 1455.6 Q2042.8 1454.1 2039.79 1454.1 Q2036.76 1454.1 2035.07 1455.6 Q2033.4 1457.11 2033.4 1459.79 Z\" fill=\"#000000\" fill-rule=\"nonzero\" fill-opacity=\"1\" /><path clip-path=\"url(#clip900)\" d=\"M1296.78 1528.8 Q1296.78 1530.61 1295.65 1531.64 Q1294.53 1532.64 1293.24 1532.64 Q1292.01 1532.64 1291.37 1531.93 Q1290.73 1531.22 1290.73 1530.32 Q1290.73 1529.09 1291.63 1528.03 Q1292.53 1526.97 1293.88 1526.74 Q1292.56 1525.91 1290.6 1525.91 Q1289.31 1525.91 1288.18 1526.58 Q1287.09 1527.26 1286.41 1528.13 Q1285.77 1529 1285.19 1530.25 Q1284.64 1531.48 1284.41 1532.22 Q1284.22 1532.93 1284.06 1533.7 L1281.81 1542.72 Q1280.71 1547 1280.71 1548.51 Q1280.71 1550.38 1281.61 1551.64 Q1282.51 1552.86 1284.32 1552.86 Q1285.03 1552.86 1285.83 1552.67 Q1286.64 1552.44 1287.67 1551.86 Q1288.73 1551.25 1289.66 1550.35 Q1290.63 1549.42 1291.56 1547.84 Q1292.5 1546.26 1293.11 1544.23 Q1293.3 1543.52 1293.95 1543.52 Q1294.75 1543.52 1294.75 1544.17 Q1294.75 1544.71 1294.3 1545.87 Q1293.88 1547 1292.95 1548.48 Q1292.05 1549.93 1290.85 1551.25 Q1289.66 1552.54 1287.89 1553.44 Q1286.12 1554.34 1284.19 1554.34 Q1281.42 1554.34 1279.58 1552.86 Q1277.75 1551.38 1277.07 1549.32 Q1276.91 1549.61 1276.68 1550 Q1276.46 1550.38 1275.78 1551.25 Q1275.14 1552.09 1274.4 1552.73 Q1273.66 1553.34 1272.5 1553.83 Q1271.37 1554.34 1270.15 1554.34 Q1268.6 1554.34 1267.22 1553.89 Q1265.86 1553.44 1264.9 1552.41 Q1263.93 1551.38 1263.93 1549.96 Q1263.93 1548.38 1264.99 1547.29 Q1266.09 1546.16 1267.57 1546.16 Q1268.5 1546.16 1269.24 1546.71 Q1270.02 1547.26 1270.02 1548.45 Q1270.02 1549.77 1269.12 1550.77 Q1268.21 1551.77 1266.93 1552.02 Q1268.25 1552.86 1270.21 1552.86 Q1272.34 1552.86 1274.01 1550.99 Q1275.69 1549.13 1276.49 1546 Q1278.49 1538.5 1279.26 1535.15 Q1280.03 1531.77 1280.03 1530.32 Q1280.03 1528.96 1279.68 1528.03 Q1279.33 1527.1 1278.71 1526.68 Q1278.13 1526.23 1277.59 1526.07 Q1277.07 1525.91 1276.49 1525.91 Q1275.52 1525.91 1274.43 1526.29 Q1273.37 1526.68 1272.08 1527.58 Q1270.82 1528.45 1269.63 1530.25 Q1268.44 1532.06 1267.63 1534.54 Q1267.47 1535.28 1266.76 1535.28 Q1265.99 1535.24 1265.99 1534.6 Q1265.99 1534.05 1266.41 1532.93 Q1266.86 1531.77 1267.76 1530.32 Q1268.7 1528.87 1269.89 1527.58 Q1271.11 1526.26 1272.88 1525.36 Q1274.69 1524.46 1276.62 1524.46 Q1277.49 1524.46 1278.33 1524.65 Q1279.2 1524.81 1280.23 1525.29 Q1281.29 1525.78 1282.22 1526.84 Q1283.16 1527.9 1283.74 1529.45 Q1284.12 1528.71 1284.64 1528 Q1285.19 1527.29 1286.02 1526.42 Q1286.89 1525.52 1288.09 1525 Q1289.31 1524.46 1290.66 1524.46 Q1291.98 1524.46 1293.27 1524.81 Q1294.56 1525.13 1295.65 1526.19 Q1296.78 1527.23 1296.78 1528.8 Z\" fill=\"#000000\" fill-rule=\"nonzero\" fill-opacity=\"1\" /><polyline clip-path=\"url(#clip900)\" style=\"stroke:#000000; stroke-linecap:round; stroke-linejoin:round; stroke-width:4; stroke-opacity:1; fill:none\" points=\"212.459,1423.18 212.459,47.2441 \"/>\n",
       "<polyline clip-path=\"url(#clip900)\" style=\"stroke:#000000; stroke-linecap:round; stroke-linejoin:round; stroke-width:4; stroke-opacity:1; fill:none\" points=\"212.459,1423.18 231.357,1423.18 \"/>\n",
       "<polyline clip-path=\"url(#clip900)\" style=\"stroke:#000000; stroke-linecap:round; stroke-linejoin:round; stroke-width:4; stroke-opacity:1; fill:none\" points=\"212.459,1079.2 231.357,1079.2 \"/>\n",
       "<polyline clip-path=\"url(#clip900)\" style=\"stroke:#000000; stroke-linecap:round; stroke-linejoin:round; stroke-width:4; stroke-opacity:1; fill:none\" points=\"212.459,735.212 231.357,735.212 \"/>\n",
       "<polyline clip-path=\"url(#clip900)\" style=\"stroke:#000000; stroke-linecap:round; stroke-linejoin:round; stroke-width:4; stroke-opacity:1; fill:none\" points=\"212.459,391.228 231.357,391.228 \"/>\n",
       "<polyline clip-path=\"url(#clip900)\" style=\"stroke:#000000; stroke-linecap:round; stroke-linejoin:round; stroke-width:4; stroke-opacity:1; fill:none\" points=\"212.459,47.2441 231.357,47.2441 \"/>\n",
       "<path clip-path=\"url(#clip900)\" d=\"M114.26 1423.63 L143.936 1423.63 L143.936 1427.57 L114.26 1427.57 L114.26 1423.63 Z\" fill=\"#000000\" fill-rule=\"nonzero\" fill-opacity=\"1\" /><path clip-path=\"url(#clip900)\" d=\"M166.876 1409.97 L155.07 1428.42 L166.876 1428.42 L166.876 1409.97 M165.649 1405.9 L171.528 1405.9 L171.528 1428.42 L176.459 1428.42 L176.459 1432.31 L171.528 1432.31 L171.528 1440.46 L166.876 1440.46 L166.876 1432.31 L151.274 1432.31 L151.274 1427.8 L165.649 1405.9 Z\" fill=\"#000000\" fill-rule=\"nonzero\" fill-opacity=\"1\" /><path clip-path=\"url(#clip900)\" d=\"M116.343 1079.65 L146.019 1079.65 L146.019 1083.58 L116.343 1083.58 L116.343 1079.65 Z\" fill=\"#000000\" fill-rule=\"nonzero\" fill-opacity=\"1\" /><path clip-path=\"url(#clip900)\" d=\"M160.14 1092.54 L176.459 1092.54 L176.459 1096.48 L154.515 1096.48 L154.515 1092.54 Q157.177 1089.79 161.76 1085.16 Q166.366 1080.5 167.547 1079.16 Q169.792 1076.64 170.672 1074.9 Q171.575 1073.14 171.575 1071.45 Q171.575 1068.7 169.63 1066.96 Q167.709 1065.23 164.607 1065.23 Q162.408 1065.23 159.954 1065.99 Q157.524 1066.75 154.746 1068.3 L154.746 1063.58 Q157.57 1062.45 160.024 1061.87 Q162.477 1061.29 164.515 1061.29 Q169.885 1061.29 173.079 1063.98 Q176.274 1066.66 176.274 1071.15 Q176.274 1073.28 175.464 1075.2 Q174.677 1077.1 172.57 1079.69 Q171.991 1080.36 168.889 1083.58 Q165.788 1086.78 160.14 1092.54 Z\" fill=\"#000000\" fill-rule=\"nonzero\" fill-opacity=\"1\" /><path clip-path=\"url(#clip900)\" d=\"M164.515 721.011 Q160.903 721.011 159.075 724.575 Q157.269 728.117 157.269 735.247 Q157.269 742.353 159.075 745.918 Q160.903 749.46 164.515 749.46 Q168.149 749.46 169.954 745.918 Q171.783 742.353 171.783 735.247 Q171.783 728.117 169.954 724.575 Q168.149 721.011 164.515 721.011 M164.515 717.307 Q170.325 717.307 173.38 721.913 Q176.459 726.497 176.459 735.247 Q176.459 743.973 173.38 748.58 Q170.325 753.163 164.515 753.163 Q158.704 753.163 155.626 748.58 Q152.57 743.973 152.57 735.247 Q152.57 726.497 155.626 721.913 Q158.704 717.307 164.515 717.307 Z\" fill=\"#000000\" fill-rule=\"nonzero\" fill-opacity=\"1\" /><path clip-path=\"url(#clip900)\" d=\"M160.14 404.573 L176.459 404.573 L176.459 408.508 L154.515 408.508 L154.515 404.573 Q157.177 401.818 161.76 397.189 Q166.366 392.536 167.547 391.193 Q169.792 388.67 170.672 386.934 Q171.575 385.175 171.575 383.485 Q171.575 380.73 169.63 378.994 Q167.709 377.258 164.607 377.258 Q162.408 377.258 159.954 378.022 Q157.524 378.786 154.746 380.337 L154.746 375.615 Q157.57 374.48 160.024 373.902 Q162.477 373.323 164.515 373.323 Q169.885 373.323 173.079 376.008 Q176.274 378.693 176.274 383.184 Q176.274 385.314 175.464 387.235 Q174.677 389.133 172.57 391.726 Q171.991 392.397 168.889 395.615 Q165.788 398.809 160.14 404.573 Z\" fill=\"#000000\" fill-rule=\"nonzero\" fill-opacity=\"1\" /><path clip-path=\"url(#clip900)\" d=\"M166.876 34.0381 L155.07 52.4871 L166.876 52.4871 L166.876 34.0381 M165.649 29.9641 L171.528 29.9641 L171.528 52.4871 L176.459 52.4871 L176.459 56.376 L171.528 56.376 L171.528 64.5241 L166.876 64.5241 L166.876 56.376 L151.274 56.376 L151.274 51.8621 L165.649 29.9641 Z\" fill=\"#000000\" fill-rule=\"nonzero\" fill-opacity=\"1\" /><path clip-path=\"url(#clip900)\" d=\"M30.8561 720.775 Q31.307 720.775 32.3698 721.064 L57.5548 727.377 Q63.1586 728.762 67.0877 733.27 Q71.0168 737.747 71.0168 742.836 Q71.0168 745.895 69.3743 747.86 Q67.764 749.824 65.2842 749.824 Q63.0942 749.824 62.0314 748.665 Q61.0008 747.505 61.0008 746.121 Q61.0008 745.67 61.1296 745.187 Q61.2584 744.703 61.8059 744.188 Q62.3534 743.673 63.2874 743.673 Q64.8011 743.673 65.9927 744.993 Q66.5402 745.637 66.669 746.249 Q66.7978 746.829 66.7978 747.827 Q67.6996 747.441 68.3115 746.732 Q68.9234 746.024 69.1489 745.219 Q69.4065 744.414 69.4709 743.898 Q69.5675 743.351 69.5675 742.836 Q69.5675 738.713 65.413 735.557 Q64.157 734.623 62.9009 733.947 Q61.6771 733.238 60.1634 732.723 Q58.682 732.208 57.8768 731.982 Q57.0717 731.725 55.2359 731.274 Q58.2311 734.269 58.2311 737.94 Q58.2311 739.486 57.8124 740.871 Q57.3937 742.224 56.5242 743.415 Q55.6224 744.607 54.0443 745.315 Q52.4662 745.992 50.3728 745.992 Q48.1506 745.992 45.1233 745.122 Q42.0959 744.253 36.5243 742.159 Q33.4004 741.032 31.8867 741.032 Q31.146 741.032 30.6951 741.193 Q30.212 741.354 30.051 741.676 Q29.8577 741.998 29.8255 742.191 Q29.7933 742.352 29.7933 742.675 Q29.7933 744.575 31.7257 746.346 Q33.658 748.117 37.9736 749.341 Q38.7787 749.599 38.972 749.76 Q39.1652 749.921 39.1652 750.404 Q39.133 751.209 38.4889 751.209 Q38.2312 751.209 37.2329 750.919 Q36.2023 750.629 34.6886 749.953 Q33.1427 749.245 31.7579 748.278 Q30.3408 747.312 29.3424 745.798 Q28.344 744.253 28.344 742.481 Q28.344 740.066 29.9221 738.584 Q31.468 737.071 33.7546 737.071 Q34.6886 737.071 35.5259 737.328 Q36.3311 737.554 38.4889 738.391 Q47.1845 741.773 51.4356 741.773 Q52.4662 741.773 53.3358 741.612 Q54.1731 741.418 55.0105 741 Q55.8156 740.581 56.2987 739.744 Q56.7496 738.874 56.7496 737.683 Q56.7496 736.169 56.0411 734.752 Q55.3003 733.303 54.302 732.401 Q53.3036 731.467 52.4662 730.919 Q51.5967 730.34 51.1458 730.211 L39.294 727.248 L34.0123 725.927 Q31.146 725.316 30.4374 725.026 Q29.7611 724.639 29.4068 723.963 Q29.0526 723.287 29.0526 722.707 Q29.0526 721.902 29.5357 721.354 Q30.0187 720.775 30.8561 720.775 Z\" fill=\"#000000\" fill-rule=\"nonzero\" fill-opacity=\"1\" /><polyline clip-path=\"url(#clip902)\" style=\"stroke:#009af9; stroke-linecap:round; stroke-linejoin:round; stroke-width:8; stroke-opacity:1; fill:none\" points=\"273.033,606.218 293.878,602.667 415.966,581.868 472.761,572.192 548.888,559.223 611.792,548.507 670.287,538.541 743.718,526.032 809.586,514.81 884.981,501.966 941.338,492.365 1013.42,480.085 1079.21,468.877 1154.09,456.121 1213.44,446.009 1287.19,433.446 1343.66,423.825 1423.28,410.26 1482.78,400.124 1550.45,388.596 1617.46,377.18 1691.19,364.62 1747.5,355.027 1818.56,342.92 1884.29,331.723 1952.07,320.176 2020.78,308.47 2092.52,296.248 2149.04,286.62 2277.74,264.694 2292.18,262.234 \"/>\n",
       "<polyline clip-path=\"url(#clip902)\" style=\"stroke:#e26f46; stroke-linecap:round; stroke-linejoin:round; stroke-width:8; stroke-opacity:1; fill:none\" points=\"273.033,928.703 283.456,911.057 293.878,893.631 324.4,843.865 354.922,795.986 385.444,749.992 415.966,705.886 444.364,666.543 472.761,628.833 510.825,580.849 548.888,535.799 580.34,500.787 611.792,467.779 641.04,438.882 670.287,411.717 707.003,380.067 743.718,351.147 776.652,327.529 809.586,306.106 847.283,284.281 884.981,265.334 913.159,253.05 941.338,242.374 977.379,231.063 1013.42,222.383 1046.32,216.755 1079.21,213.32 1116.65,212.075 1154.09,213.669 1183.77,216.949 1213.44,222.013 1250.32,230.788 1287.19,242.317 1315.42,253.007 1343.66,265.312 1383.47,285.403 1423.28,308.704 1453.03,328.211 1482.78,349.511 1516.62,375.911 1550.45,404.629 1583.96,435.354 1617.46,468.353 1654.32,507.283 1691.19,548.966 1719.34,582.657 1747.5,617.954 1783.03,664.787 1818.56,714.176 1851.42,762.132 1884.29,812.274 1918.18,866.278 1952.07,922.608 1986.43,982.079 2020.78,1043.94 2056.65,1111.08 2092.52,1180.83 2120.78,1237.61 2149.04,1296.01 2181.21,1364.47 2213.39,1435.03 2245.57,1507.69 2277.74,1582.44 2281.35,1590.96 2284.96,1599.5 2288.57,1608.07 2292.18,1616.67 \"/>\n",
       "<polyline clip-path=\"url(#clip902)\" style=\"stroke:#3da44d; stroke-linecap:round; stroke-linejoin:round; stroke-width:8; stroke-opacity:1; fill:none\" points=\"273.033,1143.69 278.245,1128.09 283.456,1112.65 288.667,1097.38 293.878,1082.27 309.139,1038.94 324.4,996.987 339.661,956.382 354.922,917.11 370.183,879.15 385.444,842.484 400.705,807.093 415.966,772.957 430.165,742.309 444.364,712.715 458.563,684.162 472.761,656.633 491.793,621.315 510.825,587.773 529.857,555.971 548.888,525.872 564.614,502.26 580.34,479.764 596.066,458.363 611.792,438.038 626.416,420.085 641.04,403.026 655.663,386.845 670.287,371.526 688.645,353.488 707.003,336.749 725.36,321.275 743.718,307.033 760.185,295.279 776.652,284.465 793.119,274.568 809.586,265.565 828.435,256.324 847.283,248.186 866.132,241.115 884.981,235.075 913.159,227.891 941.338,222.812 959.359,220.613 977.379,219.194 995.4,218.524 1013.42,218.572 1046.32,220.409 1079.21,224.344 1116.65,231.133 1154.09,240.112 1183.77,248.601 1213.44,258.149 1287.19,285.561 1343.66,309.058 1423.28,343.851 1482.78,369.678 1516.62,383.812 1550.45,397.285 1583.96,409.775 1617.46,421.212 1654.32,432.34 1691.19,441.684 1719.34,447.453 1747.5,451.905 1783.03,455.458 1818.56,456.484 1834.99,456.038 1851.42,454.976 1867.86,453.275 1884.29,450.911 1901.23,447.754 1918.18,443.84 1935.13,439.143 1952.07,433.639 1969.25,427.208 1986.43,419.892 2003.6,411.665 2020.78,402.499 2038.71,391.897 2056.65,380.211 2074.59,367.41 2092.52,353.464 2106.65,341.651 2120.78,329.093 2134.91,315.775 2149.04,301.682 2165.13,284.671 2181.21,266.613 2197.3,247.486 2213.39,227.267 2229.48,205.935 2245.57,183.466 2261.65,159.839 2277.74,135.031 2281.35,129.3 2284.96,123.508 2288.57,117.655 2292.18,111.741 \"/>\n",
       "<circle clip-path=\"url(#clip902)\" cx=\"525.427\" cy=\"563.22\" r=\"14.4\" fill=\"#ff0000\" fill-rule=\"evenodd\" fill-opacity=\"1\" stroke=\"#000000\" stroke-opacity=\"1\" stroke-width=\"3.2\"/>\n",
       "<circle clip-path=\"url(#clip902)\" cx=\"1535\" cy=\"391.228\" r=\"14.4\" fill=\"#ff0000\" fill-rule=\"evenodd\" fill-opacity=\"1\" stroke=\"#000000\" stroke-opacity=\"1\" stroke-width=\"3.2\"/>\n",
       "<circle clip-path=\"url(#clip902)\" cx=\"1030.21\" cy=\"219.236\" r=\"14.4\" fill=\"#ff0000\" fill-rule=\"evenodd\" fill-opacity=\"1\" stroke=\"#000000\" stroke-opacity=\"1\" stroke-width=\"3.2\"/>\n",
       "<circle clip-path=\"url(#clip902)\" cx=\"2039.79\" cy=\"391.228\" r=\"14.4\" fill=\"#ff0000\" fill-rule=\"evenodd\" fill-opacity=\"1\" stroke=\"#000000\" stroke-opacity=\"1\" stroke-width=\"3.2\"/>\n",
       "<path clip-path=\"url(#clip900)\" d=\"M283.802 1377.32 L695.182 1377.32 L695.182 1141.92 L283.802 1141.92  Z\" fill=\"#ffffff\" fill-rule=\"evenodd\" fill-opacity=\"1\"/>\n",
       "<polyline clip-path=\"url(#clip900)\" style=\"stroke:#000000; stroke-linecap:round; stroke-linejoin:round; stroke-width:4; stroke-opacity:1; fill:none\" points=\"283.802,1377.32 695.182,1377.32 695.182,1141.92 283.802,1141.92 283.802,1377.32 \"/>\n",
       "<polyline clip-path=\"url(#clip900)\" style=\"stroke:#009af9; stroke-linecap:round; stroke-linejoin:round; stroke-width:8; stroke-opacity:1; fill:none\" points=\"307.583,1200.77 450.27,1200.77 \"/>\n",
       "<path clip-path=\"url(#clip900)\" d=\"M496.185 1187.96 Q496.185 1188.29 495.974 1189.06 L491.383 1207.38 Q490.376 1211.45 487.097 1214.31 Q483.841 1217.17 480.141 1217.17 Q477.915 1217.17 476.487 1215.97 Q475.058 1214.8 475.058 1213 Q475.058 1211.41 475.901 1210.63 Q476.744 1209.88 477.752 1209.88 Q478.079 1209.88 478.431 1209.98 Q478.782 1210.07 479.157 1210.47 Q479.532 1210.87 479.532 1211.55 Q479.532 1212.65 478.571 1213.52 Q478.103 1213.91 477.658 1214.01 Q477.236 1214.1 476.51 1214.1 Q476.791 1214.76 477.306 1215.2 Q477.822 1215.65 478.407 1215.81 Q478.993 1216 479.368 1216.04 Q479.766 1216.12 480.141 1216.12 Q483.139 1216.12 485.434 1213.09 Q486.113 1212.18 486.605 1211.27 Q487.12 1210.38 487.495 1209.28 Q487.87 1208.2 488.034 1207.61 Q488.221 1207.03 488.549 1205.69 Q486.371 1207.87 483.701 1207.87 Q482.577 1207.87 481.569 1207.57 Q480.586 1207.26 479.719 1206.63 Q478.852 1205.97 478.337 1204.83 Q477.845 1203.68 477.845 1202.16 Q477.845 1200.54 478.478 1198.34 Q479.11 1196.14 480.632 1192.08 Q481.452 1189.81 481.452 1188.71 Q481.452 1188.17 481.335 1187.84 Q481.218 1187.49 480.984 1187.38 Q480.75 1187.24 480.609 1187.21 Q480.492 1187.19 480.258 1187.19 Q478.876 1187.19 477.588 1188.59 Q476.299 1190 475.409 1193.14 Q475.222 1193.72 475.105 1193.86 Q474.988 1194 474.636 1194 Q474.051 1193.98 474.051 1193.51 Q474.051 1193.33 474.262 1192.6 Q474.472 1191.85 474.964 1190.75 Q475.48 1189.62 476.182 1188.62 Q476.885 1187.59 477.986 1186.86 Q479.11 1186.13 480.398 1186.13 Q482.155 1186.13 483.232 1187.28 Q484.333 1188.41 484.333 1190.07 Q484.333 1190.75 484.146 1191.36 Q483.982 1191.94 483.373 1193.51 Q480.914 1199.84 480.914 1202.93 Q480.914 1203.68 481.031 1204.31 Q481.171 1204.92 481.476 1205.53 Q481.78 1206.11 482.389 1206.47 Q483.022 1206.79 483.888 1206.79 Q484.989 1206.79 486.02 1206.28 Q487.074 1205.74 487.729 1205.01 Q488.409 1204.29 488.807 1203.68 Q489.228 1203.05 489.322 1202.72 L491.477 1194.1 L492.437 1190.26 Q492.882 1188.17 493.093 1187.66 Q493.374 1187.16 493.866 1186.91 Q494.358 1186.65 494.78 1186.65 Q495.365 1186.65 495.763 1187 Q496.185 1187.35 496.185 1187.96 Z\" fill=\"#000000\" fill-rule=\"nonzero\" fill-opacity=\"1\" /><path clip-path=\"url(#clip900)\" d=\"M510.618 1200.05 Q510.665 1199.46 511.579 1199.46 L540.974 1199.46 Q542.356 1199.46 542.379 1200 Q542.379 1200.59 541.068 1200.56 L511.907 1200.56 Q510.618 1200.59 510.618 1200.05 M510.618 1190.68 Q510.618 1190.09 511.626 1190.12 L540.927 1190.12 Q542.356 1190.12 542.379 1190.68 Q542.379 1191.22 541.161 1191.22 L511.579 1191.22 Q510.618 1191.22 510.618 1190.68 Z\" fill=\"#000000\" fill-rule=\"nonzero\" fill-opacity=\"1\" /><path clip-path=\"url(#clip900)\" d=\"M585.932 1193.79 Q585.932 1197.21 584.199 1200.52 Q582.489 1203.82 579.795 1205.86 Q577.102 1207.87 574.361 1207.87 Q572.722 1207.87 571.621 1206.98 Q570.544 1206.07 569.958 1204.78 Q569.513 1206.37 568.553 1210.19 Q567.592 1214.01 567.592 1214.38 Q567.592 1214.59 567.639 1214.69 Q567.686 1214.78 567.897 1214.9 Q568.108 1215.04 568.623 1215.08 Q569.138 1215.15 570.005 1215.15 Q570.45 1215.15 570.614 1215.15 Q570.801 1215.18 570.965 1215.3 Q571.153 1215.41 571.153 1215.67 Q571.153 1216.63 570.286 1216.63 Q569.513 1216.63 567.92 1216.56 Q566.328 1216.49 565.531 1216.49 Q564.852 1216.49 563.493 1216.56 Q562.135 1216.63 561.503 1216.63 Q560.87 1216.63 560.87 1216.07 Q560.87 1215.74 560.964 1215.53 Q561.034 1215.34 561.221 1215.25 Q561.409 1215.18 561.573 1215.15 Q561.713 1215.15 561.994 1215.15 Q563.072 1215.15 563.54 1214.97 Q564.009 1214.8 564.173 1214.45 Q564.36 1214.12 564.571 1213.19 L569.958 1191.83 Q570.286 1190.4 570.286 1189.39 Q570.286 1188.13 569.888 1187.66 Q569.49 1187.19 568.787 1187.19 Q567.569 1187.19 566.773 1188.64 Q565.976 1190.09 565.297 1192.9 Q565.086 1193.68 564.946 1193.84 Q564.829 1194 564.477 1194 Q563.892 1193.98 563.892 1193.51 Q563.892 1193.4 564.079 1192.65 Q564.266 1191.87 564.618 1190.75 Q564.992 1189.6 565.391 1188.87 Q565.625 1188.38 565.836 1188.06 Q566.046 1187.73 566.468 1187.21 Q566.913 1186.7 567.546 1186.42 Q568.178 1186.13 568.951 1186.13 Q570.45 1186.13 571.691 1187.02 Q572.933 1187.91 573.261 1189.72 Q574.596 1188.15 576.235 1187.14 Q577.875 1186.13 579.538 1186.13 Q582.302 1186.13 584.105 1188.29 Q585.932 1190.42 585.932 1193.79 M582.466 1191.69 Q582.466 1189.55 581.646 1188.38 Q580.849 1187.19 579.397 1187.19 Q577.594 1187.19 575.509 1189.02 Q573.448 1190.75 573.026 1192.36 L570.661 1201.76 L570.52 1202.53 Q570.52 1202.67 570.59 1203.09 Q570.684 1203.49 570.942 1204.15 Q571.223 1204.8 571.598 1205.39 Q571.996 1205.95 572.698 1206.37 Q573.425 1206.79 574.315 1206.79 Q575.743 1206.79 577.289 1205.53 Q578.859 1204.26 580.03 1201.87 Q580.756 1200.33 581.599 1197 Q582.466 1193.65 582.466 1191.69 Z\" fill=\"#000000\" fill-rule=\"nonzero\" fill-opacity=\"1\" /><path clip-path=\"url(#clip900)\" d=\"M590.803 1210.66 L590.803 1209.61 Q594.836 1209.61 596.918 1207.46 Q597.492 1207.46 597.59 1207.59 Q597.689 1207.72 597.689 1208.33 L597.689 1227.17 Q597.689 1228.17 598.181 1228.48 Q598.673 1228.79 600.82 1228.79 L601.886 1228.79 L601.886 1229.82 Q600.706 1229.73 596.443 1229.73 Q592.18 1229.73 591.016 1229.82 L591.016 1228.79 L592.081 1228.79 Q594.197 1228.79 594.705 1228.5 Q595.213 1228.18 595.213 1227.17 L595.213 1209.77 Q593.459 1210.66 590.803 1210.66 Z\" fill=\"#000000\" fill-rule=\"nonzero\" fill-opacity=\"1\" /><path clip-path=\"url(#clip900)\" d=\"M606.893 1195.34 Q606.893 1187.24 609.914 1180.7 Q611.203 1177.96 613.006 1175.66 Q614.81 1173.37 616.004 1172.36 Q617.199 1171.35 617.527 1171.35 Q617.995 1171.35 618.019 1171.82 Q618.019 1172.06 617.386 1172.64 Q609.657 1180.51 609.68 1195.34 Q609.68 1210.21 617.199 1217.78 Q618.019 1218.6 618.019 1218.86 Q618.019 1219.32 617.527 1219.32 Q617.199 1219.32 616.051 1218.36 Q614.903 1217.4 613.123 1215.2 Q611.343 1213 610.055 1210.31 Q606.893 1203.77 606.893 1195.34 Z\" fill=\"#000000\" fill-rule=\"nonzero\" fill-opacity=\"1\" /><path clip-path=\"url(#clip900)\" d=\"M645.551 1189.3 Q645.551 1190.61 644.732 1191.36 Q643.912 1192.08 642.975 1192.08 Q642.085 1192.08 641.616 1191.57 Q641.148 1191.05 641.148 1190.4 Q641.148 1189.51 641.804 1188.73 Q642.46 1187.96 643.443 1187.8 Q642.483 1187.19 641.054 1187.19 Q640.117 1187.19 639.298 1187.68 Q638.501 1188.17 638.009 1188.8 Q637.541 1189.44 637.119 1190.35 Q636.721 1191.24 636.557 1191.78 Q636.417 1192.29 636.299 1192.86 L634.66 1199.41 Q633.864 1202.53 633.864 1203.63 Q633.864 1204.99 634.519 1205.9 Q635.175 1206.79 636.487 1206.79 Q637.002 1206.79 637.588 1206.65 Q638.173 1206.49 638.923 1206.07 Q639.696 1205.62 640.375 1204.97 Q641.078 1204.29 641.757 1203.14 Q642.436 1201.99 642.881 1200.52 Q643.022 1200 643.49 1200 Q644.076 1200 644.076 1200.47 Q644.076 1200.87 643.748 1201.71 Q643.443 1202.53 642.764 1203.61 Q642.108 1204.66 641.242 1205.62 Q640.375 1206.56 639.087 1207.21 Q637.799 1207.87 636.393 1207.87 Q634.379 1207.87 633.044 1206.79 Q631.709 1205.72 631.217 1204.22 Q631.1 1204.43 630.936 1204.71 Q630.772 1204.99 630.28 1205.62 Q629.811 1206.23 629.273 1206.7 Q628.734 1207.14 627.891 1207.5 Q627.071 1207.87 626.181 1207.87 Q625.057 1207.87 624.05 1207.54 Q623.066 1207.21 622.363 1206.47 Q621.66 1205.72 621.66 1204.68 Q621.66 1203.54 622.433 1202.74 Q623.23 1201.92 624.307 1201.92 Q624.986 1201.92 625.525 1202.32 Q626.087 1202.72 626.087 1203.58 Q626.087 1204.54 625.431 1205.27 Q624.776 1206 623.839 1206.18 Q624.799 1206.79 626.228 1206.79 Q627.774 1206.79 628.992 1205.43 Q630.21 1204.08 630.795 1201.8 Q632.247 1196.35 632.81 1193.91 Q633.372 1191.45 633.372 1190.4 Q633.372 1189.41 633.114 1188.73 Q632.856 1188.06 632.411 1187.75 Q631.99 1187.42 631.592 1187.31 Q631.217 1187.19 630.795 1187.19 Q630.093 1187.19 629.296 1187.47 Q628.523 1187.75 627.586 1188.41 Q626.673 1189.04 625.806 1190.35 Q624.94 1191.66 624.354 1193.47 Q624.237 1194 623.722 1194 Q623.159 1193.98 623.159 1193.51 Q623.159 1193.11 623.464 1192.29 Q623.792 1191.45 624.448 1190.4 Q625.127 1189.34 625.994 1188.41 Q626.884 1187.45 628.172 1186.79 Q629.484 1186.13 630.889 1186.13 Q631.521 1186.13 632.13 1186.27 Q632.763 1186.39 633.512 1186.74 Q634.285 1187.09 634.964 1187.87 Q635.644 1188.64 636.065 1189.76 Q636.346 1189.23 636.721 1188.71 Q637.119 1188.2 637.728 1187.56 Q638.361 1186.91 639.227 1186.53 Q640.117 1186.13 641.101 1186.13 Q642.061 1186.13 642.998 1186.39 Q643.935 1186.63 644.732 1187.4 Q645.551 1188.15 645.551 1189.3 Z\" fill=\"#000000\" fill-rule=\"nonzero\" fill-opacity=\"1\" /><path clip-path=\"url(#clip900)\" d=\"M650.164 1218.86 Q650.164 1218.62 650.773 1218.04 Q658.502 1210.17 658.502 1195.34 Q658.502 1180.47 651.077 1172.95 Q650.164 1172.08 650.164 1171.82 Q650.164 1171.35 650.632 1171.35 Q650.96 1171.35 652.108 1172.32 Q653.279 1173.28 655.036 1175.48 Q656.816 1177.68 658.128 1180.37 Q661.29 1186.91 661.29 1195.34 Q661.29 1203.44 658.268 1209.98 Q656.98 1212.72 655.176 1215.01 Q653.373 1217.31 652.178 1218.32 Q650.984 1219.32 650.632 1219.32 Q650.164 1219.32 650.164 1218.86 Z\" fill=\"#000000\" fill-rule=\"nonzero\" fill-opacity=\"1\" /><polyline clip-path=\"url(#clip900)\" style=\"stroke:#e26f46; stroke-linecap:round; stroke-linejoin:round; stroke-width:8; stroke-opacity:1; fill:none\" points=\"307.583,1259.62 450.27,1259.62 \"/>\n",
       "<path clip-path=\"url(#clip900)\" d=\"M496.185 1246.81 Q496.185 1247.14 495.974 1247.91 L491.383 1266.23 Q490.376 1270.3 487.097 1273.16 Q483.841 1276.02 480.141 1276.02 Q477.915 1276.02 476.487 1274.82 Q475.058 1273.65 475.058 1271.85 Q475.058 1270.26 475.901 1269.48 Q476.744 1268.73 477.752 1268.73 Q478.079 1268.73 478.431 1268.83 Q478.782 1268.92 479.157 1269.32 Q479.532 1269.72 479.532 1270.4 Q479.532 1271.5 478.571 1272.37 Q478.103 1272.76 477.658 1272.86 Q477.236 1272.95 476.51 1272.95 Q476.791 1273.61 477.306 1274.05 Q477.822 1274.5 478.407 1274.66 Q478.993 1274.85 479.368 1274.89 Q479.766 1274.97 480.141 1274.97 Q483.139 1274.97 485.434 1271.94 Q486.113 1271.03 486.605 1270.12 Q487.12 1269.23 487.495 1268.13 Q487.87 1267.05 488.034 1266.46 Q488.221 1265.88 488.549 1264.54 Q486.371 1266.72 483.701 1266.72 Q482.577 1266.72 481.569 1266.42 Q480.586 1266.11 479.719 1265.48 Q478.852 1264.82 478.337 1263.68 Q477.845 1262.53 477.845 1261.01 Q477.845 1259.39 478.478 1257.19 Q479.11 1254.99 480.632 1250.93 Q481.452 1248.66 481.452 1247.56 Q481.452 1247.02 481.335 1246.69 Q481.218 1246.34 480.984 1246.23 Q480.75 1246.09 480.609 1246.06 Q480.492 1246.04 480.258 1246.04 Q478.876 1246.04 477.588 1247.44 Q476.299 1248.85 475.409 1251.99 Q475.222 1252.57 475.105 1252.71 Q474.988 1252.85 474.636 1252.85 Q474.051 1252.83 474.051 1252.36 Q474.051 1252.18 474.262 1251.45 Q474.472 1250.7 474.964 1249.6 Q475.48 1248.47 476.182 1247.47 Q476.885 1246.44 477.986 1245.71 Q479.11 1244.98 480.398 1244.98 Q482.155 1244.98 483.232 1246.13 Q484.333 1247.26 484.333 1248.92 Q484.333 1249.6 484.146 1250.21 Q483.982 1250.79 483.373 1252.36 Q480.914 1258.69 480.914 1261.78 Q480.914 1262.53 481.031 1263.16 Q481.171 1263.77 481.476 1264.38 Q481.78 1264.96 482.389 1265.32 Q483.022 1265.64 483.888 1265.64 Q484.989 1265.64 486.02 1265.13 Q487.074 1264.59 487.729 1263.86 Q488.409 1263.14 488.807 1262.53 Q489.228 1261.9 489.322 1261.57 L491.477 1252.95 L492.437 1249.11 Q492.882 1247.02 493.093 1246.51 Q493.374 1246.01 493.866 1245.76 Q494.358 1245.5 494.78 1245.5 Q495.365 1245.5 495.763 1245.85 Q496.185 1246.2 496.185 1246.81 Z\" fill=\"#000000\" fill-rule=\"nonzero\" fill-opacity=\"1\" /><path clip-path=\"url(#clip900)\" d=\"M510.618 1258.9 Q510.665 1258.31 511.579 1258.31 L540.974 1258.31 Q542.356 1258.31 542.379 1258.85 Q542.379 1259.44 541.068 1259.41 L511.907 1259.41 Q510.618 1259.44 510.618 1258.9 M510.618 1249.53 Q510.618 1248.94 511.626 1248.97 L540.927 1248.97 Q542.356 1248.97 542.379 1249.53 Q542.379 1250.07 541.161 1250.07 L511.579 1250.07 Q510.618 1250.07 510.618 1249.53 Z\" fill=\"#000000\" fill-rule=\"nonzero\" fill-opacity=\"1\" /><path clip-path=\"url(#clip900)\" d=\"M585.932 1252.64 Q585.932 1256.06 584.199 1259.37 Q582.489 1262.67 579.795 1264.71 Q577.102 1266.72 574.361 1266.72 Q572.722 1266.72 571.621 1265.83 Q570.544 1264.92 569.958 1263.63 Q569.513 1265.22 568.553 1269.04 Q567.592 1272.86 567.592 1273.23 Q567.592 1273.44 567.639 1273.54 Q567.686 1273.63 567.897 1273.75 Q568.108 1273.89 568.623 1273.93 Q569.138 1274 570.005 1274 Q570.45 1274 570.614 1274 Q570.801 1274.03 570.965 1274.15 Q571.153 1274.26 571.153 1274.52 Q571.153 1275.48 570.286 1275.48 Q569.513 1275.48 567.92 1275.41 Q566.328 1275.34 565.531 1275.34 Q564.852 1275.34 563.493 1275.41 Q562.135 1275.48 561.503 1275.48 Q560.87 1275.48 560.87 1274.92 Q560.87 1274.59 560.964 1274.38 Q561.034 1274.19 561.221 1274.1 Q561.409 1274.03 561.573 1274 Q561.713 1274 561.994 1274 Q563.072 1274 563.54 1273.82 Q564.009 1273.65 564.173 1273.3 Q564.36 1272.97 564.571 1272.04 L569.958 1250.68 Q570.286 1249.25 570.286 1248.24 Q570.286 1246.98 569.888 1246.51 Q569.49 1246.04 568.787 1246.04 Q567.569 1246.04 566.773 1247.49 Q565.976 1248.94 565.297 1251.75 Q565.086 1252.53 564.946 1252.69 Q564.829 1252.85 564.477 1252.85 Q563.892 1252.83 563.892 1252.36 Q563.892 1252.25 564.079 1251.5 Q564.266 1250.72 564.618 1249.6 Q564.992 1248.45 565.391 1247.72 Q565.625 1247.23 565.836 1246.91 Q566.046 1246.58 566.468 1246.06 Q566.913 1245.55 567.546 1245.27 Q568.178 1244.98 568.951 1244.98 Q570.45 1244.98 571.691 1245.87 Q572.933 1246.76 573.261 1248.57 Q574.596 1247 576.235 1245.99 Q577.875 1244.98 579.538 1244.98 Q582.302 1244.98 584.105 1247.14 Q585.932 1249.27 585.932 1252.64 M582.466 1250.54 Q582.466 1248.4 581.646 1247.23 Q580.849 1246.04 579.397 1246.04 Q577.594 1246.04 575.509 1247.87 Q573.448 1249.6 573.026 1251.21 L570.661 1260.61 L570.52 1261.38 Q570.52 1261.52 570.59 1261.94 Q570.684 1262.34 570.942 1263 Q571.223 1263.65 571.598 1264.24 Q571.996 1264.8 572.698 1265.22 Q573.425 1265.64 574.315 1265.64 Q575.743 1265.64 577.289 1264.38 Q578.859 1263.11 580.03 1260.72 Q580.756 1259.18 581.599 1255.85 Q582.466 1252.5 582.466 1250.54 Z\" fill=\"#000000\" fill-rule=\"nonzero\" fill-opacity=\"1\" /><path clip-path=\"url(#clip900)\" d=\"M590.803 1288.67 Q590.803 1288.07 590.852 1287.89 Q590.917 1287.71 591.18 1287.43 L597.623 1280.25 Q601.148 1276.28 601.148 1272.82 Q601.148 1270.57 599.968 1268.97 Q598.804 1267.36 596.656 1267.36 Q595.18 1267.36 593.934 1268.26 Q592.688 1269.16 592.114 1270.77 Q592.213 1270.74 592.557 1270.74 Q593.393 1270.74 593.852 1271.26 Q594.328 1271.79 594.328 1272.49 Q594.328 1273.39 593.737 1273.84 Q593.164 1274.26 592.59 1274.26 Q592.36 1274.26 592.049 1274.21 Q591.754 1274.16 591.278 1273.7 Q590.803 1273.23 590.803 1272.39 Q590.803 1270.05 592.573 1268.18 Q594.36 1266.31 597.082 1266.31 Q600.165 1266.31 602.181 1268.15 Q604.214 1269.97 604.214 1272.82 Q604.214 1273.82 603.903 1274.74 Q603.608 1275.64 603.198 1276.34 Q602.804 1277.05 601.722 1278.18 Q600.64 1279.31 599.771 1280.12 Q598.902 1280.92 596.951 1282.62 L593.393 1286.08 L599.443 1286.08 Q602.394 1286.08 602.624 1285.82 Q602.952 1285.35 603.362 1282.84 L604.214 1282.84 L603.263 1288.67 L590.803 1288.67 Z\" fill=\"#000000\" fill-rule=\"nonzero\" fill-opacity=\"1\" /><path clip-path=\"url(#clip900)\" d=\"M609.201 1254.19 Q609.201 1246.09 612.222 1239.55 Q613.51 1236.81 615.314 1234.51 Q617.118 1232.22 618.312 1231.21 Q619.507 1230.2 619.835 1230.2 Q620.303 1230.2 620.326 1230.67 Q620.326 1230.91 619.694 1231.49 Q611.965 1239.36 611.988 1254.19 Q611.988 1269.06 619.507 1276.63 Q620.326 1277.45 620.326 1277.71 Q620.326 1278.17 619.835 1278.17 Q619.507 1278.17 618.359 1277.21 Q617.211 1276.25 615.431 1274.05 Q613.651 1271.85 612.363 1269.16 Q609.201 1262.62 609.201 1254.19 Z\" fill=\"#000000\" fill-rule=\"nonzero\" fill-opacity=\"1\" /><path clip-path=\"url(#clip900)\" d=\"M647.859 1248.15 Q647.859 1249.46 647.039 1250.21 Q646.22 1250.93 645.283 1250.93 Q644.393 1250.93 643.924 1250.42 Q643.456 1249.9 643.456 1249.25 Q643.456 1248.36 644.112 1247.58 Q644.767 1246.81 645.751 1246.65 Q644.791 1246.04 643.362 1246.04 Q642.425 1246.04 641.605 1246.53 Q640.809 1247.02 640.317 1247.65 Q639.849 1248.29 639.427 1249.2 Q639.029 1250.09 638.865 1250.63 Q638.724 1251.14 638.607 1251.71 L636.968 1258.26 Q636.171 1261.38 636.171 1262.48 Q636.171 1263.84 636.827 1264.75 Q637.483 1265.64 638.795 1265.64 Q639.31 1265.64 639.896 1265.5 Q640.481 1265.34 641.231 1264.92 Q642.004 1264.47 642.683 1263.82 Q643.385 1263.14 644.065 1261.99 Q644.744 1260.84 645.189 1259.37 Q645.33 1258.85 645.798 1258.85 Q646.384 1258.85 646.384 1259.32 Q646.384 1259.72 646.056 1260.56 Q645.751 1261.38 645.072 1262.46 Q644.416 1263.51 643.549 1264.47 Q642.683 1265.41 641.395 1266.06 Q640.106 1266.72 638.701 1266.72 Q636.687 1266.72 635.352 1265.64 Q634.016 1264.57 633.525 1263.07 Q633.408 1263.28 633.244 1263.56 Q633.08 1263.84 632.588 1264.47 Q632.119 1265.08 631.581 1265.55 Q631.042 1265.99 630.199 1266.35 Q629.379 1266.72 628.489 1266.72 Q627.365 1266.72 626.357 1266.39 Q625.374 1266.06 624.671 1265.32 Q623.968 1264.57 623.968 1263.53 Q623.968 1262.39 624.741 1261.59 Q625.538 1260.77 626.615 1260.77 Q627.294 1260.77 627.833 1261.17 Q628.395 1261.57 628.395 1262.43 Q628.395 1263.39 627.739 1264.12 Q627.083 1264.85 626.147 1265.03 Q627.107 1265.64 628.536 1265.64 Q630.082 1265.64 631.299 1264.28 Q632.517 1262.93 633.103 1260.65 Q634.555 1255.2 635.117 1252.76 Q635.679 1250.3 635.679 1249.25 Q635.679 1248.26 635.422 1247.58 Q635.164 1246.91 634.719 1246.6 Q634.298 1246.27 633.899 1246.16 Q633.525 1246.04 633.103 1246.04 Q632.4 1246.04 631.604 1246.32 Q630.831 1246.6 629.894 1247.26 Q628.981 1247.89 628.114 1249.2 Q627.247 1250.51 626.662 1252.32 Q626.545 1252.85 626.029 1252.85 Q625.467 1252.83 625.467 1252.36 Q625.467 1251.96 625.772 1251.14 Q626.1 1250.3 626.756 1249.25 Q627.435 1248.19 628.301 1247.26 Q629.191 1246.3 630.48 1245.64 Q631.791 1244.98 633.197 1244.98 Q633.829 1244.98 634.438 1245.12 Q635.071 1245.24 635.82 1245.59 Q636.593 1245.94 637.272 1246.72 Q637.951 1247.49 638.373 1248.61 Q638.654 1248.08 639.029 1247.56 Q639.427 1247.05 640.036 1246.41 Q640.668 1245.76 641.535 1245.38 Q642.425 1244.98 643.409 1244.98 Q644.369 1244.98 645.306 1245.24 Q646.243 1245.48 647.039 1246.25 Q647.859 1247 647.859 1248.15 Z\" fill=\"#000000\" fill-rule=\"nonzero\" fill-opacity=\"1\" /><path clip-path=\"url(#clip900)\" d=\"M652.472 1277.71 Q652.472 1277.47 653.081 1276.89 Q660.81 1269.02 660.81 1254.19 Q660.81 1239.32 653.385 1231.8 Q652.472 1230.93 652.472 1230.67 Q652.472 1230.2 652.94 1230.2 Q653.268 1230.2 654.416 1231.17 Q655.587 1232.13 657.344 1234.33 Q659.124 1236.53 660.435 1239.22 Q663.597 1245.76 663.597 1254.19 Q663.597 1262.29 660.576 1268.83 Q659.288 1271.57 657.484 1273.86 Q655.681 1276.16 654.486 1277.17 Q653.291 1278.17 652.94 1278.17 Q652.472 1278.17 652.472 1277.71 Z\" fill=\"#000000\" fill-rule=\"nonzero\" fill-opacity=\"1\" /><polyline clip-path=\"url(#clip900)\" style=\"stroke:#3da44d; stroke-linecap:round; stroke-linejoin:round; stroke-width:8; stroke-opacity:1; fill:none\" points=\"307.583,1318.47 450.27,1318.47 \"/>\n",
       "<path clip-path=\"url(#clip900)\" d=\"M496.185 1305.29 Q496.185 1305.62 495.974 1306.4 L491.383 1324.71 Q490.376 1328.79 487.097 1331.65 Q483.841 1334.5 480.141 1334.5 Q477.915 1334.5 476.487 1333.31 Q475.058 1332.14 475.058 1330.33 Q475.058 1328.74 475.901 1327.97 Q476.744 1327.22 477.752 1327.22 Q478.079 1327.22 478.431 1327.31 Q478.782 1327.41 479.157 1327.8 Q479.532 1328.2 479.532 1328.88 Q479.532 1329.98 478.571 1330.85 Q478.103 1331.25 477.658 1331.34 Q477.236 1331.43 476.51 1331.43 Q476.791 1332.09 477.306 1332.54 Q477.822 1332.98 478.407 1333.14 Q478.993 1333.33 479.368 1333.38 Q479.766 1333.45 480.141 1333.45 Q483.139 1333.45 485.434 1330.43 Q486.113 1329.51 486.605 1328.6 Q487.12 1327.71 487.495 1326.61 Q487.87 1325.53 488.034 1324.95 Q488.221 1324.36 488.549 1323.03 Q486.371 1325.2 483.701 1325.2 Q482.577 1325.2 481.569 1324.9 Q480.586 1324.6 479.719 1323.96 Q478.852 1323.31 478.337 1322.16 Q477.845 1321.01 477.845 1319.49 Q477.845 1317.87 478.478 1315.67 Q479.11 1313.47 480.632 1309.42 Q481.452 1307.15 481.452 1306.04 Q481.452 1305.51 481.335 1305.18 Q481.218 1304.83 480.984 1304.71 Q480.75 1304.57 480.609 1304.55 Q480.492 1304.52 480.258 1304.52 Q478.876 1304.52 477.588 1305.93 Q476.299 1307.33 475.409 1310.47 Q475.222 1311.06 475.105 1311.2 Q474.988 1311.34 474.636 1311.34 Q474.051 1311.31 474.051 1310.85 Q474.051 1310.66 474.262 1309.93 Q474.472 1309.18 474.964 1308.08 Q475.48 1306.96 476.182 1305.95 Q476.885 1304.92 477.986 1304.19 Q479.11 1303.47 480.398 1303.47 Q482.155 1303.47 483.232 1304.62 Q484.333 1305.74 484.333 1307.4 Q484.333 1308.08 484.146 1308.69 Q483.982 1309.28 483.373 1310.85 Q480.914 1317.17 480.914 1320.26 Q480.914 1321.01 481.031 1321.64 Q481.171 1322.25 481.476 1322.86 Q481.78 1323.45 482.389 1323.8 Q483.022 1324.13 483.888 1324.13 Q484.989 1324.13 486.02 1323.61 Q487.074 1323.07 487.729 1322.35 Q488.409 1321.62 488.807 1321.01 Q489.228 1320.38 489.322 1320.05 L491.477 1311.43 L492.437 1307.59 Q492.882 1305.51 493.093 1304.99 Q493.374 1304.5 493.866 1304.24 Q494.358 1303.98 494.78 1303.98 Q495.365 1303.98 495.763 1304.33 Q496.185 1304.69 496.185 1305.29 Z\" fill=\"#000000\" fill-rule=\"nonzero\" fill-opacity=\"1\" /><path clip-path=\"url(#clip900)\" d=\"M510.618 1317.38 Q510.665 1316.8 511.579 1316.8 L540.974 1316.8 Q542.356 1316.8 542.379 1317.33 Q542.379 1317.92 541.068 1317.9 L511.907 1317.9 Q510.618 1317.92 510.618 1317.38 M510.618 1308.01 Q510.618 1307.43 511.626 1307.45 L540.927 1307.45 Q542.356 1307.45 542.379 1308.01 Q542.379 1308.55 541.161 1308.55 L511.579 1308.55 Q510.618 1308.55 510.618 1308.01 Z\" fill=\"#000000\" fill-rule=\"nonzero\" fill-opacity=\"1\" /><path clip-path=\"url(#clip900)\" d=\"M585.932 1311.13 Q585.932 1314.55 584.199 1317.85 Q582.489 1321.15 579.795 1323.19 Q577.102 1325.2 574.361 1325.2 Q572.722 1325.2 571.621 1324.31 Q570.544 1323.4 569.958 1322.11 Q569.513 1323.7 568.553 1327.52 Q567.592 1331.34 567.592 1331.72 Q567.592 1331.93 567.639 1332.02 Q567.686 1332.11 567.897 1332.23 Q568.108 1332.37 568.623 1332.42 Q569.138 1332.49 570.005 1332.49 Q570.45 1332.49 570.614 1332.49 Q570.801 1332.51 570.965 1332.63 Q571.153 1332.75 571.153 1333 Q571.153 1333.96 570.286 1333.96 Q569.513 1333.96 567.92 1333.89 Q566.328 1333.82 565.531 1333.82 Q564.852 1333.82 563.493 1333.89 Q562.135 1333.96 561.503 1333.96 Q560.87 1333.96 560.87 1333.4 Q560.87 1333.07 560.964 1332.86 Q561.034 1332.68 561.221 1332.58 Q561.409 1332.51 561.573 1332.49 Q561.713 1332.49 561.994 1332.49 Q563.072 1332.49 563.54 1332.3 Q564.009 1332.14 564.173 1331.79 Q564.36 1331.46 564.571 1330.52 L569.958 1309.16 Q570.286 1307.73 570.286 1306.72 Q570.286 1305.46 569.888 1304.99 Q569.49 1304.52 568.787 1304.52 Q567.569 1304.52 566.773 1305.97 Q565.976 1307.43 565.297 1310.24 Q565.086 1311.01 564.946 1311.17 Q564.829 1311.34 564.477 1311.34 Q563.892 1311.31 563.892 1310.85 Q563.892 1310.73 564.079 1309.98 Q564.266 1309.21 564.618 1308.08 Q564.992 1306.93 565.391 1306.21 Q565.625 1305.72 565.836 1305.39 Q566.046 1305.06 566.468 1304.55 Q566.913 1304.03 567.546 1303.75 Q568.178 1303.47 568.951 1303.47 Q570.45 1303.47 571.691 1304.36 Q572.933 1305.25 573.261 1307.05 Q574.596 1305.48 576.235 1304.48 Q577.875 1303.47 579.538 1303.47 Q582.302 1303.47 584.105 1305.62 Q585.932 1307.75 585.932 1311.13 M582.466 1309.02 Q582.466 1306.89 581.646 1305.72 Q580.849 1304.52 579.397 1304.52 Q577.594 1304.52 575.509 1306.35 Q573.448 1308.08 573.026 1309.7 L570.661 1319.09 L570.52 1319.86 Q570.52 1320 570.59 1320.43 Q570.684 1320.82 570.942 1321.48 Q571.223 1322.14 571.598 1322.72 Q571.996 1323.28 572.698 1323.7 Q573.425 1324.13 574.315 1324.13 Q575.743 1324.13 577.289 1322.86 Q578.859 1321.6 580.03 1319.21 Q580.756 1317.66 581.599 1314.34 Q582.466 1310.99 582.466 1309.02 Z\" fill=\"#000000\" fill-rule=\"nonzero\" fill-opacity=\"1\" /><path clip-path=\"url(#clip900)\" d=\"M590.803 1342.63 Q590.803 1341.63 591.376 1341.16 Q591.95 1340.68 592.688 1340.68 Q593.459 1340.68 594 1341.19 Q594.557 1341.68 594.557 1342.55 Q594.557 1343.48 593.901 1344.01 Q593.262 1344.53 592.344 1344.4 Q593.147 1345.75 594.623 1346.35 Q596.115 1346.96 597.492 1346.96 Q598.935 1346.96 600.099 1345.71 Q601.279 1344.47 601.279 1341.42 Q601.279 1338.83 600.263 1337.34 Q599.263 1335.84 597.279 1335.84 L595.803 1335.84 Q595.295 1335.84 595.147 1335.8 Q595 1335.75 595 1335.47 Q595 1335.14 595.508 1335.07 Q596.016 1335.07 596.82 1334.98 Q598.771 1334.91 599.804 1333.22 Q600.738 1331.65 600.738 1329.4 Q600.738 1327.35 599.755 1326.5 Q598.787 1325.63 597.525 1325.63 Q596.344 1325.63 595.049 1326.12 Q593.754 1326.61 593.049 1327.71 Q595.131 1327.71 595.131 1329.4 Q595.131 1330.14 594.656 1330.63 Q594.197 1331.11 593.426 1331.11 Q592.688 1331.11 592.196 1330.65 Q591.704 1330.17 591.704 1329.37 Q591.704 1327.45 593.41 1326.12 Q595.131 1324.79 597.656 1324.79 Q600.148 1324.79 601.984 1326.11 Q603.837 1327.42 603.837 1329.43 Q603.837 1331.42 602.526 1333.04 Q601.214 1334.66 599.132 1335.34 Q601.689 1335.84 603.214 1337.58 Q604.739 1339.3 604.739 1341.42 Q604.739 1344.04 602.673 1345.98 Q600.607 1347.9 597.59 1347.9 Q594.803 1347.9 592.803 1346.39 Q590.803 1344.88 590.803 1342.63 Z\" fill=\"#000000\" fill-rule=\"nonzero\" fill-opacity=\"1\" /><path clip-path=\"url(#clip900)\" d=\"M609.715 1312.67 Q609.715 1304.57 612.736 1298.03 Q614.025 1295.29 615.828 1293 Q617.632 1290.7 618.826 1289.7 Q620.021 1288.69 620.349 1288.69 Q620.817 1288.69 620.84 1289.16 Q620.84 1289.39 620.208 1289.98 Q612.479 1297.85 612.502 1312.67 Q612.502 1327.55 620.021 1335.11 Q620.84 1335.93 620.84 1336.19 Q620.84 1336.66 620.349 1336.66 Q620.021 1336.66 618.873 1335.7 Q617.725 1334.74 615.945 1332.54 Q614.165 1330.33 612.877 1327.64 Q609.715 1321.11 609.715 1312.67 Z\" fill=\"#000000\" fill-rule=\"nonzero\" fill-opacity=\"1\" /><path clip-path=\"url(#clip900)\" d=\"M648.373 1306.63 Q648.373 1307.94 647.553 1308.69 Q646.734 1309.42 645.797 1309.42 Q644.907 1309.42 644.438 1308.9 Q643.97 1308.39 643.97 1307.73 Q643.97 1306.84 644.626 1306.07 Q645.281 1305.29 646.265 1305.13 Q645.305 1304.52 643.876 1304.52 Q642.939 1304.52 642.119 1305.01 Q641.323 1305.51 640.831 1306.14 Q640.363 1306.77 639.941 1307.68 Q639.543 1308.57 639.379 1309.11 Q639.238 1309.63 639.121 1310.19 L637.482 1316.75 Q636.685 1319.86 636.685 1320.96 Q636.685 1322.32 637.341 1323.24 Q637.997 1324.13 639.309 1324.13 Q639.824 1324.13 640.41 1323.99 Q640.995 1323.82 641.745 1323.4 Q642.518 1322.96 643.197 1322.3 Q643.9 1321.62 644.579 1320.47 Q645.258 1319.33 645.703 1317.85 Q645.844 1317.33 646.312 1317.33 Q646.898 1317.33 646.898 1317.8 Q646.898 1318.2 646.57 1319.04 Q646.265 1319.86 645.586 1320.94 Q644.93 1322 644.063 1322.96 Q643.197 1323.89 641.909 1324.55 Q640.62 1325.2 639.215 1325.2 Q637.201 1325.2 635.866 1324.13 Q634.531 1323.05 634.039 1321.55 Q633.922 1321.76 633.758 1322.04 Q633.594 1322.32 633.102 1322.96 Q632.633 1323.56 632.095 1324.03 Q631.556 1324.48 630.713 1324.83 Q629.893 1325.2 629.003 1325.2 Q627.879 1325.2 626.871 1324.88 Q625.888 1324.55 625.185 1323.8 Q624.482 1323.05 624.482 1322.02 Q624.482 1320.87 625.255 1320.07 Q626.052 1319.25 627.129 1319.25 Q627.808 1319.25 628.347 1319.65 Q628.909 1320.05 628.909 1320.92 Q628.909 1321.88 628.253 1322.6 Q627.598 1323.33 626.661 1323.52 Q627.621 1324.13 629.05 1324.13 Q630.596 1324.13 631.814 1322.77 Q633.032 1321.41 633.617 1319.14 Q635.069 1313.68 635.631 1311.24 Q636.194 1308.78 636.194 1307.73 Q636.194 1306.75 635.936 1306.07 Q635.678 1305.39 635.233 1305.08 Q634.812 1304.76 634.413 1304.64 Q634.039 1304.52 633.617 1304.52 Q632.914 1304.52 632.118 1304.8 Q631.345 1305.08 630.408 1305.74 Q629.495 1306.37 628.628 1307.68 Q627.761 1309 627.176 1310.8 Q627.059 1311.34 626.544 1311.34 Q625.981 1311.31 625.981 1310.85 Q625.981 1310.45 626.286 1309.63 Q626.614 1308.78 627.27 1307.73 Q627.949 1306.68 628.815 1305.74 Q629.706 1304.78 630.994 1304.12 Q632.305 1303.47 633.711 1303.47 Q634.343 1303.47 634.952 1303.61 Q635.585 1303.73 636.334 1304.08 Q637.107 1304.43 637.786 1305.2 Q638.466 1305.97 638.887 1307.1 Q639.168 1306.56 639.543 1306.04 Q639.941 1305.53 640.55 1304.9 Q641.183 1304.24 642.049 1303.87 Q642.939 1303.47 643.923 1303.47 Q644.883 1303.47 645.82 1303.73 Q646.757 1303.96 647.553 1304.73 Q648.373 1305.48 648.373 1306.63 Z\" fill=\"#000000\" fill-rule=\"nonzero\" fill-opacity=\"1\" /><path clip-path=\"url(#clip900)\" d=\"M652.986 1336.19 Q652.986 1335.95 653.595 1335.37 Q661.324 1327.5 661.324 1312.67 Q661.324 1297.8 653.899 1290.28 Q652.986 1289.41 652.986 1289.16 Q652.986 1288.69 653.454 1288.69 Q653.782 1288.69 654.93 1289.65 Q656.101 1290.61 657.858 1292.81 Q659.638 1295.01 660.949 1297.71 Q664.111 1304.24 664.111 1312.67 Q664.111 1320.78 661.09 1327.31 Q659.802 1330.05 657.998 1332.35 Q656.195 1334.64 655 1335.65 Q653.806 1336.66 653.454 1336.66 Q652.986 1336.66 652.986 1336.19 Z\" fill=\"#000000\" fill-rule=\"nonzero\" fill-opacity=\"1\" /></svg>\n"
      ],
      "text/html": [
       "<?xml version=\"1.0\" encoding=\"utf-8\"?>\n",
       "<svg xmlns=\"http://www.w3.org/2000/svg\" xmlns:xlink=\"http://www.w3.org/1999/xlink\" width=\"600\" height=\"400\" viewBox=\"0 0 2400 1600\">\n",
       "<defs>\n",
       "  <clipPath id=\"clip950\">\n",
       "    <rect x=\"0\" y=\"0\" width=\"2400\" height=\"1600\"/>\n",
       "  </clipPath>\n",
       "</defs>\n",
       "<path clip-path=\"url(#clip950)\" d=\"M0 1600 L2400 1600 L2400 0 L0 0  Z\" fill=\"#ffffff\" fill-rule=\"evenodd\" fill-opacity=\"1\"/>\n",
       "<defs>\n",
       "  <clipPath id=\"clip951\">\n",
       "    <rect x=\"480\" y=\"0\" width=\"1681\" height=\"1600\"/>\n",
       "  </clipPath>\n",
       "</defs>\n",
       "<path clip-path=\"url(#clip950)\" d=\"M212.459 1423.18 L2352.76 1423.18 L2352.76 47.2441 L212.459 47.2441  Z\" fill=\"#ffffff\" fill-rule=\"evenodd\" fill-opacity=\"1\"/>\n",
       "<defs>\n",
       "  <clipPath id=\"clip952\">\n",
       "    <rect x=\"212\" y=\"47\" width=\"2141\" height=\"1377\"/>\n",
       "  </clipPath>\n",
       "</defs>\n",
       "<polyline clip-path=\"url(#clip952)\" style=\"stroke:#000000; stroke-linecap:round; stroke-linejoin:round; stroke-width:2; stroke-opacity:0.1; fill:none\" points=\"525.427,1423.18 525.427,47.2441 \"/>\n",
       "<polyline clip-path=\"url(#clip952)\" style=\"stroke:#000000; stroke-linecap:round; stroke-linejoin:round; stroke-width:2; stroke-opacity:0.1; fill:none\" points=\"1030.21,1423.18 1030.21,47.2441 \"/>\n",
       "<polyline clip-path=\"url(#clip952)\" style=\"stroke:#000000; stroke-linecap:round; stroke-linejoin:round; stroke-width:2; stroke-opacity:0.1; fill:none\" points=\"1535,1423.18 1535,47.2441 \"/>\n",
       "<polyline clip-path=\"url(#clip952)\" style=\"stroke:#000000; stroke-linecap:round; stroke-linejoin:round; stroke-width:2; stroke-opacity:0.1; fill:none\" points=\"2039.79,1423.18 2039.79,47.2441 \"/>\n",
       "<polyline clip-path=\"url(#clip952)\" style=\"stroke:#000000; stroke-linecap:round; stroke-linejoin:round; stroke-width:2; stroke-opacity:0.1; fill:none\" points=\"212.459,1423.18 2352.76,1423.18 \"/>\n",
       "<polyline clip-path=\"url(#clip952)\" style=\"stroke:#000000; stroke-linecap:round; stroke-linejoin:round; stroke-width:2; stroke-opacity:0.1; fill:none\" points=\"212.459,1079.2 2352.76,1079.2 \"/>\n",
       "<polyline clip-path=\"url(#clip952)\" style=\"stroke:#000000; stroke-linecap:round; stroke-linejoin:round; stroke-width:2; stroke-opacity:0.1; fill:none\" points=\"212.459,735.212 2352.76,735.212 \"/>\n",
       "<polyline clip-path=\"url(#clip952)\" style=\"stroke:#000000; stroke-linecap:round; stroke-linejoin:round; stroke-width:2; stroke-opacity:0.1; fill:none\" points=\"212.459,391.228 2352.76,391.228 \"/>\n",
       "<polyline clip-path=\"url(#clip952)\" style=\"stroke:#000000; stroke-linecap:round; stroke-linejoin:round; stroke-width:2; stroke-opacity:0.1; fill:none\" points=\"212.459,47.2441 2352.76,47.2441 \"/>\n",
       "<polyline clip-path=\"url(#clip950)\" style=\"stroke:#000000; stroke-linecap:round; stroke-linejoin:round; stroke-width:4; stroke-opacity:1; fill:none\" points=\"212.459,1423.18 2352.76,1423.18 \"/>\n",
       "<polyline clip-path=\"url(#clip950)\" style=\"stroke:#000000; stroke-linecap:round; stroke-linejoin:round; stroke-width:4; stroke-opacity:1; fill:none\" points=\"525.427,1423.18 525.427,1404.28 \"/>\n",
       "<polyline clip-path=\"url(#clip950)\" style=\"stroke:#000000; stroke-linecap:round; stroke-linejoin:round; stroke-width:4; stroke-opacity:1; fill:none\" points=\"1030.21,1423.18 1030.21,1404.28 \"/>\n",
       "<polyline clip-path=\"url(#clip950)\" style=\"stroke:#000000; stroke-linecap:round; stroke-linejoin:round; stroke-width:4; stroke-opacity:1; fill:none\" points=\"1535,1423.18 1535,1404.28 \"/>\n",
       "<polyline clip-path=\"url(#clip950)\" style=\"stroke:#000000; stroke-linecap:round; stroke-linejoin:round; stroke-width:4; stroke-opacity:1; fill:none\" points=\"2039.79,1423.18 2039.79,1404.28 \"/>\n",
       "<path clip-path=\"url(#clip950)\" d=\"M520.08 1481.64 L536.399 1481.64 L536.399 1485.58 L514.455 1485.58 L514.455 1481.64 Q517.117 1478.89 521.7 1474.26 Q526.306 1469.61 527.487 1468.27 Q529.732 1465.74 530.612 1464.01 Q531.515 1462.25 531.515 1460.56 Q531.515 1457.8 529.57 1456.07 Q527.649 1454.33 524.547 1454.33 Q522.348 1454.33 519.894 1455.09 Q517.464 1455.86 514.686 1457.41 L514.686 1452.69 Q517.51 1451.55 519.964 1450.97 Q522.418 1450.39 524.455 1450.39 Q529.825 1450.39 533.019 1453.08 Q536.214 1455.77 536.214 1460.26 Q536.214 1462.39 535.404 1464.31 Q534.617 1466.2 532.51 1468.8 Q531.931 1469.47 528.83 1472.69 Q525.728 1475.88 520.08 1481.64 Z\" fill=\"#000000\" fill-rule=\"nonzero\" fill-opacity=\"1\" /><path clip-path=\"url(#clip950)\" d=\"M1033.22 1455.09 L1021.42 1473.54 L1033.22 1473.54 L1033.22 1455.09 M1032 1451.02 L1037.88 1451.02 L1037.88 1473.54 L1042.81 1473.54 L1042.81 1477.43 L1037.88 1477.43 L1037.88 1485.58 L1033.22 1485.58 L1033.22 1477.43 L1017.62 1477.43 L1017.62 1472.92 L1032 1451.02 Z\" fill=\"#000000\" fill-rule=\"nonzero\" fill-opacity=\"1\" /><path clip-path=\"url(#clip950)\" d=\"M1535.41 1466.44 Q1532.26 1466.44 1530.41 1468.59 Q1528.58 1470.74 1528.58 1474.49 Q1528.58 1478.22 1530.41 1480.39 Q1532.26 1482.55 1535.41 1482.55 Q1538.55 1482.55 1540.38 1480.39 Q1542.23 1478.22 1542.23 1474.49 Q1542.23 1470.74 1540.38 1468.59 Q1538.55 1466.44 1535.41 1466.44 M1544.69 1451.78 L1544.69 1456.04 Q1542.93 1455.21 1541.12 1454.77 Q1539.34 1454.33 1537.58 1454.33 Q1532.95 1454.33 1530.5 1457.45 Q1528.07 1460.58 1527.72 1466.9 Q1529.09 1464.89 1531.15 1463.82 Q1533.21 1462.73 1535.68 1462.73 Q1540.89 1462.73 1543.9 1465.9 Q1546.93 1469.05 1546.93 1474.49 Q1546.93 1479.82 1543.79 1483.03 Q1540.64 1486.25 1535.41 1486.25 Q1529.41 1486.25 1526.24 1481.67 Q1523.07 1477.06 1523.07 1468.33 Q1523.07 1460.14 1526.96 1455.28 Q1530.85 1450.39 1537.4 1450.39 Q1539.16 1450.39 1540.94 1450.74 Q1542.74 1451.09 1544.69 1451.78 Z\" fill=\"#000000\" fill-rule=\"nonzero\" fill-opacity=\"1\" /><path clip-path=\"url(#clip950)\" d=\"M2039.79 1469.17 Q2036.45 1469.17 2034.53 1470.95 Q2032.64 1472.73 2032.64 1475.86 Q2032.64 1478.98 2034.53 1480.77 Q2036.45 1482.55 2039.79 1482.55 Q2043.12 1482.55 2045.04 1480.77 Q2046.96 1478.96 2046.96 1475.86 Q2046.96 1472.73 2045.04 1470.95 Q2043.14 1469.17 2039.79 1469.17 M2035.11 1467.18 Q2032.1 1466.44 2030.41 1464.38 Q2028.75 1462.32 2028.75 1459.35 Q2028.75 1455.21 2031.69 1452.8 Q2034.65 1450.39 2039.79 1450.39 Q2044.95 1450.39 2047.89 1452.8 Q2050.83 1455.21 2050.83 1459.35 Q2050.83 1462.32 2049.14 1464.38 Q2047.47 1466.44 2044.49 1467.18 Q2047.87 1467.96 2049.74 1470.26 Q2051.64 1472.55 2051.64 1475.86 Q2051.64 1480.88 2048.56 1483.57 Q2045.51 1486.25 2039.79 1486.25 Q2034.07 1486.25 2030.99 1483.57 Q2027.94 1480.88 2027.94 1475.86 Q2027.94 1472.55 2029.83 1470.26 Q2031.73 1467.96 2035.11 1467.18 M2033.4 1459.79 Q2033.4 1462.48 2035.07 1463.98 Q2036.76 1465.49 2039.79 1465.49 Q2042.8 1465.49 2044.49 1463.98 Q2046.2 1462.48 2046.2 1459.79 Q2046.2 1457.11 2044.49 1455.6 Q2042.8 1454.1 2039.79 1454.1 Q2036.76 1454.1 2035.07 1455.6 Q2033.4 1457.11 2033.4 1459.79 Z\" fill=\"#000000\" fill-rule=\"nonzero\" fill-opacity=\"1\" /><path clip-path=\"url(#clip950)\" d=\"M1296.78 1528.8 Q1296.78 1530.61 1295.65 1531.64 Q1294.53 1532.64 1293.24 1532.64 Q1292.01 1532.64 1291.37 1531.93 Q1290.73 1531.22 1290.73 1530.32 Q1290.73 1529.09 1291.63 1528.03 Q1292.53 1526.97 1293.88 1526.74 Q1292.56 1525.91 1290.6 1525.91 Q1289.31 1525.91 1288.18 1526.58 Q1287.09 1527.26 1286.41 1528.13 Q1285.77 1529 1285.19 1530.25 Q1284.64 1531.48 1284.41 1532.22 Q1284.22 1532.93 1284.06 1533.7 L1281.81 1542.72 Q1280.71 1547 1280.71 1548.51 Q1280.71 1550.38 1281.61 1551.64 Q1282.51 1552.86 1284.32 1552.86 Q1285.03 1552.86 1285.83 1552.67 Q1286.64 1552.44 1287.67 1551.86 Q1288.73 1551.25 1289.66 1550.35 Q1290.63 1549.42 1291.56 1547.84 Q1292.5 1546.26 1293.11 1544.23 Q1293.3 1543.52 1293.95 1543.52 Q1294.75 1543.52 1294.75 1544.17 Q1294.75 1544.71 1294.3 1545.87 Q1293.88 1547 1292.95 1548.48 Q1292.05 1549.93 1290.85 1551.25 Q1289.66 1552.54 1287.89 1553.44 Q1286.12 1554.34 1284.19 1554.34 Q1281.42 1554.34 1279.58 1552.86 Q1277.75 1551.38 1277.07 1549.32 Q1276.91 1549.61 1276.68 1550 Q1276.46 1550.38 1275.78 1551.25 Q1275.14 1552.09 1274.4 1552.73 Q1273.66 1553.34 1272.5 1553.83 Q1271.37 1554.34 1270.15 1554.34 Q1268.6 1554.34 1267.22 1553.89 Q1265.86 1553.44 1264.9 1552.41 Q1263.93 1551.38 1263.93 1549.96 Q1263.93 1548.38 1264.99 1547.29 Q1266.09 1546.16 1267.57 1546.16 Q1268.5 1546.16 1269.24 1546.71 Q1270.02 1547.26 1270.02 1548.45 Q1270.02 1549.77 1269.12 1550.77 Q1268.21 1551.77 1266.93 1552.02 Q1268.25 1552.86 1270.21 1552.86 Q1272.34 1552.86 1274.01 1550.99 Q1275.69 1549.13 1276.49 1546 Q1278.49 1538.5 1279.26 1535.15 Q1280.03 1531.77 1280.03 1530.32 Q1280.03 1528.96 1279.68 1528.03 Q1279.33 1527.1 1278.71 1526.68 Q1278.13 1526.23 1277.59 1526.07 Q1277.07 1525.91 1276.49 1525.91 Q1275.52 1525.91 1274.43 1526.29 Q1273.37 1526.68 1272.08 1527.58 Q1270.82 1528.45 1269.63 1530.25 Q1268.44 1532.06 1267.63 1534.54 Q1267.47 1535.28 1266.76 1535.28 Q1265.99 1535.24 1265.99 1534.6 Q1265.99 1534.05 1266.41 1532.93 Q1266.86 1531.77 1267.76 1530.32 Q1268.7 1528.87 1269.89 1527.58 Q1271.11 1526.26 1272.88 1525.36 Q1274.69 1524.46 1276.62 1524.46 Q1277.49 1524.46 1278.33 1524.65 Q1279.2 1524.81 1280.23 1525.29 Q1281.29 1525.78 1282.22 1526.84 Q1283.16 1527.9 1283.74 1529.45 Q1284.12 1528.71 1284.64 1528 Q1285.19 1527.29 1286.02 1526.42 Q1286.89 1525.52 1288.09 1525 Q1289.31 1524.46 1290.66 1524.46 Q1291.98 1524.46 1293.27 1524.81 Q1294.56 1525.13 1295.65 1526.19 Q1296.78 1527.23 1296.78 1528.8 Z\" fill=\"#000000\" fill-rule=\"nonzero\" fill-opacity=\"1\" /><polyline clip-path=\"url(#clip950)\" style=\"stroke:#000000; stroke-linecap:round; stroke-linejoin:round; stroke-width:4; stroke-opacity:1; fill:none\" points=\"212.459,1423.18 212.459,47.2441 \"/>\n",
       "<polyline clip-path=\"url(#clip950)\" style=\"stroke:#000000; stroke-linecap:round; stroke-linejoin:round; stroke-width:4; stroke-opacity:1; fill:none\" points=\"212.459,1423.18 231.357,1423.18 \"/>\n",
       "<polyline clip-path=\"url(#clip950)\" style=\"stroke:#000000; stroke-linecap:round; stroke-linejoin:round; stroke-width:4; stroke-opacity:1; fill:none\" points=\"212.459,1079.2 231.357,1079.2 \"/>\n",
       "<polyline clip-path=\"url(#clip950)\" style=\"stroke:#000000; stroke-linecap:round; stroke-linejoin:round; stroke-width:4; stroke-opacity:1; fill:none\" points=\"212.459,735.212 231.357,735.212 \"/>\n",
       "<polyline clip-path=\"url(#clip950)\" style=\"stroke:#000000; stroke-linecap:round; stroke-linejoin:round; stroke-width:4; stroke-opacity:1; fill:none\" points=\"212.459,391.228 231.357,391.228 \"/>\n",
       "<polyline clip-path=\"url(#clip950)\" style=\"stroke:#000000; stroke-linecap:round; stroke-linejoin:round; stroke-width:4; stroke-opacity:1; fill:none\" points=\"212.459,47.2441 231.357,47.2441 \"/>\n",
       "<path clip-path=\"url(#clip950)\" d=\"M114.26 1423.63 L143.936 1423.63 L143.936 1427.57 L114.26 1427.57 L114.26 1423.63 Z\" fill=\"#000000\" fill-rule=\"nonzero\" fill-opacity=\"1\" /><path clip-path=\"url(#clip950)\" d=\"M166.876 1409.97 L155.07 1428.42 L166.876 1428.42 L166.876 1409.97 M165.649 1405.9 L171.528 1405.9 L171.528 1428.42 L176.459 1428.42 L176.459 1432.31 L171.528 1432.31 L171.528 1440.46 L166.876 1440.46 L166.876 1432.31 L151.274 1432.31 L151.274 1427.8 L165.649 1405.9 Z\" fill=\"#000000\" fill-rule=\"nonzero\" fill-opacity=\"1\" /><path clip-path=\"url(#clip950)\" d=\"M116.343 1079.65 L146.019 1079.65 L146.019 1083.58 L116.343 1083.58 L116.343 1079.65 Z\" fill=\"#000000\" fill-rule=\"nonzero\" fill-opacity=\"1\" /><path clip-path=\"url(#clip950)\" d=\"M160.14 1092.54 L176.459 1092.54 L176.459 1096.48 L154.515 1096.48 L154.515 1092.54 Q157.177 1089.79 161.76 1085.16 Q166.366 1080.5 167.547 1079.16 Q169.792 1076.64 170.672 1074.9 Q171.575 1073.14 171.575 1071.45 Q171.575 1068.7 169.63 1066.96 Q167.709 1065.23 164.607 1065.23 Q162.408 1065.23 159.954 1065.99 Q157.524 1066.75 154.746 1068.3 L154.746 1063.58 Q157.57 1062.45 160.024 1061.87 Q162.477 1061.29 164.515 1061.29 Q169.885 1061.29 173.079 1063.98 Q176.274 1066.66 176.274 1071.15 Q176.274 1073.28 175.464 1075.2 Q174.677 1077.1 172.57 1079.69 Q171.991 1080.36 168.889 1083.58 Q165.788 1086.78 160.14 1092.54 Z\" fill=\"#000000\" fill-rule=\"nonzero\" fill-opacity=\"1\" /><path clip-path=\"url(#clip950)\" d=\"M164.515 721.011 Q160.903 721.011 159.075 724.575 Q157.269 728.117 157.269 735.247 Q157.269 742.353 159.075 745.918 Q160.903 749.46 164.515 749.46 Q168.149 749.46 169.954 745.918 Q171.783 742.353 171.783 735.247 Q171.783 728.117 169.954 724.575 Q168.149 721.011 164.515 721.011 M164.515 717.307 Q170.325 717.307 173.38 721.913 Q176.459 726.497 176.459 735.247 Q176.459 743.973 173.38 748.58 Q170.325 753.163 164.515 753.163 Q158.704 753.163 155.626 748.58 Q152.57 743.973 152.57 735.247 Q152.57 726.497 155.626 721.913 Q158.704 717.307 164.515 717.307 Z\" fill=\"#000000\" fill-rule=\"nonzero\" fill-opacity=\"1\" /><path clip-path=\"url(#clip950)\" d=\"M160.14 404.573 L176.459 404.573 L176.459 408.508 L154.515 408.508 L154.515 404.573 Q157.177 401.818 161.76 397.189 Q166.366 392.536 167.547 391.193 Q169.792 388.67 170.672 386.934 Q171.575 385.175 171.575 383.485 Q171.575 380.73 169.63 378.994 Q167.709 377.258 164.607 377.258 Q162.408 377.258 159.954 378.022 Q157.524 378.786 154.746 380.337 L154.746 375.615 Q157.57 374.48 160.024 373.902 Q162.477 373.323 164.515 373.323 Q169.885 373.323 173.079 376.008 Q176.274 378.693 176.274 383.184 Q176.274 385.314 175.464 387.235 Q174.677 389.133 172.57 391.726 Q171.991 392.397 168.889 395.615 Q165.788 398.809 160.14 404.573 Z\" fill=\"#000000\" fill-rule=\"nonzero\" fill-opacity=\"1\" /><path clip-path=\"url(#clip950)\" d=\"M166.876 34.0381 L155.07 52.4871 L166.876 52.4871 L166.876 34.0381 M165.649 29.9641 L171.528 29.9641 L171.528 52.4871 L176.459 52.4871 L176.459 56.376 L171.528 56.376 L171.528 64.5241 L166.876 64.5241 L166.876 56.376 L151.274 56.376 L151.274 51.8621 L165.649 29.9641 Z\" fill=\"#000000\" fill-rule=\"nonzero\" fill-opacity=\"1\" /><path clip-path=\"url(#clip950)\" d=\"M30.8561 720.775 Q31.307 720.775 32.3698 721.064 L57.5548 727.377 Q63.1586 728.762 67.0877 733.27 Q71.0168 737.747 71.0168 742.836 Q71.0168 745.895 69.3743 747.86 Q67.764 749.824 65.2842 749.824 Q63.0942 749.824 62.0314 748.665 Q61.0008 747.505 61.0008 746.121 Q61.0008 745.67 61.1296 745.187 Q61.2584 744.703 61.8059 744.188 Q62.3534 743.673 63.2874 743.673 Q64.8011 743.673 65.9927 744.993 Q66.5402 745.637 66.669 746.249 Q66.7978 746.829 66.7978 747.827 Q67.6996 747.441 68.3115 746.732 Q68.9234 746.024 69.1489 745.219 Q69.4065 744.414 69.4709 743.898 Q69.5675 743.351 69.5675 742.836 Q69.5675 738.713 65.413 735.557 Q64.157 734.623 62.9009 733.947 Q61.6771 733.238 60.1634 732.723 Q58.682 732.208 57.8768 731.982 Q57.0717 731.725 55.2359 731.274 Q58.2311 734.269 58.2311 737.94 Q58.2311 739.486 57.8124 740.871 Q57.3937 742.224 56.5242 743.415 Q55.6224 744.607 54.0443 745.315 Q52.4662 745.992 50.3728 745.992 Q48.1506 745.992 45.1233 745.122 Q42.0959 744.253 36.5243 742.159 Q33.4004 741.032 31.8867 741.032 Q31.146 741.032 30.6951 741.193 Q30.212 741.354 30.051 741.676 Q29.8577 741.998 29.8255 742.191 Q29.7933 742.352 29.7933 742.675 Q29.7933 744.575 31.7257 746.346 Q33.658 748.117 37.9736 749.341 Q38.7787 749.599 38.972 749.76 Q39.1652 749.921 39.1652 750.404 Q39.133 751.209 38.4889 751.209 Q38.2312 751.209 37.2329 750.919 Q36.2023 750.629 34.6886 749.953 Q33.1427 749.245 31.7579 748.278 Q30.3408 747.312 29.3424 745.798 Q28.344 744.253 28.344 742.481 Q28.344 740.066 29.9221 738.584 Q31.468 737.071 33.7546 737.071 Q34.6886 737.071 35.5259 737.328 Q36.3311 737.554 38.4889 738.391 Q47.1845 741.773 51.4356 741.773 Q52.4662 741.773 53.3358 741.612 Q54.1731 741.418 55.0105 741 Q55.8156 740.581 56.2987 739.744 Q56.7496 738.874 56.7496 737.683 Q56.7496 736.169 56.0411 734.752 Q55.3003 733.303 54.302 732.401 Q53.3036 731.467 52.4662 730.919 Q51.5967 730.34 51.1458 730.211 L39.294 727.248 L34.0123 725.927 Q31.146 725.316 30.4374 725.026 Q29.7611 724.639 29.4068 723.963 Q29.0526 723.287 29.0526 722.707 Q29.0526 721.902 29.5357 721.354 Q30.0187 720.775 30.8561 720.775 Z\" fill=\"#000000\" fill-rule=\"nonzero\" fill-opacity=\"1\" /><polyline clip-path=\"url(#clip952)\" style=\"stroke:#009af9; stroke-linecap:round; stroke-linejoin:round; stroke-width:8; stroke-opacity:1; fill:none\" points=\"273.033,606.218 293.878,602.667 415.966,581.868 472.761,572.192 548.888,559.223 611.792,548.507 670.287,538.541 743.718,526.032 809.586,514.81 884.981,501.966 941.338,492.365 1013.42,480.085 1079.21,468.877 1154.09,456.121 1213.44,446.009 1287.19,433.446 1343.66,423.825 1423.28,410.26 1482.78,400.124 1550.45,388.596 1617.46,377.18 1691.19,364.62 1747.5,355.027 1818.56,342.92 1884.29,331.723 1952.07,320.176 2020.78,308.47 2092.52,296.248 2149.04,286.62 2277.74,264.694 2292.18,262.234 \"/>\n",
       "<polyline clip-path=\"url(#clip952)\" style=\"stroke:#e26f46; stroke-linecap:round; stroke-linejoin:round; stroke-width:8; stroke-opacity:1; fill:none\" points=\"273.033,928.703 283.456,911.057 293.878,893.631 324.4,843.865 354.922,795.986 385.444,749.992 415.966,705.886 444.364,666.543 472.761,628.833 510.825,580.849 548.888,535.799 580.34,500.787 611.792,467.779 641.04,438.882 670.287,411.717 707.003,380.067 743.718,351.147 776.652,327.529 809.586,306.106 847.283,284.281 884.981,265.334 913.159,253.05 941.338,242.374 977.379,231.063 1013.42,222.383 1046.32,216.755 1079.21,213.32 1116.65,212.075 1154.09,213.669 1183.77,216.949 1213.44,222.013 1250.32,230.788 1287.19,242.317 1315.42,253.007 1343.66,265.312 1383.47,285.403 1423.28,308.704 1453.03,328.211 1482.78,349.511 1516.62,375.911 1550.45,404.629 1583.96,435.354 1617.46,468.353 1654.32,507.283 1691.19,548.966 1719.34,582.657 1747.5,617.954 1783.03,664.787 1818.56,714.176 1851.42,762.132 1884.29,812.274 1918.18,866.278 1952.07,922.608 1986.43,982.079 2020.78,1043.94 2056.65,1111.08 2092.52,1180.83 2120.78,1237.61 2149.04,1296.01 2181.21,1364.47 2213.39,1435.03 2245.57,1507.69 2277.74,1582.44 2281.35,1590.96 2284.96,1599.5 2288.57,1608.07 2292.18,1616.67 \"/>\n",
       "<polyline clip-path=\"url(#clip952)\" style=\"stroke:#3da44d; stroke-linecap:round; stroke-linejoin:round; stroke-width:8; stroke-opacity:1; fill:none\" points=\"273.033,1143.69 278.245,1128.09 283.456,1112.65 288.667,1097.38 293.878,1082.27 309.139,1038.94 324.4,996.987 339.661,956.382 354.922,917.11 370.183,879.15 385.444,842.484 400.705,807.093 415.966,772.957 430.165,742.309 444.364,712.715 458.563,684.162 472.761,656.633 491.793,621.315 510.825,587.773 529.857,555.971 548.888,525.872 564.614,502.26 580.34,479.764 596.066,458.363 611.792,438.038 626.416,420.085 641.04,403.026 655.663,386.845 670.287,371.526 688.645,353.488 707.003,336.749 725.36,321.275 743.718,307.033 760.185,295.279 776.652,284.465 793.119,274.568 809.586,265.565 828.435,256.324 847.283,248.186 866.132,241.115 884.981,235.075 913.159,227.891 941.338,222.812 959.359,220.613 977.379,219.194 995.4,218.524 1013.42,218.572 1046.32,220.409 1079.21,224.344 1116.65,231.133 1154.09,240.112 1183.77,248.601 1213.44,258.149 1287.19,285.561 1343.66,309.058 1423.28,343.851 1482.78,369.678 1516.62,383.812 1550.45,397.285 1583.96,409.775 1617.46,421.212 1654.32,432.34 1691.19,441.684 1719.34,447.453 1747.5,451.905 1783.03,455.458 1818.56,456.484 1834.99,456.038 1851.42,454.976 1867.86,453.275 1884.29,450.911 1901.23,447.754 1918.18,443.84 1935.13,439.143 1952.07,433.639 1969.25,427.208 1986.43,419.892 2003.6,411.665 2020.78,402.499 2038.71,391.897 2056.65,380.211 2074.59,367.41 2092.52,353.464 2106.65,341.651 2120.78,329.093 2134.91,315.775 2149.04,301.682 2165.13,284.671 2181.21,266.613 2197.3,247.486 2213.39,227.267 2229.48,205.935 2245.57,183.466 2261.65,159.839 2277.74,135.031 2281.35,129.3 2284.96,123.508 2288.57,117.655 2292.18,111.741 \"/>\n",
       "<circle clip-path=\"url(#clip952)\" cx=\"525.427\" cy=\"563.22\" r=\"14.4\" fill=\"#ff0000\" fill-rule=\"evenodd\" fill-opacity=\"1\" stroke=\"#000000\" stroke-opacity=\"1\" stroke-width=\"3.2\"/>\n",
       "<circle clip-path=\"url(#clip952)\" cx=\"1535\" cy=\"391.228\" r=\"14.4\" fill=\"#ff0000\" fill-rule=\"evenodd\" fill-opacity=\"1\" stroke=\"#000000\" stroke-opacity=\"1\" stroke-width=\"3.2\"/>\n",
       "<circle clip-path=\"url(#clip952)\" cx=\"1030.21\" cy=\"219.236\" r=\"14.4\" fill=\"#ff0000\" fill-rule=\"evenodd\" fill-opacity=\"1\" stroke=\"#000000\" stroke-opacity=\"1\" stroke-width=\"3.2\"/>\n",
       "<circle clip-path=\"url(#clip952)\" cx=\"2039.79\" cy=\"391.228\" r=\"14.4\" fill=\"#ff0000\" fill-rule=\"evenodd\" fill-opacity=\"1\" stroke=\"#000000\" stroke-opacity=\"1\" stroke-width=\"3.2\"/>\n",
       "<path clip-path=\"url(#clip950)\" d=\"M283.802 1377.32 L695.182 1377.32 L695.182 1141.92 L283.802 1141.92  Z\" fill=\"#ffffff\" fill-rule=\"evenodd\" fill-opacity=\"1\"/>\n",
       "<polyline clip-path=\"url(#clip950)\" style=\"stroke:#000000; stroke-linecap:round; stroke-linejoin:round; stroke-width:4; stroke-opacity:1; fill:none\" points=\"283.802,1377.32 695.182,1377.32 695.182,1141.92 283.802,1141.92 283.802,1377.32 \"/>\n",
       "<polyline clip-path=\"url(#clip950)\" style=\"stroke:#009af9; stroke-linecap:round; stroke-linejoin:round; stroke-width:8; stroke-opacity:1; fill:none\" points=\"307.583,1200.77 450.27,1200.77 \"/>\n",
       "<path clip-path=\"url(#clip950)\" d=\"M496.185 1187.96 Q496.185 1188.29 495.974 1189.06 L491.383 1207.38 Q490.376 1211.45 487.097 1214.31 Q483.841 1217.17 480.141 1217.17 Q477.915 1217.17 476.487 1215.97 Q475.058 1214.8 475.058 1213 Q475.058 1211.41 475.901 1210.63 Q476.744 1209.88 477.752 1209.88 Q478.079 1209.88 478.431 1209.98 Q478.782 1210.07 479.157 1210.47 Q479.532 1210.87 479.532 1211.55 Q479.532 1212.65 478.571 1213.52 Q478.103 1213.91 477.658 1214.01 Q477.236 1214.1 476.51 1214.1 Q476.791 1214.76 477.306 1215.2 Q477.822 1215.65 478.407 1215.81 Q478.993 1216 479.368 1216.04 Q479.766 1216.12 480.141 1216.12 Q483.139 1216.12 485.434 1213.09 Q486.113 1212.18 486.605 1211.27 Q487.12 1210.38 487.495 1209.28 Q487.87 1208.2 488.034 1207.61 Q488.221 1207.03 488.549 1205.69 Q486.371 1207.87 483.701 1207.87 Q482.577 1207.87 481.569 1207.57 Q480.586 1207.26 479.719 1206.63 Q478.852 1205.97 478.337 1204.83 Q477.845 1203.68 477.845 1202.16 Q477.845 1200.54 478.478 1198.34 Q479.11 1196.14 480.632 1192.08 Q481.452 1189.81 481.452 1188.71 Q481.452 1188.17 481.335 1187.84 Q481.218 1187.49 480.984 1187.38 Q480.75 1187.24 480.609 1187.21 Q480.492 1187.19 480.258 1187.19 Q478.876 1187.19 477.588 1188.59 Q476.299 1190 475.409 1193.14 Q475.222 1193.72 475.105 1193.86 Q474.988 1194 474.636 1194 Q474.051 1193.98 474.051 1193.51 Q474.051 1193.33 474.262 1192.6 Q474.472 1191.85 474.964 1190.75 Q475.48 1189.62 476.182 1188.62 Q476.885 1187.59 477.986 1186.86 Q479.11 1186.13 480.398 1186.13 Q482.155 1186.13 483.232 1187.28 Q484.333 1188.41 484.333 1190.07 Q484.333 1190.75 484.146 1191.36 Q483.982 1191.94 483.373 1193.51 Q480.914 1199.84 480.914 1202.93 Q480.914 1203.68 481.031 1204.31 Q481.171 1204.92 481.476 1205.53 Q481.78 1206.11 482.389 1206.47 Q483.022 1206.79 483.888 1206.79 Q484.989 1206.79 486.02 1206.28 Q487.074 1205.74 487.729 1205.01 Q488.409 1204.29 488.807 1203.68 Q489.228 1203.05 489.322 1202.72 L491.477 1194.1 L492.437 1190.26 Q492.882 1188.17 493.093 1187.66 Q493.374 1187.16 493.866 1186.91 Q494.358 1186.65 494.78 1186.65 Q495.365 1186.65 495.763 1187 Q496.185 1187.35 496.185 1187.96 Z\" fill=\"#000000\" fill-rule=\"nonzero\" fill-opacity=\"1\" /><path clip-path=\"url(#clip950)\" d=\"M510.618 1200.05 Q510.665 1199.46 511.579 1199.46 L540.974 1199.46 Q542.356 1199.46 542.379 1200 Q542.379 1200.59 541.068 1200.56 L511.907 1200.56 Q510.618 1200.59 510.618 1200.05 M510.618 1190.68 Q510.618 1190.09 511.626 1190.12 L540.927 1190.12 Q542.356 1190.12 542.379 1190.68 Q542.379 1191.22 541.161 1191.22 L511.579 1191.22 Q510.618 1191.22 510.618 1190.68 Z\" fill=\"#000000\" fill-rule=\"nonzero\" fill-opacity=\"1\" /><path clip-path=\"url(#clip950)\" d=\"M585.932 1193.79 Q585.932 1197.21 584.199 1200.52 Q582.489 1203.82 579.795 1205.86 Q577.102 1207.87 574.361 1207.87 Q572.722 1207.87 571.621 1206.98 Q570.544 1206.07 569.958 1204.78 Q569.513 1206.37 568.553 1210.19 Q567.592 1214.01 567.592 1214.38 Q567.592 1214.59 567.639 1214.69 Q567.686 1214.78 567.897 1214.9 Q568.108 1215.04 568.623 1215.08 Q569.138 1215.15 570.005 1215.15 Q570.45 1215.15 570.614 1215.15 Q570.801 1215.18 570.965 1215.3 Q571.153 1215.41 571.153 1215.67 Q571.153 1216.63 570.286 1216.63 Q569.513 1216.63 567.92 1216.56 Q566.328 1216.49 565.531 1216.49 Q564.852 1216.49 563.493 1216.56 Q562.135 1216.63 561.503 1216.63 Q560.87 1216.63 560.87 1216.07 Q560.87 1215.74 560.964 1215.53 Q561.034 1215.34 561.221 1215.25 Q561.409 1215.18 561.573 1215.15 Q561.713 1215.15 561.994 1215.15 Q563.072 1215.15 563.54 1214.97 Q564.009 1214.8 564.173 1214.45 Q564.36 1214.12 564.571 1213.19 L569.958 1191.83 Q570.286 1190.4 570.286 1189.39 Q570.286 1188.13 569.888 1187.66 Q569.49 1187.19 568.787 1187.19 Q567.569 1187.19 566.773 1188.64 Q565.976 1190.09 565.297 1192.9 Q565.086 1193.68 564.946 1193.84 Q564.829 1194 564.477 1194 Q563.892 1193.98 563.892 1193.51 Q563.892 1193.4 564.079 1192.65 Q564.266 1191.87 564.618 1190.75 Q564.992 1189.6 565.391 1188.87 Q565.625 1188.38 565.836 1188.06 Q566.046 1187.73 566.468 1187.21 Q566.913 1186.7 567.546 1186.42 Q568.178 1186.13 568.951 1186.13 Q570.45 1186.13 571.691 1187.02 Q572.933 1187.91 573.261 1189.72 Q574.596 1188.15 576.235 1187.14 Q577.875 1186.13 579.538 1186.13 Q582.302 1186.13 584.105 1188.29 Q585.932 1190.42 585.932 1193.79 M582.466 1191.69 Q582.466 1189.55 581.646 1188.38 Q580.849 1187.19 579.397 1187.19 Q577.594 1187.19 575.509 1189.02 Q573.448 1190.75 573.026 1192.36 L570.661 1201.76 L570.52 1202.53 Q570.52 1202.67 570.59 1203.09 Q570.684 1203.49 570.942 1204.15 Q571.223 1204.8 571.598 1205.39 Q571.996 1205.95 572.698 1206.37 Q573.425 1206.79 574.315 1206.79 Q575.743 1206.79 577.289 1205.53 Q578.859 1204.26 580.03 1201.87 Q580.756 1200.33 581.599 1197 Q582.466 1193.65 582.466 1191.69 Z\" fill=\"#000000\" fill-rule=\"nonzero\" fill-opacity=\"1\" /><path clip-path=\"url(#clip950)\" d=\"M590.803 1210.66 L590.803 1209.61 Q594.836 1209.61 596.918 1207.46 Q597.492 1207.46 597.59 1207.59 Q597.689 1207.72 597.689 1208.33 L597.689 1227.17 Q597.689 1228.17 598.181 1228.48 Q598.673 1228.79 600.82 1228.79 L601.886 1228.79 L601.886 1229.82 Q600.706 1229.73 596.443 1229.73 Q592.18 1229.73 591.016 1229.82 L591.016 1228.79 L592.081 1228.79 Q594.197 1228.79 594.705 1228.5 Q595.213 1228.18 595.213 1227.17 L595.213 1209.77 Q593.459 1210.66 590.803 1210.66 Z\" fill=\"#000000\" fill-rule=\"nonzero\" fill-opacity=\"1\" /><path clip-path=\"url(#clip950)\" d=\"M606.893 1195.34 Q606.893 1187.24 609.914 1180.7 Q611.203 1177.96 613.006 1175.66 Q614.81 1173.37 616.004 1172.36 Q617.199 1171.35 617.527 1171.35 Q617.995 1171.35 618.019 1171.82 Q618.019 1172.06 617.386 1172.64 Q609.657 1180.51 609.68 1195.34 Q609.68 1210.21 617.199 1217.78 Q618.019 1218.6 618.019 1218.86 Q618.019 1219.32 617.527 1219.32 Q617.199 1219.32 616.051 1218.36 Q614.903 1217.4 613.123 1215.2 Q611.343 1213 610.055 1210.31 Q606.893 1203.77 606.893 1195.34 Z\" fill=\"#000000\" fill-rule=\"nonzero\" fill-opacity=\"1\" /><path clip-path=\"url(#clip950)\" d=\"M645.551 1189.3 Q645.551 1190.61 644.732 1191.36 Q643.912 1192.08 642.975 1192.08 Q642.085 1192.08 641.616 1191.57 Q641.148 1191.05 641.148 1190.4 Q641.148 1189.51 641.804 1188.73 Q642.46 1187.96 643.443 1187.8 Q642.483 1187.19 641.054 1187.19 Q640.117 1187.19 639.298 1187.68 Q638.501 1188.17 638.009 1188.8 Q637.541 1189.44 637.119 1190.35 Q636.721 1191.24 636.557 1191.78 Q636.417 1192.29 636.299 1192.86 L634.66 1199.41 Q633.864 1202.53 633.864 1203.63 Q633.864 1204.99 634.519 1205.9 Q635.175 1206.79 636.487 1206.79 Q637.002 1206.79 637.588 1206.65 Q638.173 1206.49 638.923 1206.07 Q639.696 1205.62 640.375 1204.97 Q641.078 1204.29 641.757 1203.14 Q642.436 1201.99 642.881 1200.52 Q643.022 1200 643.49 1200 Q644.076 1200 644.076 1200.47 Q644.076 1200.87 643.748 1201.71 Q643.443 1202.53 642.764 1203.61 Q642.108 1204.66 641.242 1205.62 Q640.375 1206.56 639.087 1207.21 Q637.799 1207.87 636.393 1207.87 Q634.379 1207.87 633.044 1206.79 Q631.709 1205.72 631.217 1204.22 Q631.1 1204.43 630.936 1204.71 Q630.772 1204.99 630.28 1205.62 Q629.811 1206.23 629.273 1206.7 Q628.734 1207.14 627.891 1207.5 Q627.071 1207.87 626.181 1207.87 Q625.057 1207.87 624.05 1207.54 Q623.066 1207.21 622.363 1206.47 Q621.66 1205.72 621.66 1204.68 Q621.66 1203.54 622.433 1202.74 Q623.23 1201.92 624.307 1201.92 Q624.986 1201.92 625.525 1202.32 Q626.087 1202.72 626.087 1203.58 Q626.087 1204.54 625.431 1205.27 Q624.776 1206 623.839 1206.18 Q624.799 1206.79 626.228 1206.79 Q627.774 1206.79 628.992 1205.43 Q630.21 1204.08 630.795 1201.8 Q632.247 1196.35 632.81 1193.91 Q633.372 1191.45 633.372 1190.4 Q633.372 1189.41 633.114 1188.73 Q632.856 1188.06 632.411 1187.75 Q631.99 1187.42 631.592 1187.31 Q631.217 1187.19 630.795 1187.19 Q630.093 1187.19 629.296 1187.47 Q628.523 1187.75 627.586 1188.41 Q626.673 1189.04 625.806 1190.35 Q624.94 1191.66 624.354 1193.47 Q624.237 1194 623.722 1194 Q623.159 1193.98 623.159 1193.51 Q623.159 1193.11 623.464 1192.29 Q623.792 1191.45 624.448 1190.4 Q625.127 1189.34 625.994 1188.41 Q626.884 1187.45 628.172 1186.79 Q629.484 1186.13 630.889 1186.13 Q631.521 1186.13 632.13 1186.27 Q632.763 1186.39 633.512 1186.74 Q634.285 1187.09 634.964 1187.87 Q635.644 1188.64 636.065 1189.76 Q636.346 1189.23 636.721 1188.71 Q637.119 1188.2 637.728 1187.56 Q638.361 1186.91 639.227 1186.53 Q640.117 1186.13 641.101 1186.13 Q642.061 1186.13 642.998 1186.39 Q643.935 1186.63 644.732 1187.4 Q645.551 1188.15 645.551 1189.3 Z\" fill=\"#000000\" fill-rule=\"nonzero\" fill-opacity=\"1\" /><path clip-path=\"url(#clip950)\" d=\"M650.164 1218.86 Q650.164 1218.62 650.773 1218.04 Q658.502 1210.17 658.502 1195.34 Q658.502 1180.47 651.077 1172.95 Q650.164 1172.08 650.164 1171.82 Q650.164 1171.35 650.632 1171.35 Q650.96 1171.35 652.108 1172.32 Q653.279 1173.28 655.036 1175.48 Q656.816 1177.68 658.128 1180.37 Q661.29 1186.91 661.29 1195.34 Q661.29 1203.44 658.268 1209.98 Q656.98 1212.72 655.176 1215.01 Q653.373 1217.31 652.178 1218.32 Q650.984 1219.32 650.632 1219.32 Q650.164 1219.32 650.164 1218.86 Z\" fill=\"#000000\" fill-rule=\"nonzero\" fill-opacity=\"1\" /><polyline clip-path=\"url(#clip950)\" style=\"stroke:#e26f46; stroke-linecap:round; stroke-linejoin:round; stroke-width:8; stroke-opacity:1; fill:none\" points=\"307.583,1259.62 450.27,1259.62 \"/>\n",
       "<path clip-path=\"url(#clip950)\" d=\"M496.185 1246.81 Q496.185 1247.14 495.974 1247.91 L491.383 1266.23 Q490.376 1270.3 487.097 1273.16 Q483.841 1276.02 480.141 1276.02 Q477.915 1276.02 476.487 1274.82 Q475.058 1273.65 475.058 1271.85 Q475.058 1270.26 475.901 1269.48 Q476.744 1268.73 477.752 1268.73 Q478.079 1268.73 478.431 1268.83 Q478.782 1268.92 479.157 1269.32 Q479.532 1269.72 479.532 1270.4 Q479.532 1271.5 478.571 1272.37 Q478.103 1272.76 477.658 1272.86 Q477.236 1272.95 476.51 1272.95 Q476.791 1273.61 477.306 1274.05 Q477.822 1274.5 478.407 1274.66 Q478.993 1274.85 479.368 1274.89 Q479.766 1274.97 480.141 1274.97 Q483.139 1274.97 485.434 1271.94 Q486.113 1271.03 486.605 1270.12 Q487.12 1269.23 487.495 1268.13 Q487.87 1267.05 488.034 1266.46 Q488.221 1265.88 488.549 1264.54 Q486.371 1266.72 483.701 1266.72 Q482.577 1266.72 481.569 1266.42 Q480.586 1266.11 479.719 1265.48 Q478.852 1264.82 478.337 1263.68 Q477.845 1262.53 477.845 1261.01 Q477.845 1259.39 478.478 1257.19 Q479.11 1254.99 480.632 1250.93 Q481.452 1248.66 481.452 1247.56 Q481.452 1247.02 481.335 1246.69 Q481.218 1246.34 480.984 1246.23 Q480.75 1246.09 480.609 1246.06 Q480.492 1246.04 480.258 1246.04 Q478.876 1246.04 477.588 1247.44 Q476.299 1248.85 475.409 1251.99 Q475.222 1252.57 475.105 1252.71 Q474.988 1252.85 474.636 1252.85 Q474.051 1252.83 474.051 1252.36 Q474.051 1252.18 474.262 1251.45 Q474.472 1250.7 474.964 1249.6 Q475.48 1248.47 476.182 1247.47 Q476.885 1246.44 477.986 1245.71 Q479.11 1244.98 480.398 1244.98 Q482.155 1244.98 483.232 1246.13 Q484.333 1247.26 484.333 1248.92 Q484.333 1249.6 484.146 1250.21 Q483.982 1250.79 483.373 1252.36 Q480.914 1258.69 480.914 1261.78 Q480.914 1262.53 481.031 1263.16 Q481.171 1263.77 481.476 1264.38 Q481.78 1264.96 482.389 1265.32 Q483.022 1265.64 483.888 1265.64 Q484.989 1265.64 486.02 1265.13 Q487.074 1264.59 487.729 1263.86 Q488.409 1263.14 488.807 1262.53 Q489.228 1261.9 489.322 1261.57 L491.477 1252.95 L492.437 1249.11 Q492.882 1247.02 493.093 1246.51 Q493.374 1246.01 493.866 1245.76 Q494.358 1245.5 494.78 1245.5 Q495.365 1245.5 495.763 1245.85 Q496.185 1246.2 496.185 1246.81 Z\" fill=\"#000000\" fill-rule=\"nonzero\" fill-opacity=\"1\" /><path clip-path=\"url(#clip950)\" d=\"M510.618 1258.9 Q510.665 1258.31 511.579 1258.31 L540.974 1258.31 Q542.356 1258.31 542.379 1258.85 Q542.379 1259.44 541.068 1259.41 L511.907 1259.41 Q510.618 1259.44 510.618 1258.9 M510.618 1249.53 Q510.618 1248.94 511.626 1248.97 L540.927 1248.97 Q542.356 1248.97 542.379 1249.53 Q542.379 1250.07 541.161 1250.07 L511.579 1250.07 Q510.618 1250.07 510.618 1249.53 Z\" fill=\"#000000\" fill-rule=\"nonzero\" fill-opacity=\"1\" /><path clip-path=\"url(#clip950)\" d=\"M585.932 1252.64 Q585.932 1256.06 584.199 1259.37 Q582.489 1262.67 579.795 1264.71 Q577.102 1266.72 574.361 1266.72 Q572.722 1266.72 571.621 1265.83 Q570.544 1264.92 569.958 1263.63 Q569.513 1265.22 568.553 1269.04 Q567.592 1272.86 567.592 1273.23 Q567.592 1273.44 567.639 1273.54 Q567.686 1273.63 567.897 1273.75 Q568.108 1273.89 568.623 1273.93 Q569.138 1274 570.005 1274 Q570.45 1274 570.614 1274 Q570.801 1274.03 570.965 1274.15 Q571.153 1274.26 571.153 1274.52 Q571.153 1275.48 570.286 1275.48 Q569.513 1275.48 567.92 1275.41 Q566.328 1275.34 565.531 1275.34 Q564.852 1275.34 563.493 1275.41 Q562.135 1275.48 561.503 1275.48 Q560.87 1275.48 560.87 1274.92 Q560.87 1274.59 560.964 1274.38 Q561.034 1274.19 561.221 1274.1 Q561.409 1274.03 561.573 1274 Q561.713 1274 561.994 1274 Q563.072 1274 563.54 1273.82 Q564.009 1273.65 564.173 1273.3 Q564.36 1272.97 564.571 1272.04 L569.958 1250.68 Q570.286 1249.25 570.286 1248.24 Q570.286 1246.98 569.888 1246.51 Q569.49 1246.04 568.787 1246.04 Q567.569 1246.04 566.773 1247.49 Q565.976 1248.94 565.297 1251.75 Q565.086 1252.53 564.946 1252.69 Q564.829 1252.85 564.477 1252.85 Q563.892 1252.83 563.892 1252.36 Q563.892 1252.25 564.079 1251.5 Q564.266 1250.72 564.618 1249.6 Q564.992 1248.45 565.391 1247.72 Q565.625 1247.23 565.836 1246.91 Q566.046 1246.58 566.468 1246.06 Q566.913 1245.55 567.546 1245.27 Q568.178 1244.98 568.951 1244.98 Q570.45 1244.98 571.691 1245.87 Q572.933 1246.76 573.261 1248.57 Q574.596 1247 576.235 1245.99 Q577.875 1244.98 579.538 1244.98 Q582.302 1244.98 584.105 1247.14 Q585.932 1249.27 585.932 1252.64 M582.466 1250.54 Q582.466 1248.4 581.646 1247.23 Q580.849 1246.04 579.397 1246.04 Q577.594 1246.04 575.509 1247.87 Q573.448 1249.6 573.026 1251.21 L570.661 1260.61 L570.52 1261.38 Q570.52 1261.52 570.59 1261.94 Q570.684 1262.34 570.942 1263 Q571.223 1263.65 571.598 1264.24 Q571.996 1264.8 572.698 1265.22 Q573.425 1265.64 574.315 1265.64 Q575.743 1265.64 577.289 1264.38 Q578.859 1263.11 580.03 1260.72 Q580.756 1259.18 581.599 1255.85 Q582.466 1252.5 582.466 1250.54 Z\" fill=\"#000000\" fill-rule=\"nonzero\" fill-opacity=\"1\" /><path clip-path=\"url(#clip950)\" d=\"M590.803 1288.67 Q590.803 1288.07 590.852 1287.89 Q590.917 1287.71 591.18 1287.43 L597.623 1280.25 Q601.148 1276.28 601.148 1272.82 Q601.148 1270.57 599.968 1268.97 Q598.804 1267.36 596.656 1267.36 Q595.18 1267.36 593.934 1268.26 Q592.688 1269.16 592.114 1270.77 Q592.213 1270.74 592.557 1270.74 Q593.393 1270.74 593.852 1271.26 Q594.328 1271.79 594.328 1272.49 Q594.328 1273.39 593.737 1273.84 Q593.164 1274.26 592.59 1274.26 Q592.36 1274.26 592.049 1274.21 Q591.754 1274.16 591.278 1273.7 Q590.803 1273.23 590.803 1272.39 Q590.803 1270.05 592.573 1268.18 Q594.36 1266.31 597.082 1266.31 Q600.165 1266.31 602.181 1268.15 Q604.214 1269.97 604.214 1272.82 Q604.214 1273.82 603.903 1274.74 Q603.608 1275.64 603.198 1276.34 Q602.804 1277.05 601.722 1278.18 Q600.64 1279.31 599.771 1280.12 Q598.902 1280.92 596.951 1282.62 L593.393 1286.08 L599.443 1286.08 Q602.394 1286.08 602.624 1285.82 Q602.952 1285.35 603.362 1282.84 L604.214 1282.84 L603.263 1288.67 L590.803 1288.67 Z\" fill=\"#000000\" fill-rule=\"nonzero\" fill-opacity=\"1\" /><path clip-path=\"url(#clip950)\" d=\"M609.201 1254.19 Q609.201 1246.09 612.222 1239.55 Q613.51 1236.81 615.314 1234.51 Q617.118 1232.22 618.312 1231.21 Q619.507 1230.2 619.835 1230.2 Q620.303 1230.2 620.326 1230.67 Q620.326 1230.91 619.694 1231.49 Q611.965 1239.36 611.988 1254.19 Q611.988 1269.06 619.507 1276.63 Q620.326 1277.45 620.326 1277.71 Q620.326 1278.17 619.835 1278.17 Q619.507 1278.17 618.359 1277.21 Q617.211 1276.25 615.431 1274.05 Q613.651 1271.85 612.363 1269.16 Q609.201 1262.62 609.201 1254.19 Z\" fill=\"#000000\" fill-rule=\"nonzero\" fill-opacity=\"1\" /><path clip-path=\"url(#clip950)\" d=\"M647.859 1248.15 Q647.859 1249.46 647.039 1250.21 Q646.22 1250.93 645.283 1250.93 Q644.393 1250.93 643.924 1250.42 Q643.456 1249.9 643.456 1249.25 Q643.456 1248.36 644.112 1247.58 Q644.767 1246.81 645.751 1246.65 Q644.791 1246.04 643.362 1246.04 Q642.425 1246.04 641.605 1246.53 Q640.809 1247.02 640.317 1247.65 Q639.849 1248.29 639.427 1249.2 Q639.029 1250.09 638.865 1250.63 Q638.724 1251.14 638.607 1251.71 L636.968 1258.26 Q636.171 1261.38 636.171 1262.48 Q636.171 1263.84 636.827 1264.75 Q637.483 1265.64 638.795 1265.64 Q639.31 1265.64 639.896 1265.5 Q640.481 1265.34 641.231 1264.92 Q642.004 1264.47 642.683 1263.82 Q643.385 1263.14 644.065 1261.99 Q644.744 1260.84 645.189 1259.37 Q645.33 1258.85 645.798 1258.85 Q646.384 1258.85 646.384 1259.32 Q646.384 1259.72 646.056 1260.56 Q645.751 1261.38 645.072 1262.46 Q644.416 1263.51 643.549 1264.47 Q642.683 1265.41 641.395 1266.06 Q640.106 1266.72 638.701 1266.72 Q636.687 1266.72 635.352 1265.64 Q634.016 1264.57 633.525 1263.07 Q633.408 1263.28 633.244 1263.56 Q633.08 1263.84 632.588 1264.47 Q632.119 1265.08 631.581 1265.55 Q631.042 1265.99 630.199 1266.35 Q629.379 1266.72 628.489 1266.72 Q627.365 1266.72 626.357 1266.39 Q625.374 1266.06 624.671 1265.32 Q623.968 1264.57 623.968 1263.53 Q623.968 1262.39 624.741 1261.59 Q625.538 1260.77 626.615 1260.77 Q627.294 1260.77 627.833 1261.17 Q628.395 1261.57 628.395 1262.43 Q628.395 1263.39 627.739 1264.12 Q627.083 1264.85 626.147 1265.03 Q627.107 1265.64 628.536 1265.64 Q630.082 1265.64 631.299 1264.28 Q632.517 1262.93 633.103 1260.65 Q634.555 1255.2 635.117 1252.76 Q635.679 1250.3 635.679 1249.25 Q635.679 1248.26 635.422 1247.58 Q635.164 1246.91 634.719 1246.6 Q634.298 1246.27 633.899 1246.16 Q633.525 1246.04 633.103 1246.04 Q632.4 1246.04 631.604 1246.32 Q630.831 1246.6 629.894 1247.26 Q628.981 1247.89 628.114 1249.2 Q627.247 1250.51 626.662 1252.32 Q626.545 1252.85 626.029 1252.85 Q625.467 1252.83 625.467 1252.36 Q625.467 1251.96 625.772 1251.14 Q626.1 1250.3 626.756 1249.25 Q627.435 1248.19 628.301 1247.26 Q629.191 1246.3 630.48 1245.64 Q631.791 1244.98 633.197 1244.98 Q633.829 1244.98 634.438 1245.12 Q635.071 1245.24 635.82 1245.59 Q636.593 1245.94 637.272 1246.72 Q637.951 1247.49 638.373 1248.61 Q638.654 1248.08 639.029 1247.56 Q639.427 1247.05 640.036 1246.41 Q640.668 1245.76 641.535 1245.38 Q642.425 1244.98 643.409 1244.98 Q644.369 1244.98 645.306 1245.24 Q646.243 1245.48 647.039 1246.25 Q647.859 1247 647.859 1248.15 Z\" fill=\"#000000\" fill-rule=\"nonzero\" fill-opacity=\"1\" /><path clip-path=\"url(#clip950)\" d=\"M652.472 1277.71 Q652.472 1277.47 653.081 1276.89 Q660.81 1269.02 660.81 1254.19 Q660.81 1239.32 653.385 1231.8 Q652.472 1230.93 652.472 1230.67 Q652.472 1230.2 652.94 1230.2 Q653.268 1230.2 654.416 1231.17 Q655.587 1232.13 657.344 1234.33 Q659.124 1236.53 660.435 1239.22 Q663.597 1245.76 663.597 1254.19 Q663.597 1262.29 660.576 1268.83 Q659.288 1271.57 657.484 1273.86 Q655.681 1276.16 654.486 1277.17 Q653.291 1278.17 652.94 1278.17 Q652.472 1278.17 652.472 1277.71 Z\" fill=\"#000000\" fill-rule=\"nonzero\" fill-opacity=\"1\" /><polyline clip-path=\"url(#clip950)\" style=\"stroke:#3da44d; stroke-linecap:round; stroke-linejoin:round; stroke-width:8; stroke-opacity:1; fill:none\" points=\"307.583,1318.47 450.27,1318.47 \"/>\n",
       "<path clip-path=\"url(#clip950)\" d=\"M496.185 1305.29 Q496.185 1305.62 495.974 1306.4 L491.383 1324.71 Q490.376 1328.79 487.097 1331.65 Q483.841 1334.5 480.141 1334.5 Q477.915 1334.5 476.487 1333.31 Q475.058 1332.14 475.058 1330.33 Q475.058 1328.74 475.901 1327.97 Q476.744 1327.22 477.752 1327.22 Q478.079 1327.22 478.431 1327.31 Q478.782 1327.41 479.157 1327.8 Q479.532 1328.2 479.532 1328.88 Q479.532 1329.98 478.571 1330.85 Q478.103 1331.25 477.658 1331.34 Q477.236 1331.43 476.51 1331.43 Q476.791 1332.09 477.306 1332.54 Q477.822 1332.98 478.407 1333.14 Q478.993 1333.33 479.368 1333.38 Q479.766 1333.45 480.141 1333.45 Q483.139 1333.45 485.434 1330.43 Q486.113 1329.51 486.605 1328.6 Q487.12 1327.71 487.495 1326.61 Q487.87 1325.53 488.034 1324.95 Q488.221 1324.36 488.549 1323.03 Q486.371 1325.2 483.701 1325.2 Q482.577 1325.2 481.569 1324.9 Q480.586 1324.6 479.719 1323.96 Q478.852 1323.31 478.337 1322.16 Q477.845 1321.01 477.845 1319.49 Q477.845 1317.87 478.478 1315.67 Q479.11 1313.47 480.632 1309.42 Q481.452 1307.15 481.452 1306.04 Q481.452 1305.51 481.335 1305.18 Q481.218 1304.83 480.984 1304.71 Q480.75 1304.57 480.609 1304.55 Q480.492 1304.52 480.258 1304.52 Q478.876 1304.52 477.588 1305.93 Q476.299 1307.33 475.409 1310.47 Q475.222 1311.06 475.105 1311.2 Q474.988 1311.34 474.636 1311.34 Q474.051 1311.31 474.051 1310.85 Q474.051 1310.66 474.262 1309.93 Q474.472 1309.18 474.964 1308.08 Q475.48 1306.96 476.182 1305.95 Q476.885 1304.92 477.986 1304.19 Q479.11 1303.47 480.398 1303.47 Q482.155 1303.47 483.232 1304.62 Q484.333 1305.74 484.333 1307.4 Q484.333 1308.08 484.146 1308.69 Q483.982 1309.28 483.373 1310.85 Q480.914 1317.17 480.914 1320.26 Q480.914 1321.01 481.031 1321.64 Q481.171 1322.25 481.476 1322.86 Q481.78 1323.45 482.389 1323.8 Q483.022 1324.13 483.888 1324.13 Q484.989 1324.13 486.02 1323.61 Q487.074 1323.07 487.729 1322.35 Q488.409 1321.62 488.807 1321.01 Q489.228 1320.38 489.322 1320.05 L491.477 1311.43 L492.437 1307.59 Q492.882 1305.51 493.093 1304.99 Q493.374 1304.5 493.866 1304.24 Q494.358 1303.98 494.78 1303.98 Q495.365 1303.98 495.763 1304.33 Q496.185 1304.69 496.185 1305.29 Z\" fill=\"#000000\" fill-rule=\"nonzero\" fill-opacity=\"1\" /><path clip-path=\"url(#clip950)\" d=\"M510.618 1317.38 Q510.665 1316.8 511.579 1316.8 L540.974 1316.8 Q542.356 1316.8 542.379 1317.33 Q542.379 1317.92 541.068 1317.9 L511.907 1317.9 Q510.618 1317.92 510.618 1317.38 M510.618 1308.01 Q510.618 1307.43 511.626 1307.45 L540.927 1307.45 Q542.356 1307.45 542.379 1308.01 Q542.379 1308.55 541.161 1308.55 L511.579 1308.55 Q510.618 1308.55 510.618 1308.01 Z\" fill=\"#000000\" fill-rule=\"nonzero\" fill-opacity=\"1\" /><path clip-path=\"url(#clip950)\" d=\"M585.932 1311.13 Q585.932 1314.55 584.199 1317.85 Q582.489 1321.15 579.795 1323.19 Q577.102 1325.2 574.361 1325.2 Q572.722 1325.2 571.621 1324.31 Q570.544 1323.4 569.958 1322.11 Q569.513 1323.7 568.553 1327.52 Q567.592 1331.34 567.592 1331.72 Q567.592 1331.93 567.639 1332.02 Q567.686 1332.11 567.897 1332.23 Q568.108 1332.37 568.623 1332.42 Q569.138 1332.49 570.005 1332.49 Q570.45 1332.49 570.614 1332.49 Q570.801 1332.51 570.965 1332.63 Q571.153 1332.75 571.153 1333 Q571.153 1333.96 570.286 1333.96 Q569.513 1333.96 567.92 1333.89 Q566.328 1333.82 565.531 1333.82 Q564.852 1333.82 563.493 1333.89 Q562.135 1333.96 561.503 1333.96 Q560.87 1333.96 560.87 1333.4 Q560.87 1333.07 560.964 1332.86 Q561.034 1332.68 561.221 1332.58 Q561.409 1332.51 561.573 1332.49 Q561.713 1332.49 561.994 1332.49 Q563.072 1332.49 563.54 1332.3 Q564.009 1332.14 564.173 1331.79 Q564.36 1331.46 564.571 1330.52 L569.958 1309.16 Q570.286 1307.73 570.286 1306.72 Q570.286 1305.46 569.888 1304.99 Q569.49 1304.52 568.787 1304.52 Q567.569 1304.52 566.773 1305.97 Q565.976 1307.43 565.297 1310.24 Q565.086 1311.01 564.946 1311.17 Q564.829 1311.34 564.477 1311.34 Q563.892 1311.31 563.892 1310.85 Q563.892 1310.73 564.079 1309.98 Q564.266 1309.21 564.618 1308.08 Q564.992 1306.93 565.391 1306.21 Q565.625 1305.72 565.836 1305.39 Q566.046 1305.06 566.468 1304.55 Q566.913 1304.03 567.546 1303.75 Q568.178 1303.47 568.951 1303.47 Q570.45 1303.47 571.691 1304.36 Q572.933 1305.25 573.261 1307.05 Q574.596 1305.48 576.235 1304.48 Q577.875 1303.47 579.538 1303.47 Q582.302 1303.47 584.105 1305.62 Q585.932 1307.75 585.932 1311.13 M582.466 1309.02 Q582.466 1306.89 581.646 1305.72 Q580.849 1304.52 579.397 1304.52 Q577.594 1304.52 575.509 1306.35 Q573.448 1308.08 573.026 1309.7 L570.661 1319.09 L570.52 1319.86 Q570.52 1320 570.59 1320.43 Q570.684 1320.82 570.942 1321.48 Q571.223 1322.14 571.598 1322.72 Q571.996 1323.28 572.698 1323.7 Q573.425 1324.13 574.315 1324.13 Q575.743 1324.13 577.289 1322.86 Q578.859 1321.6 580.03 1319.21 Q580.756 1317.66 581.599 1314.34 Q582.466 1310.99 582.466 1309.02 Z\" fill=\"#000000\" fill-rule=\"nonzero\" fill-opacity=\"1\" /><path clip-path=\"url(#clip950)\" d=\"M590.803 1342.63 Q590.803 1341.63 591.376 1341.16 Q591.95 1340.68 592.688 1340.68 Q593.459 1340.68 594 1341.19 Q594.557 1341.68 594.557 1342.55 Q594.557 1343.48 593.901 1344.01 Q593.262 1344.53 592.344 1344.4 Q593.147 1345.75 594.623 1346.35 Q596.115 1346.96 597.492 1346.96 Q598.935 1346.96 600.099 1345.71 Q601.279 1344.47 601.279 1341.42 Q601.279 1338.83 600.263 1337.34 Q599.263 1335.84 597.279 1335.84 L595.803 1335.84 Q595.295 1335.84 595.147 1335.8 Q595 1335.75 595 1335.47 Q595 1335.14 595.508 1335.07 Q596.016 1335.07 596.82 1334.98 Q598.771 1334.91 599.804 1333.22 Q600.738 1331.65 600.738 1329.4 Q600.738 1327.35 599.755 1326.5 Q598.787 1325.63 597.525 1325.63 Q596.344 1325.63 595.049 1326.12 Q593.754 1326.61 593.049 1327.71 Q595.131 1327.71 595.131 1329.4 Q595.131 1330.14 594.656 1330.63 Q594.197 1331.11 593.426 1331.11 Q592.688 1331.11 592.196 1330.65 Q591.704 1330.17 591.704 1329.37 Q591.704 1327.45 593.41 1326.12 Q595.131 1324.79 597.656 1324.79 Q600.148 1324.79 601.984 1326.11 Q603.837 1327.42 603.837 1329.43 Q603.837 1331.42 602.526 1333.04 Q601.214 1334.66 599.132 1335.34 Q601.689 1335.84 603.214 1337.58 Q604.739 1339.3 604.739 1341.42 Q604.739 1344.04 602.673 1345.98 Q600.607 1347.9 597.59 1347.9 Q594.803 1347.9 592.803 1346.39 Q590.803 1344.88 590.803 1342.63 Z\" fill=\"#000000\" fill-rule=\"nonzero\" fill-opacity=\"1\" /><path clip-path=\"url(#clip950)\" d=\"M609.715 1312.67 Q609.715 1304.57 612.736 1298.03 Q614.025 1295.29 615.828 1293 Q617.632 1290.7 618.826 1289.7 Q620.021 1288.69 620.349 1288.69 Q620.817 1288.69 620.84 1289.16 Q620.84 1289.39 620.208 1289.98 Q612.479 1297.85 612.502 1312.67 Q612.502 1327.55 620.021 1335.11 Q620.84 1335.93 620.84 1336.19 Q620.84 1336.66 620.349 1336.66 Q620.021 1336.66 618.873 1335.7 Q617.725 1334.74 615.945 1332.54 Q614.165 1330.33 612.877 1327.64 Q609.715 1321.11 609.715 1312.67 Z\" fill=\"#000000\" fill-rule=\"nonzero\" fill-opacity=\"1\" /><path clip-path=\"url(#clip950)\" d=\"M648.373 1306.63 Q648.373 1307.94 647.553 1308.69 Q646.734 1309.42 645.797 1309.42 Q644.907 1309.42 644.438 1308.9 Q643.97 1308.39 643.97 1307.73 Q643.97 1306.84 644.626 1306.07 Q645.281 1305.29 646.265 1305.13 Q645.305 1304.52 643.876 1304.52 Q642.939 1304.52 642.119 1305.01 Q641.323 1305.51 640.831 1306.14 Q640.363 1306.77 639.941 1307.68 Q639.543 1308.57 639.379 1309.11 Q639.238 1309.63 639.121 1310.19 L637.482 1316.75 Q636.685 1319.86 636.685 1320.96 Q636.685 1322.32 637.341 1323.24 Q637.997 1324.13 639.309 1324.13 Q639.824 1324.13 640.41 1323.99 Q640.995 1323.82 641.745 1323.4 Q642.518 1322.96 643.197 1322.3 Q643.9 1321.62 644.579 1320.47 Q645.258 1319.33 645.703 1317.85 Q645.844 1317.33 646.312 1317.33 Q646.898 1317.33 646.898 1317.8 Q646.898 1318.2 646.57 1319.04 Q646.265 1319.86 645.586 1320.94 Q644.93 1322 644.063 1322.96 Q643.197 1323.89 641.909 1324.55 Q640.62 1325.2 639.215 1325.2 Q637.201 1325.2 635.866 1324.13 Q634.531 1323.05 634.039 1321.55 Q633.922 1321.76 633.758 1322.04 Q633.594 1322.32 633.102 1322.96 Q632.633 1323.56 632.095 1324.03 Q631.556 1324.48 630.713 1324.83 Q629.893 1325.2 629.003 1325.2 Q627.879 1325.2 626.871 1324.88 Q625.888 1324.55 625.185 1323.8 Q624.482 1323.05 624.482 1322.02 Q624.482 1320.87 625.255 1320.07 Q626.052 1319.25 627.129 1319.25 Q627.808 1319.25 628.347 1319.65 Q628.909 1320.05 628.909 1320.92 Q628.909 1321.88 628.253 1322.6 Q627.598 1323.33 626.661 1323.52 Q627.621 1324.13 629.05 1324.13 Q630.596 1324.13 631.814 1322.77 Q633.032 1321.41 633.617 1319.14 Q635.069 1313.68 635.631 1311.24 Q636.194 1308.78 636.194 1307.73 Q636.194 1306.75 635.936 1306.07 Q635.678 1305.39 635.233 1305.08 Q634.812 1304.76 634.413 1304.64 Q634.039 1304.52 633.617 1304.52 Q632.914 1304.52 632.118 1304.8 Q631.345 1305.08 630.408 1305.74 Q629.495 1306.37 628.628 1307.68 Q627.761 1309 627.176 1310.8 Q627.059 1311.34 626.544 1311.34 Q625.981 1311.31 625.981 1310.85 Q625.981 1310.45 626.286 1309.63 Q626.614 1308.78 627.27 1307.73 Q627.949 1306.68 628.815 1305.74 Q629.706 1304.78 630.994 1304.12 Q632.305 1303.47 633.711 1303.47 Q634.343 1303.47 634.952 1303.61 Q635.585 1303.73 636.334 1304.08 Q637.107 1304.43 637.786 1305.2 Q638.466 1305.97 638.887 1307.1 Q639.168 1306.56 639.543 1306.04 Q639.941 1305.53 640.55 1304.9 Q641.183 1304.24 642.049 1303.87 Q642.939 1303.47 643.923 1303.47 Q644.883 1303.47 645.82 1303.73 Q646.757 1303.96 647.553 1304.73 Q648.373 1305.48 648.373 1306.63 Z\" fill=\"#000000\" fill-rule=\"nonzero\" fill-opacity=\"1\" /><path clip-path=\"url(#clip950)\" d=\"M652.986 1336.19 Q652.986 1335.95 653.595 1335.37 Q661.324 1327.5 661.324 1312.67 Q661.324 1297.8 653.899 1290.28 Q652.986 1289.41 652.986 1289.16 Q652.986 1288.69 653.454 1288.69 Q653.782 1288.69 654.93 1289.65 Q656.101 1290.61 657.858 1292.81 Q659.638 1295.01 660.949 1297.71 Q664.111 1304.24 664.111 1312.67 Q664.111 1320.78 661.09 1327.31 Q659.802 1330.05 657.998 1332.35 Q656.195 1334.64 655 1335.65 Q653.806 1336.66 653.454 1336.66 Q652.986 1336.66 652.986 1336.19 Z\" fill=\"#000000\" fill-rule=\"nonzero\" fill-opacity=\"1\" /></svg>\n"
      ]
     },
     "execution_count": 15,
     "metadata": {},
     "output_type": "execute_result"
    }
   ],
   "source": [
    "using Plots, LaTeXStrings\n",
    "\n",
    "a, b = 1, 9\n",
    "\n",
    "plot(legend=:bottomleft, xlabel=L\"x\", ylabel=L\"y\", ylims=(-4,4), size=(600,400))\n",
    "plot!(p1, a, b, label=L\"y = p_1(x)\", lw=2)\n",
    "plot!(p2, a, b, label=L\"y = p_2(x)\", lw=2)\n",
    "plot!(p3, a, b, label=L\"y = p_3(x)\", lw=2)\n",
    "scatter!(x, y, c=:red, label=:none)"
   ]
  },
  {
   "cell_type": "markdown",
   "metadata": {},
   "source": [
    "---"
   ]
  },
  {
   "cell_type": "markdown",
   "metadata": {},
   "source": [
    "## Pros and cons of monomial interpolation\n",
    "\n",
    "Pros:\n",
    "\n",
    "1. **Simple**: just need to form $A$ and solve $Ac = y$\n",
    "\n",
    "2. **Evaluating $p(x)$ is fast**: about $2n$ flops to compute $p(x)$ using Horner's Rule\n",
    "\n",
    "Cons:\n",
    "\n",
    "1. **Constructing $p(x)$ is expensive**: about $\\frac{2}{3}n^3$ flops to solve $Ac = y$ using Gaussian elimination\n",
    "\n",
    "2. **Adding a new data point is expensive**: must form $A$ and solve $Ac = y$ again\n",
    "\n",
    "3. **Solving $Ac = y$ is often inaccurate**: the Vandermonde matrix is often ill-conditioned.\n",
    "\n"
   ]
  },
  {
   "cell_type": "markdown",
   "metadata": {},
   "source": [
    "---"
   ]
  }
 ],
 "metadata": {
  "kernelspec": {
   "display_name": "Julia 1.11.3",
   "language": "julia",
   "name": "julia-1.11"
  },
  "language_info": {
   "file_extension": ".jl",
   "mimetype": "application/julia",
   "name": "julia",
   "version": "1.11.3"
  }
 },
 "nbformat": 4,
 "nbformat_minor": 4
}
