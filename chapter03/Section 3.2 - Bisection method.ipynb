{
 "cells": [
  {
   "cell_type": "markdown",
   "metadata": {},
   "source": [
    "---\n",
    "# 3.2 Bisection method\n",
    "---"
   ]
  },
  {
   "cell_type": "markdown",
   "metadata": {},
   "source": [
    "Suppose $f \\in C[a,b]$ and that $f(a)$ and $f(b)$ have opposite signs; i.e.,\n",
    "\n",
    "$$\n",
    "f(a) \\cdot f(b) < 0.\n",
    "$$\n",
    "\n",
    "Recall the following important theorem from calculus.\n",
    "\n",
    "> ### Intermediate Value Theorem\n",
    ">\n",
    "> If $f \\in C[a,b]$ and $f(a) \\leq s \\leq f(b)$, then there exists a real number $c \\in [a,b]$ such that $f(c) = s$.\n",
    "\n",
    "Since $f$ changes sign over $[a,b]$, the Intermediate Value Theorem implies that there is some $x^* \\in [a,b]$ such that $f(x^*) = 0$.\n",
    "\n",
    "The **bisection method** searches for a root of $f$ in $[a,b]$ as follows.\n",
    "\n",
    "1. Let $p = (a+b)/2$ be the **midpoint** of $[a,b]$.\n",
    "2. If $f(a) \\cdot f(p) < 0$, then there is a root in $[a,p]$.\n",
    "3. If $f(a) \\cdot f(p) = 0$, then $p$ is a root.\n",
    "4. If $f(a) \\cdot f(p) > 0$, then there is a root in $[p,b]$.\n",
    "\n",
    "Each time we apply the above, we get a subinterval that contains a root that is **half the size** of the interval $[a,b]$."
   ]
  },
  {
   "cell_type": "code",
   "execution_count": null,
   "metadata": {},
   "outputs": [],
   "source": [
    "# Code the bisection method\n",
    "\n"
   ]
  },
  {
   "cell_type": "markdown",
   "metadata": {},
   "source": [
    "---"
   ]
  },
  {
   "cell_type": "markdown",
   "metadata": {},
   "source": [
    "### Example\n",
    "\n",
    "We will now use the above `bisect` function to find the root of\n",
    "\n",
    "$$\n",
    "f(x) = 2 \\cosh(x/4) - x\n",
    "$$\n",
    "\n",
    "that lies in the interval $[5,10]$."
   ]
  },
  {
   "cell_type": "code",
   "execution_count": null,
   "metadata": {},
   "outputs": [],
   "source": [
    "f(x) = 2cosh(x/4) - x\n",
    "a, b = 5.0, 10.0\n",
    "\n",
    "p = bisect(f, a, b, tol=0.0)\n",
    "p, f(p)"
   ]
  },
  {
   "cell_type": "markdown",
   "metadata": {},
   "source": [
    "---"
   ]
  },
  {
   "cell_type": "markdown",
   "metadata": {},
   "source": [
    "### Example\n",
    "\n",
    "Let's try to find the value of $y_0$ such that the solution $y(t)$ of the ordinary differential equation \n",
    "\n",
    "$$\n",
    "\\frac{dy}{dt} = t - 5 + \\frac{y^2}{100}\n",
    "$$\n",
    "\n",
    "with initial value $y(0) = y_0$ satisfies $y(10) = 20$."
   ]
  },
  {
   "cell_type": "code",
   "execution_count": null,
   "metadata": {},
   "outputs": [],
   "source": [
    "using OrdinaryDiffEq  # Package for solving ordinary differential equations\n",
    "using Plots, LaTeXStrings"
   ]
  },
  {
   "cell_type": "code",
   "execution_count": null,
   "metadata": {},
   "outputs": [],
   "source": [
    "f(y, p, t) = t - 5 + y^2/100\n",
    "\n",
    "function foo(y0)\n",
    "    tspan = (0.0, 10.0)\n",
    "    prob = ODEProblem(f, y0, tspan)\n",
    "    sol = solve(prob, Tsit5())\n",
    "end\n",
    "\n",
    "sol = foo(5.0)\n",
    "plot(sol)"
   ]
  },
  {
   "cell_type": "markdown",
   "metadata": {},
   "source": [
    "---"
   ]
  },
  {
   "cell_type": "markdown",
   "metadata": {},
   "source": [
    "## Analyzing the bisection method\n",
    "\n",
    "Initially, we know a root $x^*$ is somewhere in the interval $[a,b]$. If we let $x_k$ be the midpoint of the $k$th subinterval, then\n",
    "\n",
    "$$\\left|x^* - x_0\\right| \\leq \\frac{b-a}{2}.$$\n",
    "\n",
    "In the next iteration, \n",
    "\n",
    "$$\\left|x^* - x_1\\right| \\leq \\frac{b-a}{4},$$\n",
    "\n",
    "and in the following iteration,\n",
    "\n",
    "$$\\left|x^* - x_2\\right| \\leq \\frac{b-a}{8},$$\n",
    "\n",
    "and so on, each time reducing our error bound by a factor of $2$.\n",
    "\n",
    "In general,\n",
    "\n",
    "$$\\left|x^* - x_k\\right| \\leq \\frac{b-a}{2} \\cdot 2^{-k}, \n",
    "\\qquad \\text{for $k = 0,1,2,\\ldots$}.$$\n",
    "\n",
    "Suppose we want to compute $x_k$ such that \n",
    "\n",
    "$$\\left|x^* - x_k\\right| \\leq \\mathtt{atol}.$$\n",
    "\n",
    "Then we just need to find the smallest positive integer $k$ such that\n",
    "\n",
    "$$\\frac{b-a}{2} \\cdot 2^{-k} \\leq \\mathtt{atol}.$$\n",
    "\n",
    "That is,\n",
    "\n",
    "$$\\frac{b-a}{2\\mathtt{atol}} \\leq 2^k,$$\n",
    "\n",
    "which gives us\n",
    "\n",
    "$$\\log_2\\left(\\frac{b-a}{2\\mathtt{atol}}\\right) \\leq k,$$\n",
    "\n",
    "so we just need the first integer $k$ that is larger than $\\log_2\\left(\\frac{b-a}{2\\mathtt{atol}}\\right)$. Therefore, \n",
    "\n",
    "$$k = \\left\\lceil \\log_2\\left(\\frac{b-a}{2\\mathtt{atol}}\\right) \\right\\rceil.$$"
   ]
  },
  {
   "cell_type": "code",
   "execution_count": null,
   "metadata": {},
   "outputs": [],
   "source": [
    "atol = eps()\n",
    "a, b = 8.0, 11.0\n",
    "k = ceil(log2((b-a)/2atol))"
   ]
  },
  {
   "cell_type": "markdown",
   "metadata": {},
   "source": [
    "---"
   ]
  },
  {
   "cell_type": "markdown",
   "metadata": {},
   "source": [
    "## Pros and cons of the bisection method\n",
    "\n",
    "Pros:\n",
    "\n",
    "1. **Simple:** The bisection method only requires function values, is easy to understand and implement, and it is easy to analyze.\n",
    "\n",
    "2. **Robust:** The bisection method is guaranteed to work, provided that $f$ is continuous and changes sign on the interval $[a,b]$.\n",
    "\n",
    "Cons:\n",
    "\n",
    "1. **Slow to converge:** The bisection method often requires many function evaluations.\n",
    "\n",
    "2. **Does not generalize:** The bisection method only applies to solving equations involving one variable; it does not generalize to solving equations involving multiple variables.\n",
    "\n"
   ]
  },
  {
   "cell_type": "markdown",
   "metadata": {},
   "source": [
    "---"
   ]
  }
 ],
 "metadata": {
  "anaconda-cloud": {},
  "kernelspec": {
   "display_name": "Julia 1.11.3",
   "language": "julia",
   "name": "julia-1.11"
  },
  "language_info": {
   "file_extension": ".jl",
   "mimetype": "application/julia",
   "name": "julia",
   "version": "1.11.3"
  }
 },
 "nbformat": 4,
 "nbformat_minor": 4
}
